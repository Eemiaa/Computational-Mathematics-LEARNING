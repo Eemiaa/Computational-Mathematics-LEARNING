{
 "cells": [
  {
   "attachments": {},
   "cell_type": "markdown",
   "metadata": {},
   "source": [
    "# Importando as bibliotecas..."
   ]
  },
  {
   "cell_type": "code",
   "execution_count": 10,
   "metadata": {},
   "outputs": [],
   "source": [
    "import pandas as pd\n",
    "from __future__ import division \n",
    "\n",
    "import Solucao_de_sistemas_lineares.solucao_de_sistemas_lineares as sl"
   ]
  },
  {
   "attachments": {},
   "cell_type": "markdown",
   "metadata": {},
   "source": [
    "# Capítulo 4 - Solução de sistemas lineares"
   ]
  },
  {
   "cell_type": "code",
   "execution_count": 11,
   "metadata": {},
   "outputs": [
    {
     "data": {
      "text/html": [
       "<div>\n",
       "<style scoped>\n",
       "    .dataframe tbody tr th:only-of-type {\n",
       "        vertical-align: middle;\n",
       "    }\n",
       "\n",
       "    .dataframe tbody tr th {\n",
       "        vertical-align: top;\n",
       "    }\n",
       "\n",
       "    .dataframe thead th {\n",
       "        text-align: right;\n",
       "    }\n",
       "</style>\n",
       "<table border=\"1\" class=\"dataframe\">\n",
       "  <thead>\n",
       "    <tr style=\"text-align: right;\">\n",
       "      <th></th>\n",
       "      <th>0</th>\n",
       "      <th>1</th>\n",
       "      <th>2</th>\n",
       "      <th>3</th>\n",
       "      <th>4</th>\n",
       "      <th>5</th>\n",
       "      <th>6</th>\n",
       "      <th>7</th>\n",
       "      <th>8</th>\n",
       "      <th>9</th>\n",
       "    </tr>\n",
       "  </thead>\n",
       "  <tbody>\n",
       "    <tr>\n",
       "      <th>0</th>\n",
       "      <td>8</td>\n",
       "      <td>3</td>\n",
       "      <td>1</td>\n",
       "      <td>7</td>\n",
       "      <td>6</td>\n",
       "      <td>0</td>\n",
       "      <td>0</td>\n",
       "      <td>10</td>\n",
       "      <td>0</td>\n",
       "      <td>5</td>\n",
       "    </tr>\n",
       "    <tr>\n",
       "      <th>1</th>\n",
       "      <td>0</td>\n",
       "      <td>1</td>\n",
       "      <td>4</td>\n",
       "      <td>0</td>\n",
       "      <td>9</td>\n",
       "      <td>6</td>\n",
       "      <td>7</td>\n",
       "      <td>1</td>\n",
       "      <td>0</td>\n",
       "      <td>7</td>\n",
       "    </tr>\n",
       "    <tr>\n",
       "      <th>2</th>\n",
       "      <td>10</td>\n",
       "      <td>4</td>\n",
       "      <td>0</td>\n",
       "      <td>4</td>\n",
       "      <td>0</td>\n",
       "      <td>0</td>\n",
       "      <td>6</td>\n",
       "      <td>8</td>\n",
       "      <td>2</td>\n",
       "      <td>1</td>\n",
       "    </tr>\n",
       "    <tr>\n",
       "      <th>3</th>\n",
       "      <td>6</td>\n",
       "      <td>0</td>\n",
       "      <td>5</td>\n",
       "      <td>2</td>\n",
       "      <td>0</td>\n",
       "      <td>0</td>\n",
       "      <td>0</td>\n",
       "      <td>10</td>\n",
       "      <td>0</td>\n",
       "      <td>0</td>\n",
       "    </tr>\n",
       "    <tr>\n",
       "      <th>4</th>\n",
       "      <td>7</td>\n",
       "      <td>9</td>\n",
       "      <td>2</td>\n",
       "      <td>8</td>\n",
       "      <td>4</td>\n",
       "      <td>10</td>\n",
       "      <td>0</td>\n",
       "      <td>0</td>\n",
       "      <td>8</td>\n",
       "      <td>0</td>\n",
       "    </tr>\n",
       "    <tr>\n",
       "      <th>5</th>\n",
       "      <td>4</td>\n",
       "      <td>0</td>\n",
       "      <td>2</td>\n",
       "      <td>10</td>\n",
       "      <td>1</td>\n",
       "      <td>0</td>\n",
       "      <td>6</td>\n",
       "      <td>3</td>\n",
       "      <td>3</td>\n",
       "      <td>0</td>\n",
       "    </tr>\n",
       "    <tr>\n",
       "      <th>6</th>\n",
       "      <td>6</td>\n",
       "      <td>0</td>\n",
       "      <td>0</td>\n",
       "      <td>10</td>\n",
       "      <td>8</td>\n",
       "      <td>0</td>\n",
       "      <td>4</td>\n",
       "      <td>1</td>\n",
       "      <td>0</td>\n",
       "      <td>5</td>\n",
       "    </tr>\n",
       "    <tr>\n",
       "      <th>7</th>\n",
       "      <td>0</td>\n",
       "      <td>4</td>\n",
       "      <td>6</td>\n",
       "      <td>3</td>\n",
       "      <td>5</td>\n",
       "      <td>10</td>\n",
       "      <td>2</td>\n",
       "      <td>0</td>\n",
       "      <td>0</td>\n",
       "      <td>1</td>\n",
       "    </tr>\n",
       "    <tr>\n",
       "      <th>8</th>\n",
       "      <td>4</td>\n",
       "      <td>2</td>\n",
       "      <td>8</td>\n",
       "      <td>3</td>\n",
       "      <td>2</td>\n",
       "      <td>0</td>\n",
       "      <td>9</td>\n",
       "      <td>0</td>\n",
       "      <td>4</td>\n",
       "      <td>0</td>\n",
       "    </tr>\n",
       "    <tr>\n",
       "      <th>9</th>\n",
       "      <td>0</td>\n",
       "      <td>9</td>\n",
       "      <td>0</td>\n",
       "      <td>0</td>\n",
       "      <td>9</td>\n",
       "      <td>7</td>\n",
       "      <td>0</td>\n",
       "      <td>8</td>\n",
       "      <td>1</td>\n",
       "      <td>0</td>\n",
       "    </tr>\n",
       "  </tbody>\n",
       "</table>\n",
       "</div>"
      ],
      "text/plain": [
       "    0  1  2   3  4   5  6   7  8  9\n",
       "0   8  3  1   7  6   0  0  10  0  5\n",
       "1   0  1  4   0  9   6  7   1  0  7\n",
       "2  10  4  0   4  0   0  6   8  2  1\n",
       "3   6  0  5   2  0   0  0  10  0  0\n",
       "4   7  9  2   8  4  10  0   0  8  0\n",
       "5   4  0  2  10  1   0  6   3  3  0\n",
       "6   6  0  0  10  8   0  4   1  0  5\n",
       "7   0  4  6   3  5  10  2   0  0  1\n",
       "8   4  2  8   3  2   0  9   0  4  0\n",
       "9   0  9  0   0  9   7  0   8  1  0"
      ]
     },
     "execution_count": 11,
     "metadata": {},
     "output_type": "execute_result"
    }
   ],
   "source": [
    "dataf = pd.DataFrame(sl.gerarMatriz(10, 1))\n",
    "\n",
    "dataf\n"
   ]
  },
  {
   "attachments": {},
   "cell_type": "markdown",
   "metadata": {},
   "source": [
    "### Atividade 4"
   ]
  },
  {
   "attachments": {},
   "cell_type": "markdown",
   "metadata": {},
   "source": [
    "* Implemente todas as técnicas de solução de sistemas\n",
    "lineares vistas em aula e faça uma comparação entre elas\n",
    "para as seguintes situações:\n",
    "    * n = [10,1000,2000,3000, … , 20000]\n",
    "    * Sistemas esparsos (contém muitos zeros na matriz A) e sistemas densos (nenhum zero na matriz A)\n",
    "    \n",
    "\n",
    "* Gere sistemas lineares aleatórios que atendam essas\n",
    "condições\n",
    "\n",
    "* Mostre um gráfico para o tempo de execução e um com o\n",
    "número de iterações\n",
    "    * As linhas devem ser os algoritmos\n",
    "    * Um gráfico para sistemas esparsos e outro para os densos"
   ]
  },
  {
   "attachments": {},
   "cell_type": "markdown",
   "metadata": {},
   "source": [
    "### Eliminação Gaussiana (escalonamento)\n",
    "* método para resolver sistemas lineares\n",
    "* consiste em manipular o sistema através de determinadas operações elementares, transformando a matriz estendida do sistema em uma matriz triangular (chamada de matriz escalonada do sistema)"
   ]
  },
  {
   "cell_type": "code",
   "execution_count": 12,
   "metadata": {},
   "outputs": [
    {
     "name": "stdout",
     "output_type": "stream",
     "text": [
      "Data:\n",
      "      0    1     2        3\n",
      "0  1.0  1.0   1.0   0.0000\n",
      "1  0.0  9.0   0.0  25.0000\n",
      "2  0.0  0.0  10.0 -50.7778\n",
      "\n",
      "Iteracao:2\n",
      "\n",
      "Resultado:[-5.07778, 2.7777777777777777, 2.300002222222222]\n",
      " \n"
     ]
    }
   ],
   "source": [
    "#eliminação gaussiana com pivoteamento parcial:\n",
    "\n",
    "#1. definindo a matriz que irei trabalhar\n",
    "\n",
    "data = [[1,1,1,0],[0,1,10,-48],[1,10,1,25]]\n",
    "\n",
    "#2. executando o algoritmo de pivoteamento até conseguir um triangulo superior\n",
    "\n",
    "dataf, iteracao, resposta=sl.eliminacaoGaussianaParcial(data=data)\n",
    "print(\"Data:\\n {}\\n\\nIteracao:{}\\n\\nResultado:{}\\n \".format(dataf, iteracao, resposta))"
   ]
  },
  {
   "cell_type": "code",
   "execution_count": 13,
   "metadata": {},
   "outputs": [
    {
     "name": "stdout",
     "output_type": "stream",
     "text": [
      "Data:\n",
      "      0    1    2    3\n",
      "0  1.0  1.0  1.0  1.0\n",
      "1  0.0 -1.0 -3.0 -2.0\n",
      "2  0.0  0.0 -2.0 -2.0\n",
      "\n",
      "Iteracao:1\n",
      "\n",
      "Resultado:[1.0, -1.0, 1.0]\n",
      " \n"
     ]
    }
   ],
   "source": [
    "#eliminação gaussiana:\n",
    "\n",
    "#1. definindo a matriz que irei trabalhar\n",
    "\n",
    "data = [[1,1,1,1],[4,4,2,2],[2,1,-1,0]]\n",
    "\n",
    "#2. executando o algoritmo de pivoteamento até conseguir um triangulo superior\n",
    "\n",
    "dataf, iteracao, resposta = sl.eliminacaoGaussiana(data)\n",
    "print(\"Data:\\n {}\\n\\nIteracao:{}\\n\\nResultado:{}\\n \".format(dataf, iteracao, resposta))\n"
   ]
  },
  {
   "attachments": {},
   "cell_type": "markdown",
   "metadata": {},
   "source": [
    "### Decomposição LU (Lower Upper)"
   ]
  },
  {
   "cell_type": "code",
   "execution_count": 14,
   "metadata": {},
   "outputs": [
    {
     "name": "stdout",
     "output_type": "stream",
     "text": [
      "     0    1  2  3\n",
      "0  1.0  0.0  0 -2\n",
      "1  2.0  1.0  0  1\n",
      "2  2.0  3.0  1  3 \n",
      "\n",
      " [-2.0, 5.0, -8.0] \n",
      "\n",
      "\n",
      "   0    1    2    3\n",
      "0  1  1.0  1.0 -2.0\n",
      "1  0 -1.0 -3.0  5.0\n",
      "2  0  0.0  8.0 -8.0 \n",
      "\n",
      " [-1.0, -2.0, 1.0]\n"
     ]
    }
   ],
   "source": [
    "\n",
    "\n",
    "data = [[1,1,1],[2,1,-1],[2,-1,1]]\n",
    "b = [-2, 1, 3]\n",
    "\n",
    "\n",
    "y, x, L, U = sl.solucaoLU(data, b)\n",
    "\n",
    "print(L,\"\\n\\n\", y,\"\\n\\n\")\n",
    "print(U,\"\\n\\n\",x)"
   ]
  },
  {
   "attachments": {},
   "cell_type": "markdown",
   "metadata": {},
   "source": [
    "#### Matriz inversa de A\n",
    "* Um método para obter a matriz A^(-1) é realizar o escalonamento da matriz [A|I] onde I é a matriz identidade. Ao terminar o escalonamento, o bloco do lado direito conterá A^(-1)"
   ]
  },
  {
   "attachments": {},
   "cell_type": "markdown",
   "metadata": {},
   "source": [
    "### Método de Jacobi\n",
    "\n",
    "* O método de Jacobi é uma simplicação do algorítmo de valores próprios de Jacobi, sendo ele formulado pelo matemático alemão Carl Gustav Jakob Jacobi no final do século XVIII.\n",
    "* Para resolução de sistemas lineares com poucas dimensões, dificilmente usa-se métodos iterativos, uma vez que eles levam maior tempo para obter uma aproximação do real valor se comparados com os métódos diretos, como por exemplo a eliminação gaussiana.\n",
    "\n",
    "* Entretanto, para sistemas grandes, como os que encontramos ao fazermos a análise de determinados circuitos ou na resolução de equações diferenciais parciais, essas técnicas iterativas tornam-se mais eficientes."
   ]
  },
  {
   "cell_type": "code",
   "execution_count": 15,
   "metadata": {},
   "outputs": [
    {
     "name": "stdout",
     "output_type": "stream",
     "text": [
      "[ 0.96 -1.86  0.94]\n",
      "Erro relativo: 0.18279569892473116\n"
     ]
    },
    {
     "data": {
      "text/html": [
       "<div>\n",
       "<style scoped>\n",
       "    .dataframe tbody tr th:only-of-type {\n",
       "        vertical-align: middle;\n",
       "    }\n",
       "\n",
       "    .dataframe tbody tr th {\n",
       "        vertical-align: top;\n",
       "    }\n",
       "\n",
       "    .dataframe thead th {\n",
       "        text-align: right;\n",
       "    }\n",
       "</style>\n",
       "<table border=\"1\" class=\"dataframe\">\n",
       "  <thead>\n",
       "    <tr style=\"text-align: right;\">\n",
       "      <th></th>\n",
       "      <th>0</th>\n",
       "      <th>1</th>\n",
       "      <th>2</th>\n",
       "      <th>3</th>\n",
       "    </tr>\n",
       "  </thead>\n",
       "  <tbody>\n",
       "    <tr>\n",
       "      <th>0</th>\n",
       "      <td>0.0</td>\n",
       "      <td>-0.2</td>\n",
       "      <td>-0.1</td>\n",
       "      <td>0.7</td>\n",
       "    </tr>\n",
       "    <tr>\n",
       "      <th>1</th>\n",
       "      <td>-0.2</td>\n",
       "      <td>0.0</td>\n",
       "      <td>-0.2</td>\n",
       "      <td>-1.6</td>\n",
       "    </tr>\n",
       "    <tr>\n",
       "      <th>2</th>\n",
       "      <td>-0.2</td>\n",
       "      <td>-0.3</td>\n",
       "      <td>0.0</td>\n",
       "      <td>0.6</td>\n",
       "    </tr>\n",
       "  </tbody>\n",
       "</table>\n",
       "</div>"
      ],
      "text/plain": [
       "     0    1    2    3\n",
       "0  0.0 -0.2 -0.1  0.7\n",
       "1 -0.2  0.0 -0.2 -1.6\n",
       "2 -0.2 -0.3  0.0  0.6"
      ]
     },
     "execution_count": 15,
     "metadata": {},
     "output_type": "execute_result"
    }
   ],
   "source": [
    "data = [[10,2,1,7],[1,5,1,-8],[2, 3, 10, 6]]\n",
    "chute = [0.7, -1.6, 0.6]\n",
    "\n",
    "dataf = pd.DataFrame(sl.metodoJacobiano(data, chute))\n",
    "\n",
    "dataf\n"
   ]
  },
  {
   "attachments": {},
   "cell_type": "markdown",
   "metadata": {},
   "source": [
    "### Método de Gauss-Seidel"
   ]
  },
  {
   "cell_type": "code",
   "execution_count": 16,
   "metadata": {},
   "outputs": [
    {
     "name": "stdout",
     "output_type": "stream",
     "text": [
      "[1.0, 0.75, -0.875]\n",
      "Erro relativo: 1.0\n"
     ]
    },
    {
     "data": {
      "text/html": [
       "<div>\n",
       "<style scoped>\n",
       "    .dataframe tbody tr th:only-of-type {\n",
       "        vertical-align: middle;\n",
       "    }\n",
       "\n",
       "    .dataframe tbody tr th {\n",
       "        vertical-align: top;\n",
       "    }\n",
       "\n",
       "    .dataframe thead th {\n",
       "        text-align: right;\n",
       "    }\n",
       "</style>\n",
       "<table border=\"1\" class=\"dataframe\">\n",
       "  <thead>\n",
       "    <tr style=\"text-align: right;\">\n",
       "      <th></th>\n",
       "      <th>0</th>\n",
       "      <th>1</th>\n",
       "      <th>2</th>\n",
       "      <th>3</th>\n",
       "    </tr>\n",
       "  </thead>\n",
       "  <tbody>\n",
       "    <tr>\n",
       "      <th>0</th>\n",
       "      <td>0.00</td>\n",
       "      <td>-0.2</td>\n",
       "      <td>-0.20</td>\n",
       "      <td>1.0</td>\n",
       "    </tr>\n",
       "    <tr>\n",
       "      <th>1</th>\n",
       "      <td>-0.75</td>\n",
       "      <td>0.0</td>\n",
       "      <td>-0.25</td>\n",
       "      <td>1.5</td>\n",
       "    </tr>\n",
       "    <tr>\n",
       "      <th>2</th>\n",
       "      <td>-0.50</td>\n",
       "      <td>-0.5</td>\n",
       "      <td>0.00</td>\n",
       "      <td>0.0</td>\n",
       "    </tr>\n",
       "  </tbody>\n",
       "</table>\n",
       "</div>"
      ],
      "text/plain": [
       "      0    1     2    3\n",
       "0  0.00 -0.2 -0.20  1.0\n",
       "1 -0.75  0.0 -0.25  1.5\n",
       "2 -0.50 -0.5  0.00  0.0"
      ]
     },
     "execution_count": 16,
     "metadata": {},
     "output_type": "execute_result"
    }
   ],
   "source": [
    "data = [[5,1,1,5],[3,4,1,6],[3,3,6,0]]\n",
    "chute = [0,0,0]\n",
    "\n",
    "\n",
    "dataf = pd.DataFrame(sl.metodoGaussSeidel(data, chute))\n",
    "\n",
    "dataf"
   ]
  }
 ],
 "metadata": {
  "kernelspec": {
   "display_name": "minhaVenv",
   "language": "python",
   "name": "python3"
  },
  "language_info": {
   "codemirror_mode": {
    "name": "ipython",
    "version": 3
   },
   "file_extension": ".py",
   "mimetype": "text/x-python",
   "name": "python",
   "nbconvert_exporter": "python",
   "pygments_lexer": "ipython3",
   "version": "3.10.4"
  },
  "orig_nbformat": 4
 },
 "nbformat": 4,
 "nbformat_minor": 2
}
