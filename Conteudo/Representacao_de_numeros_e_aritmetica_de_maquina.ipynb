{
 "cells": [
  {
   "attachments": {},
   "cell_type": "markdown",
   "metadata": {},
   "source": [
    "# Importando as bibliotecas..."
   ]
  },
  {
   "cell_type": "code",
   "execution_count": 13,
   "metadata": {},
   "outputs": [],
   "source": [
    "import numpy as np\n",
    "import math as mt\n",
    "import sympy as sp\n",
    "import inspect\n",
    "import re \n",
    "import altair as alt\n",
    "from vega_datasets import data\n",
    "import pandas as pd\n",
    "from numpy import cos, sin, exp\n",
    "import sys\n",
    "from __future__ import division \n",
    "import random\n",
    "import time"
   ]
  },
  {
   "attachments": {},
   "cell_type": "markdown",
   "metadata": {},
   "source": [
    "# Capítulo 2 - Representação de números e aritmética de máquina\n"
   ]
  },
  {
   "attachments": {},
   "cell_type": "markdown",
   "metadata": {},
   "source": [
    "## Sistema de numeração e mudança de base"
   ]
  },
  {
   "attachments": {},
   "cell_type": "markdown",
   "metadata": {},
   "source": [
    "**Exemplo1 (sistema binário)**: o sistema de numeração em base dois é chamado de binário e os algarismos binários são conhecidos como bits. Um bit pode assumir dois valores distintos: 0 ou 1\n",
    "Em Python podemos converter o número (1001,101)2 para a base decimal computando"
   ]
  },
  {
   "cell_type": "code",
   "execution_count": 14,
   "metadata": {},
   "outputs": [
    {
     "name": "stdout",
     "output_type": "stream",
     "text": [
      "9.625\n"
     ]
    }
   ],
   "source": [
    "print(1*2**3 + 0*2**2 + 0*2**1 + 1*2**0 + 1*2**-1 + 0*2**-2 + 1*2**-3)"
   ]
  },
  {
   "attachments": {},
   "cell_type": "markdown",
   "metadata": {},
   "source": [
    "**Exemplo2 (sistema quartenário)**: no sistema quaternário a base b é igual a\n",
    "4 e, portanto, temos o seguinte conjunto de algarismos {0, 1, 2, 3}. Por exemplo:"
   ]
  },
  {
   "cell_type": "code",
   "execution_count": 15,
   "metadata": {},
   "outputs": [
    {
     "name": "stdout",
     "output_type": "stream",
     "text": [
      "49.5\n"
     ]
    }
   ],
   "source": [
    "#(301,2)4\n",
    "print(3*4**2 + 0*4**1 + 1*4**0 + 2*4**(-1))"
   ]
  },
  {
   "attachments": {},
   "cell_type": "markdown",
   "metadata": {},
   "source": [
    "**Exemplo3 (sistema octal)**: no sistema octal a base é b = 8."
   ]
  },
  {
   "cell_type": "code",
   "execution_count": 16,
   "metadata": {},
   "outputs": [
    {
     "name": "stdout",
     "output_type": "stream",
     "text": [
      "751.28125\n"
     ]
    }
   ],
   "source": [
    "#(1357,24)8\n",
    "print(1*8**3 + 3*8**2 + 5*8**1 + 7*8**0 + 2*8**(-1) + 2*8**(-2))"
   ]
  },
  {
   "attachments": {},
   "cell_type": "markdown",
   "metadata": {},
   "source": [
    "**Exemplo4 (sistema hexadecimal)**: O sistema de numeração cuja a base é\n",
    "\n",
    "b = 16 é chamado de sistema hexadecimal. Neste, temos o conjunto de algarismos\n",
    "\n",
    "{0, 1, 2, 3, 4, 5, 6, 7, 8, 9, A, B, C, D, E, F }. Convertendo o número (E2AC) 16 para a base 10 temos:"
   ]
  },
  {
   "cell_type": "code",
   "execution_count": 17,
   "metadata": {},
   "outputs": [
    {
     "name": "stdout",
     "output_type": "stream",
     "text": [
      "58028\n"
     ]
    }
   ],
   "source": [
    "print(14*16**3 + 2*16**2 + 10*16**1 + 12*16**0)"
   ]
  },
  {
   "attachments": {},
   "cell_type": "markdown",
   "metadata": {},
   "source": [
    "**Obs2**: Python tem algumas sintaxes para representar números em\n",
    "algumas bases."
   ]
  },
  {
   "cell_type": "code",
   "execution_count": 18,
   "metadata": {},
   "outputs": [
    {
     "name": "stdout",
     "output_type": "stream",
     "text": [
      "9\n",
      "111\n",
      "48826\n"
     ]
    }
   ],
   "source": [
    "print(0b1001)\n",
    "print(0o157)\n",
    "print(0xbeba)"
   ]
  },
  {
   "attachments": {},
   "cell_type": "markdown",
   "metadata": {},
   "source": [
    "Dado um número decimal (X) 10 agora queremos\n",
    "escrevê-lo em uma outra base b, isto é, queremos obter a seguinte representação:\n",
    "\n",
    "* bX^(f) = d−1 + (d −2)/2 + (d-3)/b^2 + ..."
   ]
  },
  {
   "attachments": {},
   "cell_type": "markdown",
   "metadata": {},
   "source": [
    "**Exemplo5**: vamos converter o número 9,625 para a base binária (b = 2).\n",
    "Primeiramente, decompomos 9,625 na soma de suas partes inteira e fracionária.\n",
    "\n",
    "* 9,625 = 9 + 0,625."
   ]
  },
  {
   "cell_type": "code",
   "execution_count": 19,
   "metadata": {},
   "outputs": [
    {
     "name": "stdout",
     "output_type": "stream",
     "text": [
      "d0 = 1, x = 4\n",
      "d1 = 0, x = 2\n",
      "d2 = 0, x = 1\n",
      "d3 = 1, x = 0\n"
     ]
    }
   ],
   "source": [
    "x = 9 \n",
    "d0 = x%2; x = int(x/2); print(\"d0 = %d, x = %d\" % (d0,x))\n",
    "d1 = x%2; x = int(x/2); print(\"d1 = %d, x = %d\" % (d1,x))\n",
    "d2 = x%2; x = int(x/2); print(\"d2 = %d, x = %d\" % (d2,x))\n",
    "d3 = x%2; x = int(x/2); print(\"d3 = %d, x = %d\" % (d3,x))"
   ]
  },
  {
   "attachments": {},
   "cell_type": "markdown",
   "metadata": {},
   "source": [
    "**Obs3**: Python oferece algumas funções para a conversão de números\n",
    "inteiros em base decimal para uma base dada."
   ]
  },
  {
   "cell_type": "code",
   "execution_count": 20,
   "metadata": {},
   "outputs": [
    {
     "name": "stdout",
     "output_type": "stream",
     "text": [
      "0b1001\n",
      "0o157\n",
      "0xbeba\n"
     ]
    }
   ],
   "source": [
    "print(bin(9))\n",
    "print(oct(111))\n",
    "print(hex(48826))"
   ]
  }
 ],
 "metadata": {
  "kernelspec": {
   "display_name": "minhaVenv",
   "language": "python",
   "name": "python3"
  },
  "language_info": {
   "codemirror_mode": {
    "name": "ipython",
    "version": 3
   },
   "file_extension": ".py",
   "mimetype": "text/x-python",
   "name": "python",
   "nbconvert_exporter": "python",
   "pygments_lexer": "ipython3",
   "version": "3.8.10"
  },
  "orig_nbformat": 4
 },
 "nbformat": 4,
 "nbformat_minor": 2
}
