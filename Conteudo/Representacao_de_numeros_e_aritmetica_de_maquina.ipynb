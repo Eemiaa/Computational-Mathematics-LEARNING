{
 "cells": [
  {
   "attachments": {},
   "cell_type": "markdown",
   "metadata": {},
   "source": [
    "# Importando as bibliotecas..."
   ]
  },
  {
   "cell_type": "code",
   "execution_count": 1,
   "metadata": {},
   "outputs": [],
   "source": [
    "import numpy as np\n",
    "import math as mt\n",
    "import sympy as sp\n",
    "import inspect\n",
    "import re \n",
    "import altair as alt\n",
    "from vega_datasets import data\n",
    "import pandas as pd\n",
    "from numpy import cos, sin, exp\n",
    "import sys\n",
    "from __future__ import division \n",
    "import random\n",
    "import time"
   ]
  },
  {
   "attachments": {},
   "cell_type": "markdown",
   "metadata": {},
   "source": [
    "# Capítulo 2 - Representação de números e aritmética de máquina\n"
   ]
  },
  {
   "attachments": {},
   "cell_type": "markdown",
   "metadata": {},
   "source": [
    "### Sistema de numeração e mudança de base"
   ]
  },
  {
   "attachments": {},
   "cell_type": "markdown",
   "metadata": {},
   "source": [
    "**Exemplo1 (sistema binário)**: o sistema de numeração em base dois é chamado de binário e os algarismos binários são conhecidos como bits. Um bit pode assumir dois valores distintos: 0 ou 1\n",
    "Em Python podemos converter o número (1001,101)2 para a base decimal computando"
   ]
  },
  {
   "cell_type": "code",
   "execution_count": 2,
   "metadata": {},
   "outputs": [
    {
     "name": "stdout",
     "output_type": "stream",
     "text": [
      "9.625\n"
     ]
    }
   ],
   "source": [
    "print(1*2**3 + 0*2**2 + 0*2**1 + 1*2**0 + 1*2**-1 + 0*2**-2 + 1*2**-3)"
   ]
  },
  {
   "attachments": {},
   "cell_type": "markdown",
   "metadata": {},
   "source": [
    "**Exemplo2 (sistema quartenário)**: no sistema quaternário a base b é igual a\n",
    "4 e, portanto, temos o seguinte conjunto de algarismos {0, 1, 2, 3}. Por exemplo:"
   ]
  },
  {
   "cell_type": "code",
   "execution_count": 3,
   "metadata": {},
   "outputs": [
    {
     "name": "stdout",
     "output_type": "stream",
     "text": [
      "49.5\n"
     ]
    }
   ],
   "source": [
    "#(301,2)4\n",
    "print(3*4**2 + 0*4**1 + 1*4**0 + 2*4**(-1))"
   ]
  },
  {
   "attachments": {},
   "cell_type": "markdown",
   "metadata": {},
   "source": [
    "**Exemplo3 (sistema octal)**: no sistema octal a base é b = 8."
   ]
  },
  {
   "cell_type": "code",
   "execution_count": 4,
   "metadata": {},
   "outputs": [
    {
     "name": "stdout",
     "output_type": "stream",
     "text": [
      "751.28125\n"
     ]
    }
   ],
   "source": [
    "#(1357,24)8\n",
    "print(1*8**3 + 3*8**2 + 5*8**1 + 7*8**0 + 2*8**(-1) + 2*8**(-2))"
   ]
  },
  {
   "attachments": {},
   "cell_type": "markdown",
   "metadata": {},
   "source": [
    "**Exemplo4 (sistema hexadecimal)**: O sistema de numeração cuja a base é\n",
    "b = 16 é chamado de sistema hexadecimal. Neste, temos o conjunto de algarismos\n",
    "{0, 1, 2, 3, 4, 5, 6, 7, 8, 9, A, B, C, D, E, F }. Convertendo o número (E2AC) 16 para a base 10 temos:"
   ]
  },
  {
   "cell_type": "code",
   "execution_count": 5,
   "metadata": {},
   "outputs": [
    {
     "name": "stdout",
     "output_type": "stream",
     "text": [
      "58028\n"
     ]
    }
   ],
   "source": [
    "print(14*16**3 + 2*16**2 + 10*16**1 + 12*16**0)"
   ]
  },
  {
   "attachments": {},
   "cell_type": "markdown",
   "metadata": {},
   "source": [
    "**Obs2**: Python tem algumas sintaxes para representar números em\n",
    "algumas bases."
   ]
  },
  {
   "cell_type": "code",
   "execution_count": 6,
   "metadata": {},
   "outputs": [
    {
     "name": "stdout",
     "output_type": "stream",
     "text": [
      "9\n",
      "111\n",
      "48826\n"
     ]
    }
   ],
   "source": [
    "print(0b1001)\n",
    "print(0o157)\n",
    "print(0xbeba)"
   ]
  },
  {
   "attachments": {},
   "cell_type": "markdown",
   "metadata": {},
   "source": [
    "Dado um número decimal (X) 10 agora queremos\n",
    "escrevê-lo em uma outra base b, isto é, queremos obter a seguinte representação:\n",
    "\n",
    "* bX^(f) = d−1 + (d −2)/2 + (d-3)/b^2 + ..."
   ]
  },
  {
   "attachments": {},
   "cell_type": "markdown",
   "metadata": {},
   "source": [
    "**Exemplo5**: vamos converter o número 9,625 para a base binária (b = 2).\n",
    "Primeiramente, decompomos 9,625 na soma de suas partes inteira e fracionária.\n",
    "\n",
    "* 9,625 = 9 + 0,625."
   ]
  },
  {
   "cell_type": "code",
   "execution_count": 7,
   "metadata": {},
   "outputs": [
    {
     "name": "stdout",
     "output_type": "stream",
     "text": [
      "d0 = 1, x = 4\n",
      "d1 = 0, x = 2\n",
      "d2 = 0, x = 1\n",
      "d3 = 1, x = 0\n"
     ]
    }
   ],
   "source": [
    "x = 9 \n",
    "d0 = x%2; x = int(x/2); print(\"d0 = %d, x = %d\" % (d0,x))\n",
    "d1 = x%2; x = int(x/2); print(\"d1 = %d, x = %d\" % (d1,x))\n",
    "d2 = x%2; x = int(x/2); print(\"d2 = %d, x = %d\" % (d2,x))\n",
    "d3 = x%2; x = int(x/2); print(\"d3 = %d, x = %d\" % (d3,x))"
   ]
  },
  {
   "attachments": {},
   "cell_type": "markdown",
   "metadata": {},
   "source": [
    "**Obs3**: Python oferece algumas funções para a conversão de números\n",
    "inteiros em base decimal para uma base dada."
   ]
  },
  {
   "cell_type": "code",
   "execution_count": 8,
   "metadata": {},
   "outputs": [
    {
     "name": "stdout",
     "output_type": "stream",
     "text": [
      "0b1001\n",
      "0o157\n",
      "0xbeba\n"
     ]
    }
   ],
   "source": [
    "print(bin(9))\n",
    "print(oct(111))\n",
    "print(hex(48826))"
   ]
  },
  {
   "attachments": {},
   "cell_type": "markdown",
   "metadata": {},
   "source": [
    "### Notação científica e notação normalizada"
   ]
  },
  {
   "attachments": {},
   "cell_type": "markdown",
   "metadata": {},
   "source": [
    "**Obs4**:Em Python, podemos controlar a impressão de números usando\n",
    "o comando print.\n",
    "\n"
   ]
  },
  {
   "cell_type": "code",
   "execution_count": 9,
   "metadata": {},
   "outputs": [
    {
     "name": "stdout",
     "output_type": "stream",
     "text": [
      "-3.14159\n",
      "-3.14159e+00\n"
     ]
    }
   ],
   "source": [
    "print(\"%1.5f\" % -np.pi)\n",
    "print(\"%1.5e\" % -np.pi)"
   ]
  },
  {
   "attachments": {},
   "cell_type": "markdown",
   "metadata": {},
   "source": [
    "### Arredondamento de números\n"
   ]
  },
  {
   "attachments": {},
   "cell_type": "markdown",
   "metadata": {},
   "source": [
    "**Arredondamento por truncamento (ou corte):** aproximamos x por \n",
    "* x̄ = ±d0,d1d2 ... dk × 10^e\n",
    "\n",
    "simplesmente descartando os dígitos d j com j > k.\n",
    "\n",
    "**Arredondamento por proximidade:** se dk+1 < 5 aproximamos x por \n",
    "* x̄ = ±d0,d1d2 ... dk × 10^e\n",
    "\n",
    "senão aproximamos x por \n",
    "* x̄ = ±(d0 ,d1d2 ... dk + 10^(−k) ) × 10^e"
   ]
  },
  {
   "attachments": {},
   "cell_type": "markdown",
   "metadata": {},
   "source": [
    "### Precisão e épsilon de máquina\n"
   ]
  },
  {
   "attachments": {},
   "cell_type": "markdown",
   "metadata": {},
   "source": [
    "A **precisão p** de uma máquina é o número de dígitos significativos usados para representar um número. Note que p = |M|+1 em binário e p = |M| para outras bases. Note que p = |M|+1 em binário e p=|M| para outras bases."
   ]
  },
  {
   "attachments": {},
   "cell_type": "markdown",
   "metadata": {},
   "source": [
    "O **Épsilon de máquina**, Emach = e, é definido de forma que 1 + e seja o menor número representável maior que 1, isto é, 1 + e é representável, mas não existem números representáveis em (1, 1+e)."
   ]
  },
  {
   "attachments": {},
   "cell_type": "markdown",
   "metadata": {},
   "source": [
    "**Obs6**: em Pyhton podemos obter o épsilon de máquina com os comandos:\n"
   ]
  },
  {
   "cell_type": "code",
   "execution_count": 10,
   "metadata": {},
   "outputs": [
    {
     "data": {
      "text/plain": [
       "2.220446049250313e-16"
      ]
     },
     "execution_count": 10,
     "metadata": {},
     "output_type": "execute_result"
    }
   ],
   "source": [
    "sys.float_info.epsilon"
   ]
  },
  {
   "cell_type": "code",
   "execution_count": 11,
   "metadata": {},
   "outputs": [
    {
     "data": {
      "text/plain": [
       "True"
      ]
     },
     "execution_count": 11,
     "metadata": {},
     "output_type": "execute_result"
    }
   ],
   "source": [
    "eps = sys.float_info.epsilon\n",
    "1 + 1e-16 == 1"
   ]
  },
  {
   "cell_type": "code",
   "execution_count": 12,
   "metadata": {},
   "outputs": [
    {
     "data": {
      "text/plain": [
       "False"
      ]
     },
     "execution_count": 12,
     "metadata": {},
     "output_type": "execute_result"
    }
   ],
   "source": [
    "1 + eps == 1"
   ]
  },
  {
   "attachments": {},
   "cell_type": "markdown",
   "metadata": {},
   "source": [
    "**Obs7 (underflow)**: número muito pequeno geralmente é aproximado por zero\n",
    "\n",
    "**Obs8 (overflow)**: número muito grande, geralmente faz o cálculo parar"
   ]
  },
  {
   "attachments": {},
   "cell_type": "markdown",
   "metadata": {},
   "source": [
    "### Tipos de erros"
   ]
  },
  {
   "attachments": {},
   "cell_type": "markdown",
   "metadata": {},
   "source": [
    "* **Incerteza dos dados**: equipamentos de medição possuem precisão finita, acarretando erros nas medidas físicas.\n",
    "\n",
    "* **Erros de arredondamento**: são aqueles relacionamentos com as limitações que existem ao representar números de máquina.\n",
    "\n",
    "* **Erros de truncamento**: surgem quando aproximamos um procedimento formado por uma sequência infinita de passos através de um procedimento finito."
   ]
  },
  {
   "attachments": {},
   "cell_type": "markdown",
   "metadata": {},
   "source": [
    "**Def - Erro absoluto**: seja x um número real e x' sua apro-\n",
    "ximação. O erro absoluto da aproximação x' é definido como\n",
    "\n",
    "* |x-x'|\n",
    "\n",
    "**Def - Erro relativo**: da aproximação x' é definido como\n",
    "\n",
    "* |x-x'|/|x|, x=!0."
   ]
  },
  {
   "attachments": {},
   "cell_type": "markdown",
   "metadata": {},
   "source": [
    "**Obs 8**:Observe que o erro relativo é adimensional e, muitas vezes,\n",
    "é dado em porcentagem. Mais precisamente, o erro relativo em porcentagem da\n",
    "aproximação x' é dado por\n",
    "\n",
    "* |x-x'|/|x| * 100%"
   ]
  },
  {
   "attachments": {},
   "cell_type": "markdown",
   "metadata": {},
   "source": [
    "### Condicionamento de um problema"
   ]
  },
  {
   "attachments": {},
   "cell_type": "markdown",
   "metadata": {},
   "source": [
    "**Def - Número de condicionamento**: seja f uma função diferenciável. O número de condicionamento de um problema é definido como\n",
    "![image.png](data:image/png;base64,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)\n",
    "* kj(x) := |xf'(x)/f(x)|\n",
    "\n",
    "e fornece uma estimativa de quanto os erros relativos na entrada |∆y/y|\n",
    "serão amplificados na saída |∆x/x| \n",
    "\n",
    "De modo geral, quando f depende de várias variáveis, podemos obter![Screenshot from 2023-04-09 15-29-36.png](data:image/png;base64,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)"
   ]
  },
  {
   "attachments": {},
   "cell_type": "markdown",
   "metadata": {},
   "source": []
  },
  {
   "attachments": {},
   "cell_type": "markdown",
   "metadata": {},
   "source": [
    "### Cancelamento Catastrófico"
   ]
  },
  {
   "attachments": {},
   "cell_type": "markdown",
   "metadata": {},
   "source": [
    "* Quando fazemos subtrações com números muito próximos entre si ocorre o\n",
    "cancelamento catastrófico, onde podemos perder vários dígitos de precisão em uma\n",
    "única subtração."
   ]
  }
 ],
 "metadata": {
  "kernelspec": {
   "display_name": "minhaVenv",
   "language": "python",
   "name": "python3"
  },
  "language_info": {
   "codemirror_mode": {
    "name": "ipython",
    "version": 3
   },
   "file_extension": ".py",
   "mimetype": "text/x-python",
   "name": "python",
   "nbconvert_exporter": "python",
   "pygments_lexer": "ipython3",
   "version": "3.10.12"
  },
  "orig_nbformat": 4
 },
 "nbformat": 4,
 "nbformat_minor": 2
}
