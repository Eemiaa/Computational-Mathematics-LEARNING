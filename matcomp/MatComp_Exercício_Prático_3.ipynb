{
  "nbformat": 4,
  "nbformat_minor": 0,
  "metadata": {
    "colab": {
      "provenance": []
    },
    "kernelspec": {
      "name": "python3",
      "display_name": "Python 3"
    },
    "language_info": {
      "name": "python"
    }
  },
  "cells": [
    {
      "cell_type": "code",
      "source": [
        "import random\n",
        "import numpy as np\n",
        "import time\n",
        "from numpy.linalg import solve\n",
        "import plotly.graph_objects as go\n",
        "import warnings\n",
        "warnings.filterwarnings(\"ignore\")"
      ],
      "metadata": {
        "id": "rThCCGufsu26"
      },
      "execution_count": null,
      "outputs": []
    },
    {
      "cell_type": "code",
      "source": [
        "import sys\n",
        "import platform\n",
        "import psutil\n",
        "import subprocess\n",
        "\n",
        "\n",
        "print(\"CPU: Intel(R) Xeon(R) CPU @ 2.20GHz\\n\"\n",
        "      f\"RAM: 12.68 GB\\n\"\n",
        "      f\"Versão do compilador: {sys.version}\\n\"\n",
        "      f\"Sistema operacional: {sys.platform}\")"
      ],
      "metadata": {
        "colab": {
          "base_uri": "https://localhost:8080/"
        },
        "id": "wjdvdqs5SEMU",
        "outputId": "ff6da4a6-5b5d-4adb-b2bb-7df70e9fa22a"
      },
      "execution_count": null,
      "outputs": [
        {
          "output_type": "stream",
          "name": "stdout",
          "text": [
            "CPU: Intel(R) Xeon(R) CPU @ 2.20GHz\n",
            "RAM: 12.68 GB\n",
            "Versão do compilador: 3.7.14 (default, Sep  8 2022, 00:06:44) \n",
            "[GCC 7.5.0]\n",
            "Sistema operacional: linux\n"
          ]
        }
      ]
    },
    {
      "cell_type": "markdown",
      "source": [
        "#**Método de Gauss**"
      ],
      "metadata": {
        "id": "4BTtYjXGz4Ij"
      }
    },
    {
      "cell_type": "code",
      "source": [
        "def gauss(a,b):\n",
        "  n = len(b) #n is matrix size\n",
        "  it = 0\n",
        "  #Elimination phase\n",
        "  for k in range(0,n-1): #k is matrix row\n",
        "    for i in range(k+1,n): #i is matrix col\n",
        "      it += 1\n",
        "      if a[i,k] != 0.0:\n",
        "        if a[i,k]/a[k,k] != float('inf') and a[i,k]/a[k,k] != float('-inf'):\n",
        "          factor = a[i,k]/a[k,k]\n",
        "          a[i,k+1:n] = a[i,k+1:n] - np.multiply(factor,a[k,k+1:n])\n",
        "          b[i] = b[i] - np.multiply(factor,b[k])\n",
        "\n",
        "  #Back substitution\n",
        "  for k in range(n-1,-1,-1):\n",
        "    it += 1\n",
        "    if (b[k] - np.dot(a[k,k+1:n],b[k+1:n]))/a[k,k] != float('inf') and (b[k] - np.dot(a[k,k+1:n],b[k+1:n]))/a[k,k] != float('-inf'):\n",
        "      b[k] = (b[k] - np.dot(a[k,k+1:n],b[k+1:n]))/a[k,k]\n",
        "\n",
        "  return b, it"
      ],
      "metadata": {
        "id": "pdmWSb_hf9GE"
      },
      "execution_count": null,
      "outputs": []
    },
    {
      "cell_type": "markdown",
      "source": [
        "#**Método LU**"
      ],
      "metadata": {
        "id": "6pnwyb8x0CUu"
      }
    },
    {
      "cell_type": "code",
      "source": [
        "def magalu(matrix, b):\n",
        "  n = len(matrix)\n",
        "\n",
        "  it = 0\n",
        "  p = []\n",
        "  for i in range(0, n):\n",
        "    it += 1\n",
        "    p.append(i)\n",
        "  \n",
        "  \n",
        "  for k in range(0, n-1):\n",
        "    pv = abs(matrix[k][k])\n",
        "    r = k\n",
        "    for i in range(k+1, n):\n",
        "      it += 1\n",
        "      if abs(matrix[i][k]) > pv:\n",
        "        pv = abs(matrix[i][k])\n",
        "        r = i\n",
        "\n",
        "    if pv == 0:\n",
        "      print(\"A matrix é singular!\")\n",
        "      return\n",
        "    if r != k:\n",
        "      aux = p[k]\n",
        "      p[k] = p[r]\n",
        "      p[r] = aux\n",
        "      for j in range(0, n):\n",
        "        aux = matrix[k][j]\n",
        "        matrix[k][j] = matrix[r][j]\n",
        "        matrix[r][j] = aux\n",
        "\n",
        "    for i in range(k+1, n):\n",
        "      m = matrix[i][k]/matrix[k][k]\n",
        "      matrix[i][k] = m\n",
        "      for j in range(k+1, n):\n",
        "        it += 1\n",
        "        matrix[i][j] -= m*matrix[k][j]\n",
        "\n",
        "\n",
        "  c = n * [0]\n",
        "  for i in range(0, n):\n",
        "    it += 1\n",
        "    r = p[i]\n",
        "    c[i] = b[r]\n",
        "\n",
        "  y = n * [0]\n",
        "  for i in range(0, n):\n",
        "    soma = 0\n",
        "    for j in range(0, i):\n",
        "      it += 1\n",
        "      soma += matrix[i][j]*y[j]\n",
        "    y[i] = (c[i] - soma)\n",
        "\n",
        "  x = n * [0]\n",
        "  for i in range(n-1, -1, -1):\n",
        "    soma = 0\n",
        "    for j in range(i+1, n):\n",
        "      it += 1\n",
        "      soma += matrix[i][j]*x[j]\n",
        "    x[i] = (y[i] - soma)/matrix[i][i]\n",
        "\n",
        "  x = np.array(x)\n",
        "  return x, it"
      ],
      "metadata": {
        "id": "wdP7-kZIqbIZ"
      },
      "execution_count": null,
      "outputs": []
    },
    {
      "cell_type": "markdown",
      "source": [
        "#**Método de Gauss-Jacobi**"
      ],
      "metadata": {
        "id": "WKx8leAU0Hzc"
      }
    },
    {
      "cell_type": "code",
      "source": [
        "def jacobi(A,b,n):\n",
        "  x = len(A) * [0]\n",
        "  D = np.diag(A)\n",
        "  R = A-np.diagflat(D)\n",
        "  it = 0\n",
        "  for i in range(n):\n",
        "    x = (b-np.dot(R,x))/D\n",
        "  \n",
        "  x = np.array(x)\n",
        "  return x, n"
      ],
      "metadata": {
        "id": "97A_nl4rqdY0"
      },
      "execution_count": null,
      "outputs": []
    },
    {
      "cell_type": "markdown",
      "source": [
        "#**Método de Gauss-Seidel**"
      ],
      "metadata": {
        "id": "WxYI7aMe0Mk0"
      }
    },
    {
      "cell_type": "code",
      "source": [
        "def update_solution(\n",
        "    coefficient_matrix, solution_vector, constant_vector\n",
        "):\n",
        "    \"\"\"\n",
        "    Function to update the solution\n",
        "    :param coefficient_matrix: list, Coefficient Matrix\n",
        "    :param solution_vector: list, Solution Vector\n",
        "    :param constant_vector: list, Constant Vector\n",
        "    :return: list, Updated Solution Vector\n",
        "    Example:\n",
        "a = [[10, -1, 2, 0], [-1, 11, -1, 3], [2, -1, 10, -1], [0, 3, -1, 8]]\n",
        "    >>> x = [0, 0, 0, 0]\n",
        "    >>> b = [6, 25, -11, 15]\n",
        "    >>> update_solution(a, x, b)\n",
        "    [0.6, 2.3272727272727276, -0.9872727272727271, 0.8788636363636363]\n",
        "    \"\"\"\n",
        "    it = 0\n",
        "    n = len(coefficient_matrix)  # number of variables\n",
        "    for i in range(0, n):\n",
        "        # Update each variable\n",
        "        d = constant_vector[i]\n",
        "        for j in range(0, n):\n",
        "            it += 1\n",
        "            if i != j:\n",
        "                d -= coefficient_matrix[i][j] * solution_vector[j]\n",
        "        solution_vector[i] = d / coefficient_matrix[i][i]\n",
        "    return solution_vector\n",
        "\n",
        "def gauss_seidel(\n",
        "    coefficient_matrix,\n",
        "    constant_vector,\n",
        "    maximum_iterations,\n",
        "):\n",
        "    solution_vector = len(coefficient_matrix) * [0]\n",
        "    \n",
        "    \"\"\"\n",
        "    Function to perform Gauss Seidel Iteration\n",
        "    :param coefficient_matrix: list, Coefficient Matrix\n",
        "    :param solution_vector: list, Solution Vector\n",
        "    :param constant_vector: list, Constant Vector\n",
        "    :param maximum_iterations: int, Maximum Iterations\n",
        "    :return: None\n",
        "    Example:\n",
        "a = [[10, -1, 2, 0], [-1, 11, -1, 3], [2, -1, 10, -1], [0, 3, -1, 8]]\n",
        "    >>> x = [0, 0, 0, 0]\n",
        "    >>> b = [6, 25, -11, 15]\n",
        "    >>> gauss_seidel(a, x, b, 100)\n",
        "    [1.0, 2.0, -1.0, 1.0]\n",
        "    \"\"\"\n",
        "\n",
        "    for i in range(0, maximum_iterations):\n",
        "        solution_vector = update_solution(\n",
        "            coefficient_matrix, solution_vector, constant_vector\n",
        "        )\n",
        "        # print(\"Iteration {}: {}\".format(i, x))\n",
        "\n",
        "    solution_vector = np.array(solution_vector)\n",
        "    return solution_vector, maximum_iterations"
      ],
      "metadata": {
        "id": "SivKvi4dqfMU"
      },
      "execution_count": null,
      "outputs": []
    },
    {
      "cell_type": "markdown",
      "source": [
        "#**Funções para criar matrizes densas e matrizes esparsas**"
      ],
      "metadata": {
        "id": "E56mxGKp0fDw"
      }
    },
    {
      "cell_type": "code",
      "source": [
        "def criarMatrizDensa(ordem):\n",
        "  A = np.random.randint(-10, ordem+100, size=(ordem, ordem), dtype=float)\n",
        "  b = np.random.randint(-10, ordem+100, size=(1, ordem), dtype=float)\n",
        "  for i in range(ordem):\n",
        "      if np.sum(A[i]) > A[i][i]:\n",
        "        A[i][i] = np.sum(A[i])*2\n",
        "  return A, b[0]\n",
        "\n",
        "def criarMatrizEsparsa(ordem):\n",
        "  A = np.random.randint(-10, ordem+100, size=(ordem, ordem))\n",
        "  b = np.random.randint(-10, ordem+1, size=(1, ordem))\n",
        "  for i in range(ordem):\n",
        "    for j in range(ordem):\n",
        "      chance = random.randint(0, 4)\n",
        "      if chance > 0 and i != j:\n",
        "        A[i][j] = 0\n",
        "      else:\n",
        "        A[i][j] = random.randint(-10, ordem+100)\n",
        "        \n",
        "  return A, b[0]"
      ],
      "metadata": {
        "id": "Q4spP7LisQ3f"
      },
      "execution_count": null,
      "outputs": []
    },
    {
      "cell_type": "markdown",
      "source": [
        "#**Gráfico dos sistemas densos**"
      ],
      "metadata": {
        "id": "eHDHzMJB0wnM"
      }
    },
    {
      "cell_type": "code",
      "source": [
        "n = [10]\n",
        "\n",
        "for i in range(20, 301, 10):\n",
        "  n.append(i)\n",
        "\n",
        "timeGauss = []\n",
        "timeLu = []\n",
        "timeJacobi = []\n",
        "timeSeidel = []\n",
        "\n",
        "itGauss = []\n",
        "itLu = []\n",
        "itJacobi = []\n",
        "itSeidel = []\n",
        "\n",
        "for item in n:\n",
        "  A0, b = criarMatrizDensa(item)\n",
        "  A1 = A0.copy()\n",
        "  A2 = A0.copy()\n",
        "  A3 = A0.copy()\n",
        "\n",
        "  timeStart = time.time()\n",
        "  G = gauss(A0,b)\n",
        "  timeEnd = time.time()\n",
        "  timeGauss.append((timeEnd - timeStart)*1000)\n",
        "  itGauss.append(G[1])\n",
        "\n",
        "  timeStart = time.time()\n",
        "  M = magalu(A1,b)\n",
        "  timeEnd = time.time()\n",
        "  timeLu.append((timeEnd - timeStart)*1000)\n",
        "  itLu.append(M[1])\n",
        "\n",
        "  timeStart = time.time()\n",
        "  J = jacobi(A2,b, 25)\n",
        "  timeEnd = time.time()\n",
        "  timeJacobi.append((timeEnd - timeStart)*1000)\n",
        "  itJacobi.append(J[1])\n",
        "\n",
        "  timeStart = time.time()\n",
        "  S = gauss_seidel(A3,b, 25)\n",
        "  timeEnd = time.time()\n",
        "  timeSeidel.append((timeEnd - timeStart)*1000)\n",
        "  itSeidel.append(S[1])\n",
        "\n",
        "print(timeGauss)\n",
        "print(timeLu)\n",
        "print(timeJacobi)\n",
        "print(timeSeidel)\n",
        "print(itGauss)\n",
        "print(itLu)\n",
        "print(itJacobi)\n",
        "print(itSeidel)\n",
        "\n",
        "timeGraph = go.Figure()\n",
        "timeGraph.update_layout(\n",
        "    title=\"Gráfico do Tempo de Execução - Sistemas Densos\",\n",
        "    xaxis_title=\"Ordem da Matriz\",\n",
        "    yaxis_title=\"Tempo em ms\",\n",
        "    font=dict(\n",
        "        family=\"Courier New, monospace\",\n",
        "        size=18,\n",
        "        color=\"RebeccaPurple\"\n",
        "    )\n",
        ")\n",
        "\n",
        "timeGraph.add_trace(go.Scatter(x=n, y=timeGauss,mode='lines',name='Gauss'))\n",
        "timeGraph.add_trace(go.Scatter(x=n, y=timeLu,mode='lines',name='Lu'))\n",
        "timeGraph.add_trace(go.Scatter(x=n, y=timeJacobi,mode='lines',name='Jacobi'))\n",
        "timeGraph.add_trace(go.Scatter(x=n, y=timeSeidel,mode='lines',name='Seidel'))\n",
        "timeGraph.show()\n",
        "\n",
        "\n",
        "itGraph = timeGraph = go.Figure()\n",
        "itGraph.update_layout(\n",
        "    title=\"Gráfico de Iterações - Sistemas Densos\",\n",
        "    xaxis_title=\"Ordem da Matriz\",\n",
        "    yaxis_title=\"Tempo em ms\",\n",
        "    font=dict(\n",
        "        family=\"Courier New, monospace\",\n",
        "        size=18,\n",
        "        color=\"RebeccaPurple\"\n",
        "    )\n",
        ")\n",
        "\n",
        "itGraph.add_trace(go.Scatter(x=n, y=itGauss,mode='lines',name='Gauss'))\n",
        "itGraph.add_trace(go.Scatter(x=n, y=itLu,mode='lines',name='Lu'))\n",
        "itGraph.add_trace(go.Scatter(x=n, y=itJacobi,mode='lines',name='Jacobi'))\n",
        "itGraph.add_trace(go.Scatter(x=n, y=itSeidel,mode='lines',name='Seidel'))\n",
        "itGraph.show()"
      ],
      "metadata": {
        "colab": {
          "base_uri": "https://localhost:8080/",
          "height": 1000
        },
        "id": "A26wzt6aqljt",
        "outputId": "66782b07-15a0-4e50-8341-8c59d309c9b1"
      },
      "execution_count": null,
      "outputs": [
        {
          "output_type": "stream",
          "name": "stdout",
          "text": [
            "[0.9262561798095703, 3.255605697631836, 6.010770797729492, 11.614561080932617, 16.463518142700195, 22.75371551513672, 33.150672912597656, 44.17276382446289, 52.434444427490234, 65.72389602661133, 76.95770263671875, 102.61750221252441, 111.8767261505127, 137.58611679077148, 167.82426834106445, 189.87584114074707, 236.41490936279297, 267.3652172088623, 344.61045265197754, 267.075777053833, 313.52782249450684, 346.8351364135742, 372.5879192352295, 484.4989776611328, 502.8870105743408, 506.4890384674072, 545.335054397583, 549.1256713867188, 601.6454696655273, 622.4198341369629]\n",
            "[1.4450550079345703, 10.956287384033203, 31.011104583740234, 76.24673843383789, 140.1512622833252, 251.42312049865723, 395.8406448364258, 602.0543575286865, 817.2280788421631, 1139.357566833496, 1506.5233707427979, 2142.148494720459, 2521.472930908203, 3319.7174072265625, 4016.944408416748, 4924.27659034729, 5699.175834655762, 6950.4554271698, 9529.84619140625, 9102.828979492188, 10666.546106338501, 12503.909826278687, 15004.853963851929, 16923.245668411255, 18815.582275390625, 21686.441898345947, 24482.074737548828, 24900.134563446045, 28492.78450012207, 31247.108936309814]\n",
            "[0.19741058349609375, 0.2884864807128906, 0.2777576446533203, 0.2930164337158203, 1.6186237335205078, 0.34236907958984375, 0.40411949157714844, 0.4909038543701172, 0.5147457122802734, 1.7011165618896484, 1.6031265258789062, 2.2192001342773438, 1.3620853424072266, 2.513408660888672, 1.6913414001464844, 1.8393993377685547, 2.455472946166992, 3.5240650177001953, 6.124019622802734, 10.038375854492188, 4.697084426879883, 9.762048721313477, 6.035566329956055, 5.310535430908203, 6.8511962890625, 5.825042724609375, 6.707429885864258, 8.957624435424805, 7.395029067993164, 9.227275848388672]\n",
            "[8.24594497680664, 40.547847747802734, 66.23148918151855, 114.73727226257324, 177.69527435302734, 281.56495094299316, 347.12743759155273, 471.4393615722656, 579.3659687042236, 769.6781158447266, 944.2980289459229, 1111.9263172149658, 1278.2478332519531, 1530.5585861206055, 1714.784860610962, 2108.0713272094727, 2270.636796951294, 2543.346166610718, 2747.135639190674, 2918.740749359131, 3306.9658279418945, 3633.406400680542, 4405.770301818848, 4475.951433181763, 4799.555778503418, 5011.64984703064, 5213.895559310913, 5678.65514755249, 6561.836242675781, 6819.169759750366]\n",
            "[55, 210, 465, 820, 1275, 1830, 2485, 3240, 4095, 5050, 6105, 7260, 8515, 9870, 11325, 12880, 14535, 16290, 18145, 20100, 22155, 24310, 26565, 28920, 31375, 33930, 36585, 39340, 42195, 45150]\n",
            "[440, 3080, 9920, 22960, 44200, 75640, 119280, 177120, 251160, 343400, 455840, 590480, 749320, 934360, 1147600, 1391040, 1666680, 1976520, 2322560, 2706800, 3131240, 3597880, 4108720, 4665760, 5271000, 5926440, 6634080, 7395920, 8213960, 9090200]\n",
            "[25, 25, 25, 25, 25, 25, 25, 25, 25, 25, 25, 25, 25, 25, 25, 25, 25, 25, 25, 25, 25, 25, 25, 25, 25, 25, 25, 25, 25, 25]\n",
            "[25, 25, 25, 25, 25, 25, 25, 25, 25, 25, 25, 25, 25, 25, 25, 25, 25, 25, 25, 25, 25, 25, 25, 25, 25, 25, 25, 25, 25, 25]\n"
          ]
        },
        {
          "output_type": "display_data",
          "data": {
            "text/html": [
              "<html>\n",
              "<head><meta charset=\"utf-8\" /></head>\n",
              "<body>\n",
              "    <div>            <script src=\"https://cdnjs.cloudflare.com/ajax/libs/mathjax/2.7.5/MathJax.js?config=TeX-AMS-MML_SVG\"></script><script type=\"text/javascript\">if (window.MathJax) {MathJax.Hub.Config({SVG: {font: \"STIX-Web\"}});}</script>                <script type=\"text/javascript\">window.PlotlyConfig = {MathJaxConfig: 'local'};</script>\n",
              "        <script src=\"https://cdn.plot.ly/plotly-2.8.3.min.js\"></script>                <div id=\"9b597a16-bb87-4057-b3cf-d1191dc81bda\" class=\"plotly-graph-div\" style=\"height:525px; width:100%;\"></div>            <script type=\"text/javascript\">                                    window.PLOTLYENV=window.PLOTLYENV || {};                                    if (document.getElementById(\"9b597a16-bb87-4057-b3cf-d1191dc81bda\")) {                    Plotly.newPlot(                        \"9b597a16-bb87-4057-b3cf-d1191dc81bda\",                        [{\"mode\":\"lines\",\"name\":\"Gauss\",\"x\":[10,20,30,40,50,60,70,80,90,100,110,120,130,140,150,160,170,180,190,200,210,220,230,240,250,260,270,280,290,300],\"y\":[0.9262561798095703,3.255605697631836,6.010770797729492,11.614561080932617,16.463518142700195,22.75371551513672,33.150672912597656,44.17276382446289,52.434444427490234,65.72389602661133,76.95770263671875,102.61750221252441,111.8767261505127,137.58611679077148,167.82426834106445,189.87584114074707,236.41490936279297,267.3652172088623,344.61045265197754,267.075777053833,313.52782249450684,346.8351364135742,372.5879192352295,484.4989776611328,502.8870105743408,506.4890384674072,545.335054397583,549.1256713867188,601.6454696655273,622.4198341369629],\"type\":\"scatter\"},{\"mode\":\"lines\",\"name\":\"Lu\",\"x\":[10,20,30,40,50,60,70,80,90,100,110,120,130,140,150,160,170,180,190,200,210,220,230,240,250,260,270,280,290,300],\"y\":[1.4450550079345703,10.956287384033203,31.011104583740234,76.24673843383789,140.1512622833252,251.42312049865723,395.8406448364258,602.0543575286865,817.2280788421631,1139.357566833496,1506.5233707427979,2142.148494720459,2521.472930908203,3319.7174072265625,4016.944408416748,4924.27659034729,5699.175834655762,6950.4554271698,9529.84619140625,9102.828979492188,10666.546106338501,12503.909826278687,15004.853963851929,16923.245668411255,18815.582275390625,21686.441898345947,24482.074737548828,24900.134563446045,28492.78450012207,31247.108936309814],\"type\":\"scatter\"},{\"mode\":\"lines\",\"name\":\"Jacobi\",\"x\":[10,20,30,40,50,60,70,80,90,100,110,120,130,140,150,160,170,180,190,200,210,220,230,240,250,260,270,280,290,300],\"y\":[0.19741058349609375,0.2884864807128906,0.2777576446533203,0.2930164337158203,1.6186237335205078,0.34236907958984375,0.40411949157714844,0.4909038543701172,0.5147457122802734,1.7011165618896484,1.6031265258789062,2.2192001342773438,1.3620853424072266,2.513408660888672,1.6913414001464844,1.8393993377685547,2.455472946166992,3.5240650177001953,6.124019622802734,10.038375854492188,4.697084426879883,9.762048721313477,6.035566329956055,5.310535430908203,6.8511962890625,5.825042724609375,6.707429885864258,8.957624435424805,7.395029067993164,9.227275848388672],\"type\":\"scatter\"},{\"mode\":\"lines\",\"name\":\"Seidel\",\"x\":[10,20,30,40,50,60,70,80,90,100,110,120,130,140,150,160,170,180,190,200,210,220,230,240,250,260,270,280,290,300],\"y\":[8.24594497680664,40.547847747802734,66.23148918151855,114.73727226257324,177.69527435302734,281.56495094299316,347.12743759155273,471.4393615722656,579.3659687042236,769.6781158447266,944.2980289459229,1111.9263172149658,1278.2478332519531,1530.5585861206055,1714.784860610962,2108.0713272094727,2270.636796951294,2543.346166610718,2747.135639190674,2918.740749359131,3306.9658279418945,3633.406400680542,4405.770301818848,4475.951433181763,4799.555778503418,5011.64984703064,5213.895559310913,5678.65514755249,6561.836242675781,6819.169759750366],\"type\":\"scatter\"}],                        {\"template\":{\"data\":{\"bar\":[{\"error_x\":{\"color\":\"#2a3f5f\"},\"error_y\":{\"color\":\"#2a3f5f\"},\"marker\":{\"line\":{\"color\":\"#E5ECF6\",\"width\":0.5},\"pattern\":{\"fillmode\":\"overlay\",\"size\":10,\"solidity\":0.2}},\"type\":\"bar\"}],\"barpolar\":[{\"marker\":{\"line\":{\"color\":\"#E5ECF6\",\"width\":0.5},\"pattern\":{\"fillmode\":\"overlay\",\"size\":10,\"solidity\":0.2}},\"type\":\"barpolar\"}],\"carpet\":[{\"aaxis\":{\"endlinecolor\":\"#2a3f5f\",\"gridcolor\":\"white\",\"linecolor\":\"white\",\"minorgridcolor\":\"white\",\"startlinecolor\":\"#2a3f5f\"},\"baxis\":{\"endlinecolor\":\"#2a3f5f\",\"gridcolor\":\"white\",\"linecolor\":\"white\",\"minorgridcolor\":\"white\",\"startlinecolor\":\"#2a3f5f\"},\"type\":\"carpet\"}],\"choropleth\":[{\"colorbar\":{\"outlinewidth\":0,\"ticks\":\"\"},\"type\":\"choropleth\"}],\"contour\":[{\"colorbar\":{\"outlinewidth\":0,\"ticks\":\"\"},\"colorscale\":[[0.0,\"#0d0887\"],[0.1111111111111111,\"#46039f\"],[0.2222222222222222,\"#7201a8\"],[0.3333333333333333,\"#9c179e\"],[0.4444444444444444,\"#bd3786\"],[0.5555555555555556,\"#d8576b\"],[0.6666666666666666,\"#ed7953\"],[0.7777777777777778,\"#fb9f3a\"],[0.8888888888888888,\"#fdca26\"],[1.0,\"#f0f921\"]],\"type\":\"contour\"}],\"contourcarpet\":[{\"colorbar\":{\"outlinewidth\":0,\"ticks\":\"\"},\"type\":\"contourcarpet\"}],\"heatmap\":[{\"colorbar\":{\"outlinewidth\":0,\"ticks\":\"\"},\"colorscale\":[[0.0,\"#0d0887\"],[0.1111111111111111,\"#46039f\"],[0.2222222222222222,\"#7201a8\"],[0.3333333333333333,\"#9c179e\"],[0.4444444444444444,\"#bd3786\"],[0.5555555555555556,\"#d8576b\"],[0.6666666666666666,\"#ed7953\"],[0.7777777777777778,\"#fb9f3a\"],[0.8888888888888888,\"#fdca26\"],[1.0,\"#f0f921\"]],\"type\":\"heatmap\"}],\"heatmapgl\":[{\"colorbar\":{\"outlinewidth\":0,\"ticks\":\"\"},\"colorscale\":[[0.0,\"#0d0887\"],[0.1111111111111111,\"#46039f\"],[0.2222222222222222,\"#7201a8\"],[0.3333333333333333,\"#9c179e\"],[0.4444444444444444,\"#bd3786\"],[0.5555555555555556,\"#d8576b\"],[0.6666666666666666,\"#ed7953\"],[0.7777777777777778,\"#fb9f3a\"],[0.8888888888888888,\"#fdca26\"],[1.0,\"#f0f921\"]],\"type\":\"heatmapgl\"}],\"histogram\":[{\"marker\":{\"pattern\":{\"fillmode\":\"overlay\",\"size\":10,\"solidity\":0.2}},\"type\":\"histogram\"}],\"histogram2d\":[{\"colorbar\":{\"outlinewidth\":0,\"ticks\":\"\"},\"colorscale\":[[0.0,\"#0d0887\"],[0.1111111111111111,\"#46039f\"],[0.2222222222222222,\"#7201a8\"],[0.3333333333333333,\"#9c179e\"],[0.4444444444444444,\"#bd3786\"],[0.5555555555555556,\"#d8576b\"],[0.6666666666666666,\"#ed7953\"],[0.7777777777777778,\"#fb9f3a\"],[0.8888888888888888,\"#fdca26\"],[1.0,\"#f0f921\"]],\"type\":\"histogram2d\"}],\"histogram2dcontour\":[{\"colorbar\":{\"outlinewidth\":0,\"ticks\":\"\"},\"colorscale\":[[0.0,\"#0d0887\"],[0.1111111111111111,\"#46039f\"],[0.2222222222222222,\"#7201a8\"],[0.3333333333333333,\"#9c179e\"],[0.4444444444444444,\"#bd3786\"],[0.5555555555555556,\"#d8576b\"],[0.6666666666666666,\"#ed7953\"],[0.7777777777777778,\"#fb9f3a\"],[0.8888888888888888,\"#fdca26\"],[1.0,\"#f0f921\"]],\"type\":\"histogram2dcontour\"}],\"mesh3d\":[{\"colorbar\":{\"outlinewidth\":0,\"ticks\":\"\"},\"type\":\"mesh3d\"}],\"parcoords\":[{\"line\":{\"colorbar\":{\"outlinewidth\":0,\"ticks\":\"\"}},\"type\":\"parcoords\"}],\"pie\":[{\"automargin\":true,\"type\":\"pie\"}],\"scatter\":[{\"marker\":{\"colorbar\":{\"outlinewidth\":0,\"ticks\":\"\"}},\"type\":\"scatter\"}],\"scatter3d\":[{\"line\":{\"colorbar\":{\"outlinewidth\":0,\"ticks\":\"\"}},\"marker\":{\"colorbar\":{\"outlinewidth\":0,\"ticks\":\"\"}},\"type\":\"scatter3d\"}],\"scattercarpet\":[{\"marker\":{\"colorbar\":{\"outlinewidth\":0,\"ticks\":\"\"}},\"type\":\"scattercarpet\"}],\"scattergeo\":[{\"marker\":{\"colorbar\":{\"outlinewidth\":0,\"ticks\":\"\"}},\"type\":\"scattergeo\"}],\"scattergl\":[{\"marker\":{\"colorbar\":{\"outlinewidth\":0,\"ticks\":\"\"}},\"type\":\"scattergl\"}],\"scattermapbox\":[{\"marker\":{\"colorbar\":{\"outlinewidth\":0,\"ticks\":\"\"}},\"type\":\"scattermapbox\"}],\"scatterpolar\":[{\"marker\":{\"colorbar\":{\"outlinewidth\":0,\"ticks\":\"\"}},\"type\":\"scatterpolar\"}],\"scatterpolargl\":[{\"marker\":{\"colorbar\":{\"outlinewidth\":0,\"ticks\":\"\"}},\"type\":\"scatterpolargl\"}],\"scatterternary\":[{\"marker\":{\"colorbar\":{\"outlinewidth\":0,\"ticks\":\"\"}},\"type\":\"scatterternary\"}],\"surface\":[{\"colorbar\":{\"outlinewidth\":0,\"ticks\":\"\"},\"colorscale\":[[0.0,\"#0d0887\"],[0.1111111111111111,\"#46039f\"],[0.2222222222222222,\"#7201a8\"],[0.3333333333333333,\"#9c179e\"],[0.4444444444444444,\"#bd3786\"],[0.5555555555555556,\"#d8576b\"],[0.6666666666666666,\"#ed7953\"],[0.7777777777777778,\"#fb9f3a\"],[0.8888888888888888,\"#fdca26\"],[1.0,\"#f0f921\"]],\"type\":\"surface\"}],\"table\":[{\"cells\":{\"fill\":{\"color\":\"#EBF0F8\"},\"line\":{\"color\":\"white\"}},\"header\":{\"fill\":{\"color\":\"#C8D4E3\"},\"line\":{\"color\":\"white\"}},\"type\":\"table\"}]},\"layout\":{\"annotationdefaults\":{\"arrowcolor\":\"#2a3f5f\",\"arrowhead\":0,\"arrowwidth\":1},\"autotypenumbers\":\"strict\",\"coloraxis\":{\"colorbar\":{\"outlinewidth\":0,\"ticks\":\"\"}},\"colorscale\":{\"diverging\":[[0,\"#8e0152\"],[0.1,\"#c51b7d\"],[0.2,\"#de77ae\"],[0.3,\"#f1b6da\"],[0.4,\"#fde0ef\"],[0.5,\"#f7f7f7\"],[0.6,\"#e6f5d0\"],[0.7,\"#b8e186\"],[0.8,\"#7fbc41\"],[0.9,\"#4d9221\"],[1,\"#276419\"]],\"sequential\":[[0.0,\"#0d0887\"],[0.1111111111111111,\"#46039f\"],[0.2222222222222222,\"#7201a8\"],[0.3333333333333333,\"#9c179e\"],[0.4444444444444444,\"#bd3786\"],[0.5555555555555556,\"#d8576b\"],[0.6666666666666666,\"#ed7953\"],[0.7777777777777778,\"#fb9f3a\"],[0.8888888888888888,\"#fdca26\"],[1.0,\"#f0f921\"]],\"sequentialminus\":[[0.0,\"#0d0887\"],[0.1111111111111111,\"#46039f\"],[0.2222222222222222,\"#7201a8\"],[0.3333333333333333,\"#9c179e\"],[0.4444444444444444,\"#bd3786\"],[0.5555555555555556,\"#d8576b\"],[0.6666666666666666,\"#ed7953\"],[0.7777777777777778,\"#fb9f3a\"],[0.8888888888888888,\"#fdca26\"],[1.0,\"#f0f921\"]]},\"colorway\":[\"#636efa\",\"#EF553B\",\"#00cc96\",\"#ab63fa\",\"#FFA15A\",\"#19d3f3\",\"#FF6692\",\"#B6E880\",\"#FF97FF\",\"#FECB52\"],\"font\":{\"color\":\"#2a3f5f\"},\"geo\":{\"bgcolor\":\"white\",\"lakecolor\":\"white\",\"landcolor\":\"#E5ECF6\",\"showlakes\":true,\"showland\":true,\"subunitcolor\":\"white\"},\"hoverlabel\":{\"align\":\"left\"},\"hovermode\":\"closest\",\"mapbox\":{\"style\":\"light\"},\"paper_bgcolor\":\"white\",\"plot_bgcolor\":\"#E5ECF6\",\"polar\":{\"angularaxis\":{\"gridcolor\":\"white\",\"linecolor\":\"white\",\"ticks\":\"\"},\"bgcolor\":\"#E5ECF6\",\"radialaxis\":{\"gridcolor\":\"white\",\"linecolor\":\"white\",\"ticks\":\"\"}},\"scene\":{\"xaxis\":{\"backgroundcolor\":\"#E5ECF6\",\"gridcolor\":\"white\",\"gridwidth\":2,\"linecolor\":\"white\",\"showbackground\":true,\"ticks\":\"\",\"zerolinecolor\":\"white\"},\"yaxis\":{\"backgroundcolor\":\"#E5ECF6\",\"gridcolor\":\"white\",\"gridwidth\":2,\"linecolor\":\"white\",\"showbackground\":true,\"ticks\":\"\",\"zerolinecolor\":\"white\"},\"zaxis\":{\"backgroundcolor\":\"#E5ECF6\",\"gridcolor\":\"white\",\"gridwidth\":2,\"linecolor\":\"white\",\"showbackground\":true,\"ticks\":\"\",\"zerolinecolor\":\"white\"}},\"shapedefaults\":{\"line\":{\"color\":\"#2a3f5f\"}},\"ternary\":{\"aaxis\":{\"gridcolor\":\"white\",\"linecolor\":\"white\",\"ticks\":\"\"},\"baxis\":{\"gridcolor\":\"white\",\"linecolor\":\"white\",\"ticks\":\"\"},\"bgcolor\":\"#E5ECF6\",\"caxis\":{\"gridcolor\":\"white\",\"linecolor\":\"white\",\"ticks\":\"\"}},\"title\":{\"x\":0.05},\"xaxis\":{\"automargin\":true,\"gridcolor\":\"white\",\"linecolor\":\"white\",\"ticks\":\"\",\"title\":{\"standoff\":15},\"zerolinecolor\":\"white\",\"zerolinewidth\":2},\"yaxis\":{\"automargin\":true,\"gridcolor\":\"white\",\"linecolor\":\"white\",\"ticks\":\"\",\"title\":{\"standoff\":15},\"zerolinecolor\":\"white\",\"zerolinewidth\":2}}},\"font\":{\"family\":\"Courier New, monospace\",\"size\":18,\"color\":\"RebeccaPurple\"},\"title\":{\"text\":\"Gr\\u00e1fico do Tempo de Execu\\u00e7\\u00e3o - Sistemas Densos\"},\"xaxis\":{\"title\":{\"text\":\"Ordem da Matriz\"}},\"yaxis\":{\"title\":{\"text\":\"Tempo em ms\"}}},                        {\"responsive\": true}                    ).then(function(){\n",
              "                            \n",
              "var gd = document.getElementById('9b597a16-bb87-4057-b3cf-d1191dc81bda');\n",
              "var x = new MutationObserver(function (mutations, observer) {{\n",
              "        var display = window.getComputedStyle(gd).display;\n",
              "        if (!display || display === 'none') {{\n",
              "            console.log([gd, 'removed!']);\n",
              "            Plotly.purge(gd);\n",
              "            observer.disconnect();\n",
              "        }}\n",
              "}});\n",
              "\n",
              "// Listen for the removal of the full notebook cells\n",
              "var notebookContainer = gd.closest('#notebook-container');\n",
              "if (notebookContainer) {{\n",
              "    x.observe(notebookContainer, {childList: true});\n",
              "}}\n",
              "\n",
              "// Listen for the clearing of the current output cell\n",
              "var outputEl = gd.closest('.output');\n",
              "if (outputEl) {{\n",
              "    x.observe(outputEl, {childList: true});\n",
              "}}\n",
              "\n",
              "                        })                };                            </script>        </div>\n",
              "</body>\n",
              "</html>"
            ]
          },
          "metadata": {}
        },
        {
          "output_type": "display_data",
          "data": {
            "text/html": [
              "<html>\n",
              "<head><meta charset=\"utf-8\" /></head>\n",
              "<body>\n",
              "    <div>            <script src=\"https://cdnjs.cloudflare.com/ajax/libs/mathjax/2.7.5/MathJax.js?config=TeX-AMS-MML_SVG\"></script><script type=\"text/javascript\">if (window.MathJax) {MathJax.Hub.Config({SVG: {font: \"STIX-Web\"}});}</script>                <script type=\"text/javascript\">window.PlotlyConfig = {MathJaxConfig: 'local'};</script>\n",
              "        <script src=\"https://cdn.plot.ly/plotly-2.8.3.min.js\"></script>                <div id=\"4f84fb74-82f9-492c-88d7-43054342915b\" class=\"plotly-graph-div\" style=\"height:525px; width:100%;\"></div>            <script type=\"text/javascript\">                                    window.PLOTLYENV=window.PLOTLYENV || {};                                    if (document.getElementById(\"4f84fb74-82f9-492c-88d7-43054342915b\")) {                    Plotly.newPlot(                        \"4f84fb74-82f9-492c-88d7-43054342915b\",                        [{\"mode\":\"lines\",\"name\":\"Gauss\",\"x\":[10,20,30,40,50,60,70,80,90,100,110,120,130,140,150,160,170,180,190,200,210,220,230,240,250,260,270,280,290,300],\"y\":[55,210,465,820,1275,1830,2485,3240,4095,5050,6105,7260,8515,9870,11325,12880,14535,16290,18145,20100,22155,24310,26565,28920,31375,33930,36585,39340,42195,45150],\"type\":\"scatter\"},{\"mode\":\"lines\",\"name\":\"Lu\",\"x\":[10,20,30,40,50,60,70,80,90,100,110,120,130,140,150,160,170,180,190,200,210,220,230,240,250,260,270,280,290,300],\"y\":[440,3080,9920,22960,44200,75640,119280,177120,251160,343400,455840,590480,749320,934360,1147600,1391040,1666680,1976520,2322560,2706800,3131240,3597880,4108720,4665760,5271000,5926440,6634080,7395920,8213960,9090200],\"type\":\"scatter\"},{\"mode\":\"lines\",\"name\":\"Jacobi\",\"x\":[10,20,30,40,50,60,70,80,90,100,110,120,130,140,150,160,170,180,190,200,210,220,230,240,250,260,270,280,290,300],\"y\":[25,25,25,25,25,25,25,25,25,25,25,25,25,25,25,25,25,25,25,25,25,25,25,25,25,25,25,25,25,25],\"type\":\"scatter\"},{\"mode\":\"lines\",\"name\":\"Seidel\",\"x\":[10,20,30,40,50,60,70,80,90,100,110,120,130,140,150,160,170,180,190,200,210,220,230,240,250,260,270,280,290,300],\"y\":[25,25,25,25,25,25,25,25,25,25,25,25,25,25,25,25,25,25,25,25,25,25,25,25,25,25,25,25,25,25],\"type\":\"scatter\"}],                        {\"template\":{\"data\":{\"bar\":[{\"error_x\":{\"color\":\"#2a3f5f\"},\"error_y\":{\"color\":\"#2a3f5f\"},\"marker\":{\"line\":{\"color\":\"#E5ECF6\",\"width\":0.5},\"pattern\":{\"fillmode\":\"overlay\",\"size\":10,\"solidity\":0.2}},\"type\":\"bar\"}],\"barpolar\":[{\"marker\":{\"line\":{\"color\":\"#E5ECF6\",\"width\":0.5},\"pattern\":{\"fillmode\":\"overlay\",\"size\":10,\"solidity\":0.2}},\"type\":\"barpolar\"}],\"carpet\":[{\"aaxis\":{\"endlinecolor\":\"#2a3f5f\",\"gridcolor\":\"white\",\"linecolor\":\"white\",\"minorgridcolor\":\"white\",\"startlinecolor\":\"#2a3f5f\"},\"baxis\":{\"endlinecolor\":\"#2a3f5f\",\"gridcolor\":\"white\",\"linecolor\":\"white\",\"minorgridcolor\":\"white\",\"startlinecolor\":\"#2a3f5f\"},\"type\":\"carpet\"}],\"choropleth\":[{\"colorbar\":{\"outlinewidth\":0,\"ticks\":\"\"},\"type\":\"choropleth\"}],\"contour\":[{\"colorbar\":{\"outlinewidth\":0,\"ticks\":\"\"},\"colorscale\":[[0.0,\"#0d0887\"],[0.1111111111111111,\"#46039f\"],[0.2222222222222222,\"#7201a8\"],[0.3333333333333333,\"#9c179e\"],[0.4444444444444444,\"#bd3786\"],[0.5555555555555556,\"#d8576b\"],[0.6666666666666666,\"#ed7953\"],[0.7777777777777778,\"#fb9f3a\"],[0.8888888888888888,\"#fdca26\"],[1.0,\"#f0f921\"]],\"type\":\"contour\"}],\"contourcarpet\":[{\"colorbar\":{\"outlinewidth\":0,\"ticks\":\"\"},\"type\":\"contourcarpet\"}],\"heatmap\":[{\"colorbar\":{\"outlinewidth\":0,\"ticks\":\"\"},\"colorscale\":[[0.0,\"#0d0887\"],[0.1111111111111111,\"#46039f\"],[0.2222222222222222,\"#7201a8\"],[0.3333333333333333,\"#9c179e\"],[0.4444444444444444,\"#bd3786\"],[0.5555555555555556,\"#d8576b\"],[0.6666666666666666,\"#ed7953\"],[0.7777777777777778,\"#fb9f3a\"],[0.8888888888888888,\"#fdca26\"],[1.0,\"#f0f921\"]],\"type\":\"heatmap\"}],\"heatmapgl\":[{\"colorbar\":{\"outlinewidth\":0,\"ticks\":\"\"},\"colorscale\":[[0.0,\"#0d0887\"],[0.1111111111111111,\"#46039f\"],[0.2222222222222222,\"#7201a8\"],[0.3333333333333333,\"#9c179e\"],[0.4444444444444444,\"#bd3786\"],[0.5555555555555556,\"#d8576b\"],[0.6666666666666666,\"#ed7953\"],[0.7777777777777778,\"#fb9f3a\"],[0.8888888888888888,\"#fdca26\"],[1.0,\"#f0f921\"]],\"type\":\"heatmapgl\"}],\"histogram\":[{\"marker\":{\"pattern\":{\"fillmode\":\"overlay\",\"size\":10,\"solidity\":0.2}},\"type\":\"histogram\"}],\"histogram2d\":[{\"colorbar\":{\"outlinewidth\":0,\"ticks\":\"\"},\"colorscale\":[[0.0,\"#0d0887\"],[0.1111111111111111,\"#46039f\"],[0.2222222222222222,\"#7201a8\"],[0.3333333333333333,\"#9c179e\"],[0.4444444444444444,\"#bd3786\"],[0.5555555555555556,\"#d8576b\"],[0.6666666666666666,\"#ed7953\"],[0.7777777777777778,\"#fb9f3a\"],[0.8888888888888888,\"#fdca26\"],[1.0,\"#f0f921\"]],\"type\":\"histogram2d\"}],\"histogram2dcontour\":[{\"colorbar\":{\"outlinewidth\":0,\"ticks\":\"\"},\"colorscale\":[[0.0,\"#0d0887\"],[0.1111111111111111,\"#46039f\"],[0.2222222222222222,\"#7201a8\"],[0.3333333333333333,\"#9c179e\"],[0.4444444444444444,\"#bd3786\"],[0.5555555555555556,\"#d8576b\"],[0.6666666666666666,\"#ed7953\"],[0.7777777777777778,\"#fb9f3a\"],[0.8888888888888888,\"#fdca26\"],[1.0,\"#f0f921\"]],\"type\":\"histogram2dcontour\"}],\"mesh3d\":[{\"colorbar\":{\"outlinewidth\":0,\"ticks\":\"\"},\"type\":\"mesh3d\"}],\"parcoords\":[{\"line\":{\"colorbar\":{\"outlinewidth\":0,\"ticks\":\"\"}},\"type\":\"parcoords\"}],\"pie\":[{\"automargin\":true,\"type\":\"pie\"}],\"scatter\":[{\"marker\":{\"colorbar\":{\"outlinewidth\":0,\"ticks\":\"\"}},\"type\":\"scatter\"}],\"scatter3d\":[{\"line\":{\"colorbar\":{\"outlinewidth\":0,\"ticks\":\"\"}},\"marker\":{\"colorbar\":{\"outlinewidth\":0,\"ticks\":\"\"}},\"type\":\"scatter3d\"}],\"scattercarpet\":[{\"marker\":{\"colorbar\":{\"outlinewidth\":0,\"ticks\":\"\"}},\"type\":\"scattercarpet\"}],\"scattergeo\":[{\"marker\":{\"colorbar\":{\"outlinewidth\":0,\"ticks\":\"\"}},\"type\":\"scattergeo\"}],\"scattergl\":[{\"marker\":{\"colorbar\":{\"outlinewidth\":0,\"ticks\":\"\"}},\"type\":\"scattergl\"}],\"scattermapbox\":[{\"marker\":{\"colorbar\":{\"outlinewidth\":0,\"ticks\":\"\"}},\"type\":\"scattermapbox\"}],\"scatterpolar\":[{\"marker\":{\"colorbar\":{\"outlinewidth\":0,\"ticks\":\"\"}},\"type\":\"scatterpolar\"}],\"scatterpolargl\":[{\"marker\":{\"colorbar\":{\"outlinewidth\":0,\"ticks\":\"\"}},\"type\":\"scatterpolargl\"}],\"scatterternary\":[{\"marker\":{\"colorbar\":{\"outlinewidth\":0,\"ticks\":\"\"}},\"type\":\"scatterternary\"}],\"surface\":[{\"colorbar\":{\"outlinewidth\":0,\"ticks\":\"\"},\"colorscale\":[[0.0,\"#0d0887\"],[0.1111111111111111,\"#46039f\"],[0.2222222222222222,\"#7201a8\"],[0.3333333333333333,\"#9c179e\"],[0.4444444444444444,\"#bd3786\"],[0.5555555555555556,\"#d8576b\"],[0.6666666666666666,\"#ed7953\"],[0.7777777777777778,\"#fb9f3a\"],[0.8888888888888888,\"#fdca26\"],[1.0,\"#f0f921\"]],\"type\":\"surface\"}],\"table\":[{\"cells\":{\"fill\":{\"color\":\"#EBF0F8\"},\"line\":{\"color\":\"white\"}},\"header\":{\"fill\":{\"color\":\"#C8D4E3\"},\"line\":{\"color\":\"white\"}},\"type\":\"table\"}]},\"layout\":{\"annotationdefaults\":{\"arrowcolor\":\"#2a3f5f\",\"arrowhead\":0,\"arrowwidth\":1},\"autotypenumbers\":\"strict\",\"coloraxis\":{\"colorbar\":{\"outlinewidth\":0,\"ticks\":\"\"}},\"colorscale\":{\"diverging\":[[0,\"#8e0152\"],[0.1,\"#c51b7d\"],[0.2,\"#de77ae\"],[0.3,\"#f1b6da\"],[0.4,\"#fde0ef\"],[0.5,\"#f7f7f7\"],[0.6,\"#e6f5d0\"],[0.7,\"#b8e186\"],[0.8,\"#7fbc41\"],[0.9,\"#4d9221\"],[1,\"#276419\"]],\"sequential\":[[0.0,\"#0d0887\"],[0.1111111111111111,\"#46039f\"],[0.2222222222222222,\"#7201a8\"],[0.3333333333333333,\"#9c179e\"],[0.4444444444444444,\"#bd3786\"],[0.5555555555555556,\"#d8576b\"],[0.6666666666666666,\"#ed7953\"],[0.7777777777777778,\"#fb9f3a\"],[0.8888888888888888,\"#fdca26\"],[1.0,\"#f0f921\"]],\"sequentialminus\":[[0.0,\"#0d0887\"],[0.1111111111111111,\"#46039f\"],[0.2222222222222222,\"#7201a8\"],[0.3333333333333333,\"#9c179e\"],[0.4444444444444444,\"#bd3786\"],[0.5555555555555556,\"#d8576b\"],[0.6666666666666666,\"#ed7953\"],[0.7777777777777778,\"#fb9f3a\"],[0.8888888888888888,\"#fdca26\"],[1.0,\"#f0f921\"]]},\"colorway\":[\"#636efa\",\"#EF553B\",\"#00cc96\",\"#ab63fa\",\"#FFA15A\",\"#19d3f3\",\"#FF6692\",\"#B6E880\",\"#FF97FF\",\"#FECB52\"],\"font\":{\"color\":\"#2a3f5f\"},\"geo\":{\"bgcolor\":\"white\",\"lakecolor\":\"white\",\"landcolor\":\"#E5ECF6\",\"showlakes\":true,\"showland\":true,\"subunitcolor\":\"white\"},\"hoverlabel\":{\"align\":\"left\"},\"hovermode\":\"closest\",\"mapbox\":{\"style\":\"light\"},\"paper_bgcolor\":\"white\",\"plot_bgcolor\":\"#E5ECF6\",\"polar\":{\"angularaxis\":{\"gridcolor\":\"white\",\"linecolor\":\"white\",\"ticks\":\"\"},\"bgcolor\":\"#E5ECF6\",\"radialaxis\":{\"gridcolor\":\"white\",\"linecolor\":\"white\",\"ticks\":\"\"}},\"scene\":{\"xaxis\":{\"backgroundcolor\":\"#E5ECF6\",\"gridcolor\":\"white\",\"gridwidth\":2,\"linecolor\":\"white\",\"showbackground\":true,\"ticks\":\"\",\"zerolinecolor\":\"white\"},\"yaxis\":{\"backgroundcolor\":\"#E5ECF6\",\"gridcolor\":\"white\",\"gridwidth\":2,\"linecolor\":\"white\",\"showbackground\":true,\"ticks\":\"\",\"zerolinecolor\":\"white\"},\"zaxis\":{\"backgroundcolor\":\"#E5ECF6\",\"gridcolor\":\"white\",\"gridwidth\":2,\"linecolor\":\"white\",\"showbackground\":true,\"ticks\":\"\",\"zerolinecolor\":\"white\"}},\"shapedefaults\":{\"line\":{\"color\":\"#2a3f5f\"}},\"ternary\":{\"aaxis\":{\"gridcolor\":\"white\",\"linecolor\":\"white\",\"ticks\":\"\"},\"baxis\":{\"gridcolor\":\"white\",\"linecolor\":\"white\",\"ticks\":\"\"},\"bgcolor\":\"#E5ECF6\",\"caxis\":{\"gridcolor\":\"white\",\"linecolor\":\"white\",\"ticks\":\"\"}},\"title\":{\"x\":0.05},\"xaxis\":{\"automargin\":true,\"gridcolor\":\"white\",\"linecolor\":\"white\",\"ticks\":\"\",\"title\":{\"standoff\":15},\"zerolinecolor\":\"white\",\"zerolinewidth\":2},\"yaxis\":{\"automargin\":true,\"gridcolor\":\"white\",\"linecolor\":\"white\",\"ticks\":\"\",\"title\":{\"standoff\":15},\"zerolinecolor\":\"white\",\"zerolinewidth\":2}}},\"font\":{\"family\":\"Courier New, monospace\",\"size\":18,\"color\":\"RebeccaPurple\"},\"title\":{\"text\":\"Gr\\u00e1fico de Itera\\u00e7\\u00f5es - Sistemas Densos\"},\"xaxis\":{\"title\":{\"text\":\"Ordem da Matriz\"}},\"yaxis\":{\"title\":{\"text\":\"Tempo em ms\"}}},                        {\"responsive\": true}                    ).then(function(){\n",
              "                            \n",
              "var gd = document.getElementById('4f84fb74-82f9-492c-88d7-43054342915b');\n",
              "var x = new MutationObserver(function (mutations, observer) {{\n",
              "        var display = window.getComputedStyle(gd).display;\n",
              "        if (!display || display === 'none') {{\n",
              "            console.log([gd, 'removed!']);\n",
              "            Plotly.purge(gd);\n",
              "            observer.disconnect();\n",
              "        }}\n",
              "}});\n",
              "\n",
              "// Listen for the removal of the full notebook cells\n",
              "var notebookContainer = gd.closest('#notebook-container');\n",
              "if (notebookContainer) {{\n",
              "    x.observe(notebookContainer, {childList: true});\n",
              "}}\n",
              "\n",
              "// Listen for the clearing of the current output cell\n",
              "var outputEl = gd.closest('.output');\n",
              "if (outputEl) {{\n",
              "    x.observe(outputEl, {childList: true});\n",
              "}}\n",
              "\n",
              "                        })                };                            </script>        </div>\n",
              "</body>\n",
              "</html>"
            ]
          },
          "metadata": {}
        }
      ]
    },
    {
      "cell_type": "markdown",
      "source": [
        "#**Gráfico dos sistemas esparsos**"
      ],
      "metadata": {
        "id": "a6geIlM41Ce0"
      }
    },
    {
      "cell_type": "code",
      "source": [
        "n = [10]\n",
        "\n",
        "for i in range(20, 301, 10):\n",
        "  n.append(i)\n",
        "\n",
        "timeGauss = []\n",
        "timeLu = []\n",
        "timeJacobi = []\n",
        "timeSeidel = []\n",
        "\n",
        "itGauss = []\n",
        "itLu = []\n",
        "itJacobi = []\n",
        "itSeidel = []\n",
        "\n",
        "for item in n:\n",
        "  A0, b = criarMatrizEsparsa(item)\n",
        "  A1 = A0.copy()\n",
        "  A2 = A0.copy()\n",
        "  A3 = A0.copy()\n",
        "\n",
        "  #print(f'Solve: {solve(A0,b)}')\n",
        "\n",
        "  timeStart = time.time()\n",
        "  G = gauss(A0,b)\n",
        "  timeEnd = time.time()\n",
        "  timeGauss.append((timeEnd - timeStart)*1000)\n",
        "  itGauss.append(G[1])\n",
        "\n",
        "  timeStart = time.time()\n",
        "  M = magalu(A1,b)\n",
        "  timeEnd = time.time()\n",
        "  timeLu.append((timeEnd - timeStart)*1000)\n",
        "  itLu.append(M[1])\n",
        "\n",
        "  timeStart = time.time()\n",
        "  J = jacobi(A2,b, 25)\n",
        "  timeEnd = time.time()\n",
        "  timeJacobi.append((timeEnd - timeStart)*1000)\n",
        "  itJacobi.append(J[1])\n",
        "\n",
        "  timeStart = time.time()\n",
        "  S = gauss_seidel(A3,b, 25)\n",
        "  timeEnd = time.time()\n",
        "  timeSeidel.append((timeEnd - timeStart)*1000)\n",
        "  itSeidel.append(S[1])\n",
        "\n",
        "print(timeGauss)\n",
        "print(timeLu)\n",
        "print(timeJacobi)\n",
        "print(timeSeidel)\n",
        "print(itGauss)\n",
        "print(itLu)\n",
        "print(itJacobi)\n",
        "print(itSeidel)\n",
        "\n",
        "timeGraph = go.Figure()\n",
        "timeGraph.update_layout(\n",
        "    title=\"Gráfico do Tempo de Execução - Sistemas Esparsos\",\n",
        "    xaxis_title=\"Ordem da Matriz\",\n",
        "    yaxis_title=\"Tempo em ms\",\n",
        "    font=dict(\n",
        "        family=\"Courier New, monospace\",\n",
        "        size=18,\n",
        "        color=\"RebeccaPurple\"\n",
        "    )\n",
        ")\n",
        "\n",
        "timeGraph.add_trace(go.Scatter(x=n, y=timeGauss,mode='lines',name='Gauss'))\n",
        "timeGraph.add_trace(go.Scatter(x=n, y=timeLu,mode='lines',name='Lu'))\n",
        "timeGraph.add_trace(go.Scatter(x=n, y=timeJacobi,mode='lines',name='Jacobi'))\n",
        "timeGraph.add_trace(go.Scatter(x=n, y=timeSeidel,mode='lines',name='Seidel', line=dict(color=\"#ff0000\")))\n",
        "timeGraph.show()\n",
        "\n",
        "\n",
        "itGraph = go.Figure()\n",
        "itGraph.update_layout(\n",
        "    title=\"Gráfico de Iterações - Sistemas Esparsos\",\n",
        "    xaxis_title=\"Ordem da Matriz\",\n",
        "    yaxis_title=\"Tempo em ms\",\n",
        "    font=dict(\n",
        "        family=\"Courier New, monospace\",\n",
        "        size=18,\n",
        "        color=\"RebeccaPurple\"\n",
        "    )\n",
        ")\n",
        "\n",
        "itGraph.add_trace(go.Scatter(x=n, y=itGauss,mode='lines',name='Gauss'))\n",
        "itGraph.add_trace(go.Scatter(x=n, y=itLu,mode='lines',name='Lu'))\n",
        "itGraph.add_trace(go.Scatter(x=n, y=itJacobi,mode='lines',name='Jacobi'))\n",
        "itGraph.add_trace(go.Scatter(x=n, y=itSeidel,mode='lines',name='Seidel', line=dict(color=\"#ff0000\")))\n",
        "itGraph.show()"
      ],
      "metadata": {
        "colab": {
          "base_uri": "https://localhost:8080/",
          "height": 1000
        },
        "id": "SlYfHfVOcP6J",
        "outputId": "7a2fbd56-63b6-442f-b22f-bb6959057e2e"
      },
      "execution_count": null,
      "outputs": [
        {
          "output_type": "stream",
          "name": "stdout",
          "text": [
            "[0.5106925964355469, 2.1772384643554688, 5.736351013183594, 9.148359298706055, 13.84878158569336, 22.190570831298828, 33.51426124572754, 42.10352897644043, 55.42588233947754, 71.45833969116211, 80.18898963928223, 99.02358055114746, 109.33780670166016, 138.60511779785156, 181.68258666992188, 244.08769607543945, 264.7898197174072, 248.70753288269043, 282.0284366607666, 298.75755310058594, 314.5442008972168, 352.247953414917, 398.78249168395996, 424.3130683898926, 466.63784980773926, 521.9783782958984, 552.3843765258789, 604.5281887054443, 654.0873050689697, 718.0814743041992]\n",
            "[1.3120174407958984, 10.754823684692383, 32.157182693481445, 72.01862335205078, 159.07931327819824, 270.99609375, 469.23184394836426, 667.6766872406006, 831.9511413574219, 1143.6686515808105, 1680.1214218139648, 1950.089454650879, 2611.6418838500977, 3152.109146118164, 4077.709436416626, 5589.167594909668, 6575.850248336792, 6691.050052642822, 7845.752716064453, 9015.28000831604, 10324.039220809937, 11994.101285934448, 13623.889207839966, 16868.465662002563, 17790.83299636841, 19913.32483291626, 22191.40934944153, 24765.417098999023, 29276.353120803833, 30757.081270217896]\n",
            "[0.1971721649169922, 0.2732276916503906, 0.30612945556640625, 0.3185272216796875, 0.3662109375, 0.4017353057861328, 0.42629241943359375, 0.4515647888183594, 0.5397796630859375, 0.9825229644775391, 1.2347698211669922, 2.523183822631836, 1.646280288696289, 2.3131370544433594, 1.9752979278564453, 7.681846618652344, 4.939794540405273, 2.6030540466308594, 4.576206207275391, 4.162788391113281, 4.340410232543945, 4.380226135253906, 4.832267761230469, 5.297183990478516, 5.76472282409668, 6.783246994018555, 6.447792053222656, 6.546258926391602, 7.250308990478516, 8.282184600830078]\n",
            "[7.30443000793457, 30.328989028930664, 63.26889991760254, 116.00184440612793, 189.6035671234131, 290.1191711425781, 386.6403102874756, 467.77963638305664, 624.215841293335, 759.6092224121094, 930.6132793426514, 1088.932991027832, 1427.832841873169, 1433.1645965576172, 1760.7884407043457, 2262.9618644714355, 2191.4682388305664, 2395.021677017212, 2595.4880714416504, 2885.6899738311768, 3182.399034500122, 3466.506242752075, 3848.2437133789062, 4138.537645339966, 4447.944641113281, 4933.818101882935, 5305.6800365448, 5536.900043487549, 5957.519769668579, 6583.914279937744]\n",
            "[55, 210, 465, 820, 1275, 1830, 2485, 3240, 4095, 5050, 6105, 7260, 8515, 9870, 11325, 12880, 14535, 16290, 18145, 20100, 22155, 24310, 26565, 28920, 31375, 33930, 36585, 39340, 42195, 45150]\n",
            "[440, 3080, 9920, 22960, 44200, 75640, 119280, 177120, 251160, 343400, 455840, 590480, 749320, 934360, 1147600, 1391040, 1666680, 1976520, 2322560, 2706800, 3131240, 3597880, 4108720, 4665760, 5271000, 5926440, 6634080, 7395920, 8213960, 9090200]\n",
            "[25, 25, 25, 25, 25, 25, 25, 25, 25, 25, 25, 25, 25, 25, 25, 25, 25, 25, 25, 25, 25, 25, 25, 25, 25, 25, 25, 25, 25, 25]\n",
            "[25, 25, 25, 25, 25, 25, 25, 25, 25, 25, 25, 25, 25, 25, 25, 25, 25, 25, 25, 25, 25, 25, 25, 25, 25, 25, 25, 25, 25, 25]\n"
          ]
        },
        {
          "output_type": "display_data",
          "data": {
            "text/html": [
              "<html>\n",
              "<head><meta charset=\"utf-8\" /></head>\n",
              "<body>\n",
              "    <div>            <script src=\"https://cdnjs.cloudflare.com/ajax/libs/mathjax/2.7.5/MathJax.js?config=TeX-AMS-MML_SVG\"></script><script type=\"text/javascript\">if (window.MathJax) {MathJax.Hub.Config({SVG: {font: \"STIX-Web\"}});}</script>                <script type=\"text/javascript\">window.PlotlyConfig = {MathJaxConfig: 'local'};</script>\n",
              "        <script src=\"https://cdn.plot.ly/plotly-2.8.3.min.js\"></script>                <div id=\"c141a234-ff32-48d2-bf9f-d2cdcd39b0c8\" class=\"plotly-graph-div\" style=\"height:525px; width:100%;\"></div>            <script type=\"text/javascript\">                                    window.PLOTLYENV=window.PLOTLYENV || {};                                    if (document.getElementById(\"c141a234-ff32-48d2-bf9f-d2cdcd39b0c8\")) {                    Plotly.newPlot(                        \"c141a234-ff32-48d2-bf9f-d2cdcd39b0c8\",                        [{\"mode\":\"lines\",\"name\":\"Gauss\",\"x\":[10,20,30,40,50,60,70,80,90,100,110,120,130,140,150,160,170,180,190,200,210,220,230,240,250,260,270,280,290,300],\"y\":[0.5106925964355469,2.1772384643554688,5.736351013183594,9.148359298706055,13.84878158569336,22.190570831298828,33.51426124572754,42.10352897644043,55.42588233947754,71.45833969116211,80.18898963928223,99.02358055114746,109.33780670166016,138.60511779785156,181.68258666992188,244.08769607543945,264.7898197174072,248.70753288269043,282.0284366607666,298.75755310058594,314.5442008972168,352.247953414917,398.78249168395996,424.3130683898926,466.63784980773926,521.9783782958984,552.3843765258789,604.5281887054443,654.0873050689697,718.0814743041992],\"type\":\"scatter\"},{\"mode\":\"lines\",\"name\":\"Lu\",\"x\":[10,20,30,40,50,60,70,80,90,100,110,120,130,140,150,160,170,180,190,200,210,220,230,240,250,260,270,280,290,300],\"y\":[1.3120174407958984,10.754823684692383,32.157182693481445,72.01862335205078,159.07931327819824,270.99609375,469.23184394836426,667.6766872406006,831.9511413574219,1143.6686515808105,1680.1214218139648,1950.089454650879,2611.6418838500977,3152.109146118164,4077.709436416626,5589.167594909668,6575.850248336792,6691.050052642822,7845.752716064453,9015.28000831604,10324.039220809937,11994.101285934448,13623.889207839966,16868.465662002563,17790.83299636841,19913.32483291626,22191.40934944153,24765.417098999023,29276.353120803833,30757.081270217896],\"type\":\"scatter\"},{\"mode\":\"lines\",\"name\":\"Jacobi\",\"x\":[10,20,30,40,50,60,70,80,90,100,110,120,130,140,150,160,170,180,190,200,210,220,230,240,250,260,270,280,290,300],\"y\":[0.1971721649169922,0.2732276916503906,0.30612945556640625,0.3185272216796875,0.3662109375,0.4017353057861328,0.42629241943359375,0.4515647888183594,0.5397796630859375,0.9825229644775391,1.2347698211669922,2.523183822631836,1.646280288696289,2.3131370544433594,1.9752979278564453,7.681846618652344,4.939794540405273,2.6030540466308594,4.576206207275391,4.162788391113281,4.340410232543945,4.380226135253906,4.832267761230469,5.297183990478516,5.76472282409668,6.783246994018555,6.447792053222656,6.546258926391602,7.250308990478516,8.282184600830078],\"type\":\"scatter\"},{\"line\":{\"color\":\"#ff0000\"},\"mode\":\"lines\",\"name\":\"Seidel\",\"x\":[10,20,30,40,50,60,70,80,90,100,110,120,130,140,150,160,170,180,190,200,210,220,230,240,250,260,270,280,290,300],\"y\":[7.30443000793457,30.328989028930664,63.26889991760254,116.00184440612793,189.6035671234131,290.1191711425781,386.6403102874756,467.77963638305664,624.215841293335,759.6092224121094,930.6132793426514,1088.932991027832,1427.832841873169,1433.1645965576172,1760.7884407043457,2262.9618644714355,2191.4682388305664,2395.021677017212,2595.4880714416504,2885.6899738311768,3182.399034500122,3466.506242752075,3848.2437133789062,4138.537645339966,4447.944641113281,4933.818101882935,5305.6800365448,5536.900043487549,5957.519769668579,6583.914279937744],\"type\":\"scatter\"}],                        {\"template\":{\"data\":{\"bar\":[{\"error_x\":{\"color\":\"#2a3f5f\"},\"error_y\":{\"color\":\"#2a3f5f\"},\"marker\":{\"line\":{\"color\":\"#E5ECF6\",\"width\":0.5},\"pattern\":{\"fillmode\":\"overlay\",\"size\":10,\"solidity\":0.2}},\"type\":\"bar\"}],\"barpolar\":[{\"marker\":{\"line\":{\"color\":\"#E5ECF6\",\"width\":0.5},\"pattern\":{\"fillmode\":\"overlay\",\"size\":10,\"solidity\":0.2}},\"type\":\"barpolar\"}],\"carpet\":[{\"aaxis\":{\"endlinecolor\":\"#2a3f5f\",\"gridcolor\":\"white\",\"linecolor\":\"white\",\"minorgridcolor\":\"white\",\"startlinecolor\":\"#2a3f5f\"},\"baxis\":{\"endlinecolor\":\"#2a3f5f\",\"gridcolor\":\"white\",\"linecolor\":\"white\",\"minorgridcolor\":\"white\",\"startlinecolor\":\"#2a3f5f\"},\"type\":\"carpet\"}],\"choropleth\":[{\"colorbar\":{\"outlinewidth\":0,\"ticks\":\"\"},\"type\":\"choropleth\"}],\"contour\":[{\"colorbar\":{\"outlinewidth\":0,\"ticks\":\"\"},\"colorscale\":[[0.0,\"#0d0887\"],[0.1111111111111111,\"#46039f\"],[0.2222222222222222,\"#7201a8\"],[0.3333333333333333,\"#9c179e\"],[0.4444444444444444,\"#bd3786\"],[0.5555555555555556,\"#d8576b\"],[0.6666666666666666,\"#ed7953\"],[0.7777777777777778,\"#fb9f3a\"],[0.8888888888888888,\"#fdca26\"],[1.0,\"#f0f921\"]],\"type\":\"contour\"}],\"contourcarpet\":[{\"colorbar\":{\"outlinewidth\":0,\"ticks\":\"\"},\"type\":\"contourcarpet\"}],\"heatmap\":[{\"colorbar\":{\"outlinewidth\":0,\"ticks\":\"\"},\"colorscale\":[[0.0,\"#0d0887\"],[0.1111111111111111,\"#46039f\"],[0.2222222222222222,\"#7201a8\"],[0.3333333333333333,\"#9c179e\"],[0.4444444444444444,\"#bd3786\"],[0.5555555555555556,\"#d8576b\"],[0.6666666666666666,\"#ed7953\"],[0.7777777777777778,\"#fb9f3a\"],[0.8888888888888888,\"#fdca26\"],[1.0,\"#f0f921\"]],\"type\":\"heatmap\"}],\"heatmapgl\":[{\"colorbar\":{\"outlinewidth\":0,\"ticks\":\"\"},\"colorscale\":[[0.0,\"#0d0887\"],[0.1111111111111111,\"#46039f\"],[0.2222222222222222,\"#7201a8\"],[0.3333333333333333,\"#9c179e\"],[0.4444444444444444,\"#bd3786\"],[0.5555555555555556,\"#d8576b\"],[0.6666666666666666,\"#ed7953\"],[0.7777777777777778,\"#fb9f3a\"],[0.8888888888888888,\"#fdca26\"],[1.0,\"#f0f921\"]],\"type\":\"heatmapgl\"}],\"histogram\":[{\"marker\":{\"pattern\":{\"fillmode\":\"overlay\",\"size\":10,\"solidity\":0.2}},\"type\":\"histogram\"}],\"histogram2d\":[{\"colorbar\":{\"outlinewidth\":0,\"ticks\":\"\"},\"colorscale\":[[0.0,\"#0d0887\"],[0.1111111111111111,\"#46039f\"],[0.2222222222222222,\"#7201a8\"],[0.3333333333333333,\"#9c179e\"],[0.4444444444444444,\"#bd3786\"],[0.5555555555555556,\"#d8576b\"],[0.6666666666666666,\"#ed7953\"],[0.7777777777777778,\"#fb9f3a\"],[0.8888888888888888,\"#fdca26\"],[1.0,\"#f0f921\"]],\"type\":\"histogram2d\"}],\"histogram2dcontour\":[{\"colorbar\":{\"outlinewidth\":0,\"ticks\":\"\"},\"colorscale\":[[0.0,\"#0d0887\"],[0.1111111111111111,\"#46039f\"],[0.2222222222222222,\"#7201a8\"],[0.3333333333333333,\"#9c179e\"],[0.4444444444444444,\"#bd3786\"],[0.5555555555555556,\"#d8576b\"],[0.6666666666666666,\"#ed7953\"],[0.7777777777777778,\"#fb9f3a\"],[0.8888888888888888,\"#fdca26\"],[1.0,\"#f0f921\"]],\"type\":\"histogram2dcontour\"}],\"mesh3d\":[{\"colorbar\":{\"outlinewidth\":0,\"ticks\":\"\"},\"type\":\"mesh3d\"}],\"parcoords\":[{\"line\":{\"colorbar\":{\"outlinewidth\":0,\"ticks\":\"\"}},\"type\":\"parcoords\"}],\"pie\":[{\"automargin\":true,\"type\":\"pie\"}],\"scatter\":[{\"marker\":{\"colorbar\":{\"outlinewidth\":0,\"ticks\":\"\"}},\"type\":\"scatter\"}],\"scatter3d\":[{\"line\":{\"colorbar\":{\"outlinewidth\":0,\"ticks\":\"\"}},\"marker\":{\"colorbar\":{\"outlinewidth\":0,\"ticks\":\"\"}},\"type\":\"scatter3d\"}],\"scattercarpet\":[{\"marker\":{\"colorbar\":{\"outlinewidth\":0,\"ticks\":\"\"}},\"type\":\"scattercarpet\"}],\"scattergeo\":[{\"marker\":{\"colorbar\":{\"outlinewidth\":0,\"ticks\":\"\"}},\"type\":\"scattergeo\"}],\"scattergl\":[{\"marker\":{\"colorbar\":{\"outlinewidth\":0,\"ticks\":\"\"}},\"type\":\"scattergl\"}],\"scattermapbox\":[{\"marker\":{\"colorbar\":{\"outlinewidth\":0,\"ticks\":\"\"}},\"type\":\"scattermapbox\"}],\"scatterpolar\":[{\"marker\":{\"colorbar\":{\"outlinewidth\":0,\"ticks\":\"\"}},\"type\":\"scatterpolar\"}],\"scatterpolargl\":[{\"marker\":{\"colorbar\":{\"outlinewidth\":0,\"ticks\":\"\"}},\"type\":\"scatterpolargl\"}],\"scatterternary\":[{\"marker\":{\"colorbar\":{\"outlinewidth\":0,\"ticks\":\"\"}},\"type\":\"scatterternary\"}],\"surface\":[{\"colorbar\":{\"outlinewidth\":0,\"ticks\":\"\"},\"colorscale\":[[0.0,\"#0d0887\"],[0.1111111111111111,\"#46039f\"],[0.2222222222222222,\"#7201a8\"],[0.3333333333333333,\"#9c179e\"],[0.4444444444444444,\"#bd3786\"],[0.5555555555555556,\"#d8576b\"],[0.6666666666666666,\"#ed7953\"],[0.7777777777777778,\"#fb9f3a\"],[0.8888888888888888,\"#fdca26\"],[1.0,\"#f0f921\"]],\"type\":\"surface\"}],\"table\":[{\"cells\":{\"fill\":{\"color\":\"#EBF0F8\"},\"line\":{\"color\":\"white\"}},\"header\":{\"fill\":{\"color\":\"#C8D4E3\"},\"line\":{\"color\":\"white\"}},\"type\":\"table\"}]},\"layout\":{\"annotationdefaults\":{\"arrowcolor\":\"#2a3f5f\",\"arrowhead\":0,\"arrowwidth\":1},\"autotypenumbers\":\"strict\",\"coloraxis\":{\"colorbar\":{\"outlinewidth\":0,\"ticks\":\"\"}},\"colorscale\":{\"diverging\":[[0,\"#8e0152\"],[0.1,\"#c51b7d\"],[0.2,\"#de77ae\"],[0.3,\"#f1b6da\"],[0.4,\"#fde0ef\"],[0.5,\"#f7f7f7\"],[0.6,\"#e6f5d0\"],[0.7,\"#b8e186\"],[0.8,\"#7fbc41\"],[0.9,\"#4d9221\"],[1,\"#276419\"]],\"sequential\":[[0.0,\"#0d0887\"],[0.1111111111111111,\"#46039f\"],[0.2222222222222222,\"#7201a8\"],[0.3333333333333333,\"#9c179e\"],[0.4444444444444444,\"#bd3786\"],[0.5555555555555556,\"#d8576b\"],[0.6666666666666666,\"#ed7953\"],[0.7777777777777778,\"#fb9f3a\"],[0.8888888888888888,\"#fdca26\"],[1.0,\"#f0f921\"]],\"sequentialminus\":[[0.0,\"#0d0887\"],[0.1111111111111111,\"#46039f\"],[0.2222222222222222,\"#7201a8\"],[0.3333333333333333,\"#9c179e\"],[0.4444444444444444,\"#bd3786\"],[0.5555555555555556,\"#d8576b\"],[0.6666666666666666,\"#ed7953\"],[0.7777777777777778,\"#fb9f3a\"],[0.8888888888888888,\"#fdca26\"],[1.0,\"#f0f921\"]]},\"colorway\":[\"#636efa\",\"#EF553B\",\"#00cc96\",\"#ab63fa\",\"#FFA15A\",\"#19d3f3\",\"#FF6692\",\"#B6E880\",\"#FF97FF\",\"#FECB52\"],\"font\":{\"color\":\"#2a3f5f\"},\"geo\":{\"bgcolor\":\"white\",\"lakecolor\":\"white\",\"landcolor\":\"#E5ECF6\",\"showlakes\":true,\"showland\":true,\"subunitcolor\":\"white\"},\"hoverlabel\":{\"align\":\"left\"},\"hovermode\":\"closest\",\"mapbox\":{\"style\":\"light\"},\"paper_bgcolor\":\"white\",\"plot_bgcolor\":\"#E5ECF6\",\"polar\":{\"angularaxis\":{\"gridcolor\":\"white\",\"linecolor\":\"white\",\"ticks\":\"\"},\"bgcolor\":\"#E5ECF6\",\"radialaxis\":{\"gridcolor\":\"white\",\"linecolor\":\"white\",\"ticks\":\"\"}},\"scene\":{\"xaxis\":{\"backgroundcolor\":\"#E5ECF6\",\"gridcolor\":\"white\",\"gridwidth\":2,\"linecolor\":\"white\",\"showbackground\":true,\"ticks\":\"\",\"zerolinecolor\":\"white\"},\"yaxis\":{\"backgroundcolor\":\"#E5ECF6\",\"gridcolor\":\"white\",\"gridwidth\":2,\"linecolor\":\"white\",\"showbackground\":true,\"ticks\":\"\",\"zerolinecolor\":\"white\"},\"zaxis\":{\"backgroundcolor\":\"#E5ECF6\",\"gridcolor\":\"white\",\"gridwidth\":2,\"linecolor\":\"white\",\"showbackground\":true,\"ticks\":\"\",\"zerolinecolor\":\"white\"}},\"shapedefaults\":{\"line\":{\"color\":\"#2a3f5f\"}},\"ternary\":{\"aaxis\":{\"gridcolor\":\"white\",\"linecolor\":\"white\",\"ticks\":\"\"},\"baxis\":{\"gridcolor\":\"white\",\"linecolor\":\"white\",\"ticks\":\"\"},\"bgcolor\":\"#E5ECF6\",\"caxis\":{\"gridcolor\":\"white\",\"linecolor\":\"white\",\"ticks\":\"\"}},\"title\":{\"x\":0.05},\"xaxis\":{\"automargin\":true,\"gridcolor\":\"white\",\"linecolor\":\"white\",\"ticks\":\"\",\"title\":{\"standoff\":15},\"zerolinecolor\":\"white\",\"zerolinewidth\":2},\"yaxis\":{\"automargin\":true,\"gridcolor\":\"white\",\"linecolor\":\"white\",\"ticks\":\"\",\"title\":{\"standoff\":15},\"zerolinecolor\":\"white\",\"zerolinewidth\":2}}},\"font\":{\"family\":\"Courier New, monospace\",\"size\":18,\"color\":\"RebeccaPurple\"},\"title\":{\"text\":\"Gr\\u00e1fico do Tempo de Execu\\u00e7\\u00e3o - Sistemas Esparsos\"},\"xaxis\":{\"title\":{\"text\":\"Ordem da Matriz\"}},\"yaxis\":{\"title\":{\"text\":\"Tempo em ms\"}}},                        {\"responsive\": true}                    ).then(function(){\n",
              "                            \n",
              "var gd = document.getElementById('c141a234-ff32-48d2-bf9f-d2cdcd39b0c8');\n",
              "var x = new MutationObserver(function (mutations, observer) {{\n",
              "        var display = window.getComputedStyle(gd).display;\n",
              "        if (!display || display === 'none') {{\n",
              "            console.log([gd, 'removed!']);\n",
              "            Plotly.purge(gd);\n",
              "            observer.disconnect();\n",
              "        }}\n",
              "}});\n",
              "\n",
              "// Listen for the removal of the full notebook cells\n",
              "var notebookContainer = gd.closest('#notebook-container');\n",
              "if (notebookContainer) {{\n",
              "    x.observe(notebookContainer, {childList: true});\n",
              "}}\n",
              "\n",
              "// Listen for the clearing of the current output cell\n",
              "var outputEl = gd.closest('.output');\n",
              "if (outputEl) {{\n",
              "    x.observe(outputEl, {childList: true});\n",
              "}}\n",
              "\n",
              "                        })                };                            </script>        </div>\n",
              "</body>\n",
              "</html>"
            ]
          },
          "metadata": {}
        },
        {
          "output_type": "display_data",
          "data": {
            "text/html": [
              "<html>\n",
              "<head><meta charset=\"utf-8\" /></head>\n",
              "<body>\n",
              "    <div>            <script src=\"https://cdnjs.cloudflare.com/ajax/libs/mathjax/2.7.5/MathJax.js?config=TeX-AMS-MML_SVG\"></script><script type=\"text/javascript\">if (window.MathJax) {MathJax.Hub.Config({SVG: {font: \"STIX-Web\"}});}</script>                <script type=\"text/javascript\">window.PlotlyConfig = {MathJaxConfig: 'local'};</script>\n",
              "        <script src=\"https://cdn.plot.ly/plotly-2.8.3.min.js\"></script>                <div id=\"ee928dc9-0b06-4505-a492-12ea2e3676f5\" class=\"plotly-graph-div\" style=\"height:525px; width:100%;\"></div>            <script type=\"text/javascript\">                                    window.PLOTLYENV=window.PLOTLYENV || {};                                    if (document.getElementById(\"ee928dc9-0b06-4505-a492-12ea2e3676f5\")) {                    Plotly.newPlot(                        \"ee928dc9-0b06-4505-a492-12ea2e3676f5\",                        [{\"mode\":\"lines\",\"name\":\"Gauss\",\"x\":[10,20,30,40,50,60,70,80,90,100,110,120,130,140,150,160,170,180,190,200,210,220,230,240,250,260,270,280,290,300],\"y\":[55,210,465,820,1275,1830,2485,3240,4095,5050,6105,7260,8515,9870,11325,12880,14535,16290,18145,20100,22155,24310,26565,28920,31375,33930,36585,39340,42195,45150],\"type\":\"scatter\"},{\"mode\":\"lines\",\"name\":\"Lu\",\"x\":[10,20,30,40,50,60,70,80,90,100,110,120,130,140,150,160,170,180,190,200,210,220,230,240,250,260,270,280,290,300],\"y\":[440,3080,9920,22960,44200,75640,119280,177120,251160,343400,455840,590480,749320,934360,1147600,1391040,1666680,1976520,2322560,2706800,3131240,3597880,4108720,4665760,5271000,5926440,6634080,7395920,8213960,9090200],\"type\":\"scatter\"},{\"mode\":\"lines\",\"name\":\"Jacobi\",\"x\":[10,20,30,40,50,60,70,80,90,100,110,120,130,140,150,160,170,180,190,200,210,220,230,240,250,260,270,280,290,300],\"y\":[25,25,25,25,25,25,25,25,25,25,25,25,25,25,25,25,25,25,25,25,25,25,25,25,25,25,25,25,25,25],\"type\":\"scatter\"},{\"line\":{\"color\":\"#ff0000\"},\"mode\":\"lines\",\"name\":\"Seidel\",\"x\":[10,20,30,40,50,60,70,80,90,100,110,120,130,140,150,160,170,180,190,200,210,220,230,240,250,260,270,280,290,300],\"y\":[25,25,25,25,25,25,25,25,25,25,25,25,25,25,25,25,25,25,25,25,25,25,25,25,25,25,25,25,25,25],\"type\":\"scatter\"}],                        {\"template\":{\"data\":{\"bar\":[{\"error_x\":{\"color\":\"#2a3f5f\"},\"error_y\":{\"color\":\"#2a3f5f\"},\"marker\":{\"line\":{\"color\":\"#E5ECF6\",\"width\":0.5},\"pattern\":{\"fillmode\":\"overlay\",\"size\":10,\"solidity\":0.2}},\"type\":\"bar\"}],\"barpolar\":[{\"marker\":{\"line\":{\"color\":\"#E5ECF6\",\"width\":0.5},\"pattern\":{\"fillmode\":\"overlay\",\"size\":10,\"solidity\":0.2}},\"type\":\"barpolar\"}],\"carpet\":[{\"aaxis\":{\"endlinecolor\":\"#2a3f5f\",\"gridcolor\":\"white\",\"linecolor\":\"white\",\"minorgridcolor\":\"white\",\"startlinecolor\":\"#2a3f5f\"},\"baxis\":{\"endlinecolor\":\"#2a3f5f\",\"gridcolor\":\"white\",\"linecolor\":\"white\",\"minorgridcolor\":\"white\",\"startlinecolor\":\"#2a3f5f\"},\"type\":\"carpet\"}],\"choropleth\":[{\"colorbar\":{\"outlinewidth\":0,\"ticks\":\"\"},\"type\":\"choropleth\"}],\"contour\":[{\"colorbar\":{\"outlinewidth\":0,\"ticks\":\"\"},\"colorscale\":[[0.0,\"#0d0887\"],[0.1111111111111111,\"#46039f\"],[0.2222222222222222,\"#7201a8\"],[0.3333333333333333,\"#9c179e\"],[0.4444444444444444,\"#bd3786\"],[0.5555555555555556,\"#d8576b\"],[0.6666666666666666,\"#ed7953\"],[0.7777777777777778,\"#fb9f3a\"],[0.8888888888888888,\"#fdca26\"],[1.0,\"#f0f921\"]],\"type\":\"contour\"}],\"contourcarpet\":[{\"colorbar\":{\"outlinewidth\":0,\"ticks\":\"\"},\"type\":\"contourcarpet\"}],\"heatmap\":[{\"colorbar\":{\"outlinewidth\":0,\"ticks\":\"\"},\"colorscale\":[[0.0,\"#0d0887\"],[0.1111111111111111,\"#46039f\"],[0.2222222222222222,\"#7201a8\"],[0.3333333333333333,\"#9c179e\"],[0.4444444444444444,\"#bd3786\"],[0.5555555555555556,\"#d8576b\"],[0.6666666666666666,\"#ed7953\"],[0.7777777777777778,\"#fb9f3a\"],[0.8888888888888888,\"#fdca26\"],[1.0,\"#f0f921\"]],\"type\":\"heatmap\"}],\"heatmapgl\":[{\"colorbar\":{\"outlinewidth\":0,\"ticks\":\"\"},\"colorscale\":[[0.0,\"#0d0887\"],[0.1111111111111111,\"#46039f\"],[0.2222222222222222,\"#7201a8\"],[0.3333333333333333,\"#9c179e\"],[0.4444444444444444,\"#bd3786\"],[0.5555555555555556,\"#d8576b\"],[0.6666666666666666,\"#ed7953\"],[0.7777777777777778,\"#fb9f3a\"],[0.8888888888888888,\"#fdca26\"],[1.0,\"#f0f921\"]],\"type\":\"heatmapgl\"}],\"histogram\":[{\"marker\":{\"pattern\":{\"fillmode\":\"overlay\",\"size\":10,\"solidity\":0.2}},\"type\":\"histogram\"}],\"histogram2d\":[{\"colorbar\":{\"outlinewidth\":0,\"ticks\":\"\"},\"colorscale\":[[0.0,\"#0d0887\"],[0.1111111111111111,\"#46039f\"],[0.2222222222222222,\"#7201a8\"],[0.3333333333333333,\"#9c179e\"],[0.4444444444444444,\"#bd3786\"],[0.5555555555555556,\"#d8576b\"],[0.6666666666666666,\"#ed7953\"],[0.7777777777777778,\"#fb9f3a\"],[0.8888888888888888,\"#fdca26\"],[1.0,\"#f0f921\"]],\"type\":\"histogram2d\"}],\"histogram2dcontour\":[{\"colorbar\":{\"outlinewidth\":0,\"ticks\":\"\"},\"colorscale\":[[0.0,\"#0d0887\"],[0.1111111111111111,\"#46039f\"],[0.2222222222222222,\"#7201a8\"],[0.3333333333333333,\"#9c179e\"],[0.4444444444444444,\"#bd3786\"],[0.5555555555555556,\"#d8576b\"],[0.6666666666666666,\"#ed7953\"],[0.7777777777777778,\"#fb9f3a\"],[0.8888888888888888,\"#fdca26\"],[1.0,\"#f0f921\"]],\"type\":\"histogram2dcontour\"}],\"mesh3d\":[{\"colorbar\":{\"outlinewidth\":0,\"ticks\":\"\"},\"type\":\"mesh3d\"}],\"parcoords\":[{\"line\":{\"colorbar\":{\"outlinewidth\":0,\"ticks\":\"\"}},\"type\":\"parcoords\"}],\"pie\":[{\"automargin\":true,\"type\":\"pie\"}],\"scatter\":[{\"marker\":{\"colorbar\":{\"outlinewidth\":0,\"ticks\":\"\"}},\"type\":\"scatter\"}],\"scatter3d\":[{\"line\":{\"colorbar\":{\"outlinewidth\":0,\"ticks\":\"\"}},\"marker\":{\"colorbar\":{\"outlinewidth\":0,\"ticks\":\"\"}},\"type\":\"scatter3d\"}],\"scattercarpet\":[{\"marker\":{\"colorbar\":{\"outlinewidth\":0,\"ticks\":\"\"}},\"type\":\"scattercarpet\"}],\"scattergeo\":[{\"marker\":{\"colorbar\":{\"outlinewidth\":0,\"ticks\":\"\"}},\"type\":\"scattergeo\"}],\"scattergl\":[{\"marker\":{\"colorbar\":{\"outlinewidth\":0,\"ticks\":\"\"}},\"type\":\"scattergl\"}],\"scattermapbox\":[{\"marker\":{\"colorbar\":{\"outlinewidth\":0,\"ticks\":\"\"}},\"type\":\"scattermapbox\"}],\"scatterpolar\":[{\"marker\":{\"colorbar\":{\"outlinewidth\":0,\"ticks\":\"\"}},\"type\":\"scatterpolar\"}],\"scatterpolargl\":[{\"marker\":{\"colorbar\":{\"outlinewidth\":0,\"ticks\":\"\"}},\"type\":\"scatterpolargl\"}],\"scatterternary\":[{\"marker\":{\"colorbar\":{\"outlinewidth\":0,\"ticks\":\"\"}},\"type\":\"scatterternary\"}],\"surface\":[{\"colorbar\":{\"outlinewidth\":0,\"ticks\":\"\"},\"colorscale\":[[0.0,\"#0d0887\"],[0.1111111111111111,\"#46039f\"],[0.2222222222222222,\"#7201a8\"],[0.3333333333333333,\"#9c179e\"],[0.4444444444444444,\"#bd3786\"],[0.5555555555555556,\"#d8576b\"],[0.6666666666666666,\"#ed7953\"],[0.7777777777777778,\"#fb9f3a\"],[0.8888888888888888,\"#fdca26\"],[1.0,\"#f0f921\"]],\"type\":\"surface\"}],\"table\":[{\"cells\":{\"fill\":{\"color\":\"#EBF0F8\"},\"line\":{\"color\":\"white\"}},\"header\":{\"fill\":{\"color\":\"#C8D4E3\"},\"line\":{\"color\":\"white\"}},\"type\":\"table\"}]},\"layout\":{\"annotationdefaults\":{\"arrowcolor\":\"#2a3f5f\",\"arrowhead\":0,\"arrowwidth\":1},\"autotypenumbers\":\"strict\",\"coloraxis\":{\"colorbar\":{\"outlinewidth\":0,\"ticks\":\"\"}},\"colorscale\":{\"diverging\":[[0,\"#8e0152\"],[0.1,\"#c51b7d\"],[0.2,\"#de77ae\"],[0.3,\"#f1b6da\"],[0.4,\"#fde0ef\"],[0.5,\"#f7f7f7\"],[0.6,\"#e6f5d0\"],[0.7,\"#b8e186\"],[0.8,\"#7fbc41\"],[0.9,\"#4d9221\"],[1,\"#276419\"]],\"sequential\":[[0.0,\"#0d0887\"],[0.1111111111111111,\"#46039f\"],[0.2222222222222222,\"#7201a8\"],[0.3333333333333333,\"#9c179e\"],[0.4444444444444444,\"#bd3786\"],[0.5555555555555556,\"#d8576b\"],[0.6666666666666666,\"#ed7953\"],[0.7777777777777778,\"#fb9f3a\"],[0.8888888888888888,\"#fdca26\"],[1.0,\"#f0f921\"]],\"sequentialminus\":[[0.0,\"#0d0887\"],[0.1111111111111111,\"#46039f\"],[0.2222222222222222,\"#7201a8\"],[0.3333333333333333,\"#9c179e\"],[0.4444444444444444,\"#bd3786\"],[0.5555555555555556,\"#d8576b\"],[0.6666666666666666,\"#ed7953\"],[0.7777777777777778,\"#fb9f3a\"],[0.8888888888888888,\"#fdca26\"],[1.0,\"#f0f921\"]]},\"colorway\":[\"#636efa\",\"#EF553B\",\"#00cc96\",\"#ab63fa\",\"#FFA15A\",\"#19d3f3\",\"#FF6692\",\"#B6E880\",\"#FF97FF\",\"#FECB52\"],\"font\":{\"color\":\"#2a3f5f\"},\"geo\":{\"bgcolor\":\"white\",\"lakecolor\":\"white\",\"landcolor\":\"#E5ECF6\",\"showlakes\":true,\"showland\":true,\"subunitcolor\":\"white\"},\"hoverlabel\":{\"align\":\"left\"},\"hovermode\":\"closest\",\"mapbox\":{\"style\":\"light\"},\"paper_bgcolor\":\"white\",\"plot_bgcolor\":\"#E5ECF6\",\"polar\":{\"angularaxis\":{\"gridcolor\":\"white\",\"linecolor\":\"white\",\"ticks\":\"\"},\"bgcolor\":\"#E5ECF6\",\"radialaxis\":{\"gridcolor\":\"white\",\"linecolor\":\"white\",\"ticks\":\"\"}},\"scene\":{\"xaxis\":{\"backgroundcolor\":\"#E5ECF6\",\"gridcolor\":\"white\",\"gridwidth\":2,\"linecolor\":\"white\",\"showbackground\":true,\"ticks\":\"\",\"zerolinecolor\":\"white\"},\"yaxis\":{\"backgroundcolor\":\"#E5ECF6\",\"gridcolor\":\"white\",\"gridwidth\":2,\"linecolor\":\"white\",\"showbackground\":true,\"ticks\":\"\",\"zerolinecolor\":\"white\"},\"zaxis\":{\"backgroundcolor\":\"#E5ECF6\",\"gridcolor\":\"white\",\"gridwidth\":2,\"linecolor\":\"white\",\"showbackground\":true,\"ticks\":\"\",\"zerolinecolor\":\"white\"}},\"shapedefaults\":{\"line\":{\"color\":\"#2a3f5f\"}},\"ternary\":{\"aaxis\":{\"gridcolor\":\"white\",\"linecolor\":\"white\",\"ticks\":\"\"},\"baxis\":{\"gridcolor\":\"white\",\"linecolor\":\"white\",\"ticks\":\"\"},\"bgcolor\":\"#E5ECF6\",\"caxis\":{\"gridcolor\":\"white\",\"linecolor\":\"white\",\"ticks\":\"\"}},\"title\":{\"x\":0.05},\"xaxis\":{\"automargin\":true,\"gridcolor\":\"white\",\"linecolor\":\"white\",\"ticks\":\"\",\"title\":{\"standoff\":15},\"zerolinecolor\":\"white\",\"zerolinewidth\":2},\"yaxis\":{\"automargin\":true,\"gridcolor\":\"white\",\"linecolor\":\"white\",\"ticks\":\"\",\"title\":{\"standoff\":15},\"zerolinecolor\":\"white\",\"zerolinewidth\":2}}},\"font\":{\"family\":\"Courier New, monospace\",\"size\":18,\"color\":\"RebeccaPurple\"},\"title\":{\"text\":\"Gr\\u00e1fico de Itera\\u00e7\\u00f5es - Sistemas Esparsos\"},\"xaxis\":{\"title\":{\"text\":\"Ordem da Matriz\"}},\"yaxis\":{\"title\":{\"text\":\"Tempo em ms\"}}},                        {\"responsive\": true}                    ).then(function(){\n",
              "                            \n",
              "var gd = document.getElementById('ee928dc9-0b06-4505-a492-12ea2e3676f5');\n",
              "var x = new MutationObserver(function (mutations, observer) {{\n",
              "        var display = window.getComputedStyle(gd).display;\n",
              "        if (!display || display === 'none') {{\n",
              "            console.log([gd, 'removed!']);\n",
              "            Plotly.purge(gd);\n",
              "            observer.disconnect();\n",
              "        }}\n",
              "}});\n",
              "\n",
              "// Listen for the removal of the full notebook cells\n",
              "var notebookContainer = gd.closest('#notebook-container');\n",
              "if (notebookContainer) {{\n",
              "    x.observe(notebookContainer, {childList: true});\n",
              "}}\n",
              "\n",
              "// Listen for the clearing of the current output cell\n",
              "var outputEl = gd.closest('.output');\n",
              "if (outputEl) {{\n",
              "    x.observe(outputEl, {childList: true});\n",
              "}}\n",
              "\n",
              "                        })                };                            </script>        </div>\n",
              "</body>\n",
              "</html>"
            ]
          },
          "metadata": {}
        }
      ]
    }
  ]
}