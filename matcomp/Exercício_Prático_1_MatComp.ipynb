{
  "cells": [
    {
      "cell_type": "markdown",
      "metadata": {
        "id": "MpDUG87Aoqfa"
      },
      "source": [
        "### 1.\tExercício 01 – Aquecimento.\n",
        "\n",
        "$$ S = 10000 - \\sum_{k=1}^n x$$\n",
        "\n",
        "Para: \n",
        ">a) 𝑛 = 100000 e 𝑥 = 0.1;\\\n",
        ">b) 𝑛 = 80000 e 𝑥 = 0.125"
      ]
    },
    {
      "cell_type": "markdown",
      "metadata": {
        "id": "c-fMxqgsGOKi"
      },
      "source": [
        "No primeiro exercício é possível visualizar o comportamento distinto entre os dois casos que foram propostos. Ambas as operações realizadas nos somatórios deveriam dar como resultado o valor zero, entretanto, na letra a) o erro relativo é um número fracionário. "
      ]
    },
    {
      "cell_type": "code",
      "execution_count": null,
      "metadata": {
        "colab": {
          "base_uri": "https://localhost:8080/"
        },
        "id": "TGPGId2JtuC7",
        "outputId": "e804711e-c4ed-41ef-9aaf-e4322029afa6"
      },
      "outputs": [
        {
          "name": "stdout",
          "output_type": "stream",
          "text": [
            "a) n = 100000, x = 0.1\n",
            "n = 100000, x= 0.1 --> Erro absoluto: 1.8848368199542165e-08, Erro relativo: 1.8848368199542165e-12\n",
            "\n",
            "b) n = 80000, x = 0.125\n",
            "n = 80000, x= 0.125 --> Erro absoluto: 0.0, Erro relativo: 0.0\n"
          ]
        }
      ],
      "source": [
        "#Exercício 01\n",
        "\n",
        "n1 = 100000; x1 = 0.1\n",
        "n2 = 80000; x2 = 0.125\n",
        "\n",
        "\n",
        "def soma(n, x):\n",
        "  p = 0\n",
        "  for i in range(n):\n",
        "    p += x\n",
        "\n",
        "  s = abs(10000 - p) #absuluto\n",
        "  r = s/10000 #relativo\n",
        "  print(f'n = {n}, x= {x} --> Erro absoluto: {s}, Erro relativo: {r}')\n",
        "\n",
        "print('a) n = 100000, x = 0.1')\n",
        "soma(n1, x1)\n",
        "\n",
        "print('\\nb) n = 80000, x = 0.125')\n",
        "soma(n2, x2)"
      ]
    },
    {
      "cell_type": "markdown",
      "metadata": {
        "id": "JOfkjGhrpAuE"
      },
      "source": [
        "Como visto em aula, isso ocorre, pois não há representação finita para o número fracionário 0.1₁₀ em binário, então por conta disso o erro absoluto e relativo é diferente de 0."
      ]
    },
    {
      "cell_type": "markdown",
      "metadata": {
        "id": "kUcoKPF3reBb"
      },
      "source": [
        "2.\tExercício 02 – Precisão da Máquina.\n",
        "\n",
        ">2.a). Teste este algoritmo usando uma linguagem de programação. Quando \n",
        "for possível, declare as variáveis em precisão simples e dupla e \n",
        "compare.\n",
        "\n",
        "###Levando em consideração que a linguagem de programação Python tem o seu tipo **float** equivalente ao tipo **double** de outras linguagens como c/c++, então o resultado é o seguinte:"
      ]
    },
    {
      "cell_type": "code",
      "execution_count": null,
      "metadata": {
        "colab": {
          "base_uri": "https://localhost:8080/"
        },
        "id": "HBfwuoWGo7uf",
        "outputId": "94d31125-c73e-4644-d09e-5e6986fc3f1d"
      },
      "outputs": [
        {
          "name": "stdout",
          "output_type": "stream",
          "text": [
            "Digite um valor: 2\n",
            "a: 1.1102230246251565e-16, Precisão: 2.220446049250313e-16\n"
          ]
        }
      ],
      "source": [
        "#Exercício 02.1\n",
        "a = 1; s = int(input('Digite um valor: '))\n",
        "\n",
        "def precision(a, s):\n",
        "  \n",
        "  while s > 1:\n",
        "    a /= 2\n",
        "    s = 1 + a\n",
        "  \n",
        "  prec = 2*a\n",
        "  print(f'a: {a}, Precisão: {prec}')\n",
        "\n",
        "precision(a, s)"
      ]
    },
    {
      "cell_type": "markdown",
      "metadata": {
        "id": "GLpTpy7pE7bI"
      },
      "source": [
        "> 2.b) Interprete o passo 3 do algoritmo, isto é, por que a aproximação para \n",
        "Prec é escolhida como sendo o dobro do último valor de A obtido no \n",
        "passo 2?\n",
        "\n",
        ">R: Como a variável a é dividida diversas vezes por dois, então, multiplicar ela por dois no final ajuda a ter uma visão mais clara da precisão da máquina.\n"
      ]
    },
    {
      "cell_type": "markdown",
      "metadata": {
        "id": "Clfq_YSKHhFc"
      },
      "source": [
        "> 2.c) Na definição de precisão da máquina, usamos como referência o \n",
        "número 1. Altere o algoritmo acima para que o usuário possa escolher o \n",
        "valor de referência:\n",
        "\n",
        "###Algoritimo modificado abaixo:\n"
      ]
    },
    {
      "cell_type": "code",
      "execution_count": null,
      "metadata": {
        "colab": {
          "base_uri": "https://localhost:8080/"
        },
        "id": "MTO7dclawwhF",
        "outputId": "c7de52f5-940f-4c29-d304-46c782e4be1c"
      },
      "outputs": [
        {
          "name": "stdout",
          "output_type": "stream",
          "text": [
            "Digite um valor: 2\n",
            "Referência: 2 -> Precisão: 4.440892098500626e-16\n"
          ]
        }
      ],
      "source": [
        "#Exercício 02.2\n",
        "a = 1; val = int(input('Digite um valor: '))\n",
        "\n",
        "def precision(a, val):\n",
        "  s = val + a\n",
        "\n",
        "  while s > val:\n",
        "    a /= 2\n",
        "    s = val + a\n",
        "\n",
        "  prec = 2*a\n",
        "  print(f'Referência: {val} -> Precisão: {prec}')\n",
        "\n",
        "precision(a, val)"
      ]
    },
    {
      "cell_type": "markdown",
      "metadata": {
        "id": "YuOx4fVxIPfE"
      },
      "source": [
        ">>2.c.1) Teste o algoritmo para os valores 10, 17, 100, 184, 1000, 1575, 10000, \n",
        "17893.\n",
        "\n",
        "###Testes abaixo:\n"
      ]
    },
    {
      "cell_type": "code",
      "execution_count": null,
      "metadata": {
        "colab": {
          "base_uri": "https://localhost:8080/"
        },
        "id": "70EoSmMLILlB",
        "outputId": "f248a240-cb29-499e-8807-53829efbffb0"
      },
      "outputs": [
        {
          "name": "stdout",
          "output_type": "stream",
          "text": [
            "Referência: 10 -> Precisão: 1.7763568394002505e-15\n",
            "Referência: 17 -> Precisão: 3.552713678800501e-15\n",
            "Referência: 100 -> Precisão: 1.4210854715202004e-14\n",
            "Referência: 184 -> Precisão: 2.842170943040401e-14\n",
            "Referência: 1000 -> Precisão: 1.1368683772161603e-13\n",
            "Referência: 1575 -> Precisão: 2.2737367544323206e-13\n",
            "Referência: 10000 -> Precisão: 1.8189894035458565e-12\n",
            "Referência: 17893 -> Precisão: 3.637978807091713e-12\n"
          ]
        }
      ],
      "source": [
        "ref = [10, 17, 100, 184, 1000, 1575, 10000, 17893]\n",
        "\n",
        "for value in ref:\n",
        "  precision(1, value)"
      ]
    },
    {
      "cell_type": "markdown",
      "metadata": {
        "id": "ZrzBF--8JJTL"
      },
      "source": [
        ">>2.c.2) O valor de precisão se altera? Se sim, quanto e cada caso? Por que isso \n",
        "ocorre?\n",
        "\n",
        "Em todos os casos há uma alteração na precisão, isso ocorre por conta da representação em binário da referência, quanto mais bits forem necessários para representar o valor de referência em binário maior será o valor da precisão, isso ocorre, pois, a mantissa tem um tamanho limitado.\n",
        "\n",
        "Por exemplo, com o valor de referência 10 e 17, os resultados da precisão são diferentes, pois para representar o número 10 em binário são necessários 4 bits, enquanto para representar o valor 17 são necessários 5 bits. Se utilizarmos dois números em decimal que é representado por quatro bits em binário, ou seja, no intervalo fechado [8, 15], então a precisão será igual.\n",
        "\n",
        "###Segue um exemplo abaixo:"
      ]
    },
    {
      "cell_type": "code",
      "execution_count": null,
      "metadata": {
        "colab": {
          "base_uri": "https://localhost:8080/"
        },
        "id": "f70TsX8FJUTW",
        "outputId": "b57eb04a-b0de-4973-cd63-9bd19ab7c9e4"
      },
      "outputs": [
        {
          "name": "stdout",
          "output_type": "stream",
          "text": [
            "Referência: 10 -> Precisão: 1.7763568394002505e-15\n",
            "Referência: 15 -> Precisão: 1.7763568394002505e-15\n"
          ]
        }
      ],
      "source": [
        "precision(1, 10)\n",
        "precision(1, 15)"
      ]
    },
    {
      "cell_type": "markdown",
      "metadata": {
        "id": "v2Tjy9G9JnPp"
      },
      "source": [
        "3. Exercício 3 – Exponencial pela Série de Taylor.\n",
        "\n",
        "$$ e^x = \\sum_{k=0}^n \\frac{x^k}{k!} = 1 + x + \\frac{x^2}{2!} + ... \\frac{x^n}{n!} $$"
      ]
    },
    {
      "cell_type": "markdown",
      "metadata": {
        "id": "k8Y2fSgnKkFG"
      },
      "source": [
        ">3.a) Para valores negativos de 𝑥 o programa deve calcular de duas \n",
        "formas:\n",
        "\n",
        ">> ▪ Usar o 𝑥 diretamente na série.\n",
        "\n",
        ">> ▪ Usar 𝑦 = −𝑥 e depois calcular $𝑒^𝑥$ através de $\\frac{1}{e^x}$\n",
        "\n",
        "###Programa para calcular o valor de $𝑒^𝑥$ para valores de **$x$** positivo/negativo:"
      ]
    },
    {
      "cell_type": "code",
      "execution_count": null,
      "metadata": {
        "colab": {
          "base_uri": "https://localhost:8080/"
        },
        "id": "HXVk-hkxUKjc",
        "outputId": "127b02a0-264c-4b6b-e06d-1028259ce272"
      },
      "outputs": [
        {
          "name": "stdout",
          "output_type": "stream",
          "text": [
            "e = 3.059023205018258e-07\n"
          ]
        }
      ],
      "source": [
        "#Exercício 03\n",
        "import math\n",
        "from math import factorial as fact\n",
        "\n",
        "def taylorSeries(n, x):\n",
        "  e = 0\n",
        "\n",
        "  if x < 0:\n",
        "    y = -x\n",
        "    for k in range(0, n+1):\n",
        "      e += (y**k)/fact(k)\n",
        "    return 1/e\n",
        "\n",
        "  else:\n",
        "    for k in range(0, n+1):\n",
        "      e += (x**k)/fact(k)\n",
        "    return e\n",
        "print(f'e = {taylorSeries(100, -15)}')"
      ]
    },
    {
      "cell_type": "markdown",
      "metadata": {
        "id": "ElLuZKZNMn2I"
      },
      "source": [
        ">3.b) Teste seu programa para vários valores de $x$ (próximo e \n",
        "distante de 0) e para vários valores de $n$. Faça uma análise \n",
        "desses resultados.\n",
        "\n",
        "Através dos valores escolhidos é possível perceber que no teste onde o n = 1000 e o x=710 o resultado retornado é inf, quando é utilizado o x=800 ocorre um erro de overflow. Outro ponto que notei é se considerarmos um x pequeno e vários valores de n diferentes o resultado será igual independentemente do tamanho de n.\n",
        "\n",
        "###Resultados dos testes abaixo: "
      ]
    },
    {
      "cell_type": "code",
      "execution_count": null,
      "metadata": {
        "colab": {
          "base_uri": "https://localhost:8080/",
          "height": 555
        },
        "id": "hsTVddUaunb5",
        "outputId": "d16f511b-7588-42bc-9fce-3eed9ec2241d"
      },
      "outputs": [
        {
          "name": "stdout",
          "output_type": "stream",
          "text": [
            "n: 100, x: 10 -->  22026.46579480671\n",
            "n: 25, x: 10 -->  22026.076360891067\n",
            "n: 100, x: -1 -->  0.3678794411714423\n",
            "n: 100, x: 1 -->  2.7182818284590455\n",
            "n: 100, x: 2 -->  7.389056098930649\n",
            "n: 50, x: -3 -->  0.04978706836786396\n",
            "n: 25, x: -33 -->  5.077560941984542e-14\n",
            "n: 10, x: 999 -->  2.7558565969498013e+23\n",
            "n: 100, x: 1 -->  2.7182818284590455\n",
            "n: 500, x: 1 -->  2.7182818284590455\n",
            "n: 1000, x: 1 -->  2.7182818284590455\n",
            "n: 1000, x: 709 -->  8.21840746155497e+307\n",
            "n: 1000, x: 710 -->  inf\n"
          ]
        },
        {
          "ename": "OverflowError",
          "evalue": "ignored",
          "output_type": "error",
          "traceback": [
            "\u001b[0;31m---------------------------------------------------------------------------\u001b[0m",
            "\u001b[0;31mOverflowError\u001b[0m                             Traceback (most recent call last)",
            "\u001b[0;32m<ipython-input-89-3bd937c11ca6>\u001b[0m in \u001b[0;36m<module>\u001b[0;34m\u001b[0m\n\u001b[1;32m      2\u001b[0m \u001b[0;34m\u001b[0m\u001b[0m\n\u001b[1;32m      3\u001b[0m \u001b[0;32mfor\u001b[0m \u001b[0mv\u001b[0m \u001b[0;32min\u001b[0m \u001b[0mvalues\u001b[0m\u001b[0;34m:\u001b[0m\u001b[0;34m\u001b[0m\u001b[0;34m\u001b[0m\u001b[0m\n\u001b[0;32m----> 4\u001b[0;31m   \u001b[0mprint\u001b[0m\u001b[0;34m(\u001b[0m\u001b[0;34mf'n: {v[0]}, x: {v[1]} --> '\u001b[0m\u001b[0;34m,\u001b[0m \u001b[0mtaylorSeries\u001b[0m\u001b[0;34m(\u001b[0m\u001b[0mv\u001b[0m\u001b[0;34m[\u001b[0m\u001b[0;36m0\u001b[0m\u001b[0;34m]\u001b[0m\u001b[0;34m,\u001b[0m \u001b[0mv\u001b[0m\u001b[0;34m[\u001b[0m\u001b[0;36m1\u001b[0m\u001b[0;34m]\u001b[0m\u001b[0;34m)\u001b[0m\u001b[0;34m)\u001b[0m\u001b[0;34m\u001b[0m\u001b[0;34m\u001b[0m\u001b[0m\n\u001b[0m",
            "\u001b[0;32m<ipython-input-88-0db752d6469d>\u001b[0m in \u001b[0;36mtaylorSeries\u001b[0;34m(n, x)\u001b[0m\n\u001b[1;32m     14\u001b[0m   \u001b[0;32melse\u001b[0m\u001b[0;34m:\u001b[0m\u001b[0;34m\u001b[0m\u001b[0;34m\u001b[0m\u001b[0m\n\u001b[1;32m     15\u001b[0m     \u001b[0;32mfor\u001b[0m \u001b[0mk\u001b[0m \u001b[0;32min\u001b[0m \u001b[0mrange\u001b[0m\u001b[0;34m(\u001b[0m\u001b[0;36m0\u001b[0m\u001b[0;34m,\u001b[0m \u001b[0mn\u001b[0m\u001b[0;34m+\u001b[0m\u001b[0;36m1\u001b[0m\u001b[0;34m)\u001b[0m\u001b[0;34m:\u001b[0m\u001b[0;34m\u001b[0m\u001b[0;34m\u001b[0m\u001b[0m\n\u001b[0;32m---> 16\u001b[0;31m       \u001b[0me\u001b[0m \u001b[0;34m+=\u001b[0m \u001b[0;34m(\u001b[0m\u001b[0mx\u001b[0m\u001b[0;34m**\u001b[0m\u001b[0mk\u001b[0m\u001b[0;34m)\u001b[0m\u001b[0;34m/\u001b[0m\u001b[0mfact\u001b[0m\u001b[0;34m(\u001b[0m\u001b[0mk\u001b[0m\u001b[0;34m)\u001b[0m\u001b[0;34m\u001b[0m\u001b[0;34m\u001b[0m\u001b[0m\n\u001b[0m\u001b[1;32m     17\u001b[0m     \u001b[0;32mreturn\u001b[0m \u001b[0me\u001b[0m\u001b[0;34m\u001b[0m\u001b[0;34m\u001b[0m\u001b[0m\n",
            "\u001b[0;31mOverflowError\u001b[0m: integer division result too large for a float"
          ]
        }
      ],
      "source": [
        "values = ((100, 10), (25, 10), (100, -1), (100, 1), (100, 2), (50, -3), (25, -33), (10, 999), (100, 1), (500, 1), (1000, 1), (1000, 709), (1000, 710), (1000, 800))\n",
        "\n",
        "for v in values:\n",
        "  print(f'n: {v[0]}, x: {v[1]} --> ', taylorSeries(v[0], v[1]))"
      ]
    },
    {
      "cell_type": "markdown",
      "metadata": {
        "id": "OGFOIfzDM-bI"
      },
      "source": [
        ">3.c) O cálculo de 𝑘! necessário na série de Taylor pode ser feito de modo a evitar a ocorrência de overflow.\n",
        "\n",
        "Como o valor de $\\frac{x^k}{k!} = \\frac{x^{k-1}}{(k-1)}*\\frac{x}{k}$, então é possível realizar algumas modificações no código de modo que o overflow seja evitado.\n",
        "\n",
        "###Programa modificado:"
      ]
    },
    {
      "cell_type": "code",
      "execution_count": null,
      "metadata": {
        "id": "tuz7lI-ZDl8q"
      },
      "outputs": [],
      "source": [
        "def taylorSeriesModify(n, x, p='n'):\n",
        "  e = 0\n",
        "\n",
        "  if x < 0: #para valores de x negativos\n",
        "    y = -x\n",
        "    for k in range(0, n+1):\n",
        "      if k < 2:\n",
        "        e_previous = (y**k)/fact(k)\n",
        "        e += e_previous\n",
        "      else:\n",
        "        e_current = e_previous*(y/k)\n",
        "        if(e  + e_current == float('inf')):\n",
        "          return e\n",
        "        e += e_current\n",
        "        e_previous = e_current\n",
        "      if e == float('inf'):\n",
        "        break\n",
        "    return 1/e\n",
        "\n",
        "  else: #para valores de x positivos\n",
        "    for k in range(0, n+1):\n",
        "      if k < 2:\n",
        "        e_previous = (x**k)/fact(k)\n",
        "        e += e_previous\n",
        "      else:\n",
        "        e_current = e_previous*(x/k)\n",
        "        e += e_current\n",
        "        e_previous = e_current\n",
        "      if(p in 'sS'):\n",
        "        print(f'k: {k}, e: {e}')\n",
        "    return e"
      ]
    },
    {
      "cell_type": "markdown",
      "metadata": {
        "id": "A-fCPslKXHXG"
      },
      "source": [
        "###Utilizando o mesmo exemplo que causou overflow no código original. \n",
        "###n = 1000, x = 800\n"
      ]
    },
    {
      "cell_type": "code",
      "execution_count": null,
      "metadata": {
        "colab": {
          "base_uri": "https://localhost:8080/"
        },
        "id": "BqE9P76GXKcr",
        "outputId": "36519b2a-8675-4d08-f981-fa5f2fd188cf"
      },
      "outputs": [
        {
          "name": "stdout",
          "output_type": "stream",
          "text": [
            "e = inf\n"
          ]
        }
      ],
      "source": [
        "print(f'e = {taylorSeriesModify(1000, 800)}')"
      ]
    },
    {
      "cell_type": "markdown",
      "metadata": {
        "id": "_tvmgr6gYPNY"
      },
      "source": [
        ">3.d) Uma vez que não ocorre mais overflow. Qual critério de \n",
        "parada é melhor se adotar para 𝑛?\n",
        "\n",
        "Quando se utiliza um $n$ muito grande a partir de certo ponto, começa a ser retornado infinito, então um bom ponto de parada é quando se acha o primeiro infinito, então se retorna o valor anterior ao infinito, pois este é o último valor que foi possível ser representado através de números.\n",
        "\n",
        "No exemplo abaixo foi utilizado os valores do exemplo anterior onde o n = 1000 e x = 800, a partir do termo 457 o valor de retorno começa a ser inf, então esse é um bom ponto de parada."
      ]
    },
    {
      "cell_type": "code",
      "execution_count": null,
      "metadata": {
        "colab": {
          "base_uri": "https://localhost:8080/"
        },
        "id": "G5os3ceIZ6mz",
        "outputId": "e68d080d-a4c2-4ff1-9e76-712311e0dda5"
      },
      "outputs": [
        {
          "name": "stdout",
          "output_type": "stream",
          "text": [
            "k = 450 --> 3.2288874705403394e+306\n",
            "k = 451 --> 5.743763799202679e+306\n",
            "k = 452 --> 1.0194872345507705e+307\n",
            "k = 453 --> 1.8055549689975742e+307\n",
            "k = 454 --> 3.190696351282691e+307\n",
            "k = 455 --> 5.626109770685094e+307\n",
            "k = 456 --> 9.898764892443695e+307\n",
            "k = 457 --> 1.7378248694209297e+308\n",
            "k = 458 --> inf\n",
            "k = 459 --> inf\n",
            "k = 460 --> inf\n"
          ]
        }
      ],
      "source": [
        "for value in range(450, 461):\n",
        "  print(f'k = {value} --> {taylorSeriesModify(value, 800)}')"
      ]
    },
    {
      "cell_type": "markdown",
      "metadata": {
        "id": "UtcXUae5Z63N"
      },
      "source": [
        "###Adicionando o ponto de parada no código:\n",
        "Acrescentando um if no código que verifica se o valor de e se tornou infinito é possível parar a execução da função.\n",
        "\n",
        "if(e  + e_current == float('inf')):\n",
        "\n",
        "return e"
      ]
    },
    {
      "cell_type": "code",
      "execution_count": null,
      "metadata": {
        "id": "_3BgCKtJYuNu"
      },
      "outputs": [],
      "source": [
        "def taylorSeriesModify(n, x, p='n'):\n",
        "  e = 0\n",
        "\n",
        "  if x < 0: #para valores de x negativos\n",
        "    y = -x\n",
        "    for k in range(0, n+1):\n",
        "      if k < 2:\n",
        "        e_previous = (y**k)/fact(k)\n",
        "        e += e_previous\n",
        "      else:\n",
        "        e_current = e_previous*(y/k)\n",
        "        if(e  + e_current == float('inf')):\n",
        "          return e\n",
        "        e += e_current\n",
        "        e_previous = e_current\n",
        "      if e == float('inf'):\n",
        "        break\n",
        "    return 1/e\n",
        "\n",
        "  else: #para valores de x positivos\n",
        "    for k in range(0, n+1):\n",
        "      if k < 2:\n",
        "        e_previous = (x**k)/fact(k)\n",
        "        e += e_previous\n",
        "      else:\n",
        "        e_current = e_previous*(x/k)\n",
        "        if(e  + e_current == float('inf')): #ponto de parada\n",
        "          return k, e\n",
        "        e += e_current\n",
        "        e_previous = e_current\n",
        "      if(p in 'sS'):\n",
        "        print(f'k: {k}, e: {e}')\n",
        "    return k, e"
      ]
    },
    {
      "cell_type": "markdown",
      "metadata": {
        "id": "wATYgeQRd0Sh"
      },
      "source": [
        "Utilizado o mesmo exemplo que foi utilizado acima cujo o *n = 1000* e *x = 800*, o programa parou após identificar o *e = inf* e retornou o último valor de e que foi numericamente representado."
      ]
    },
    {
      "cell_type": "code",
      "execution_count": null,
      "metadata": {
        "colab": {
          "base_uri": "https://localhost:8080/"
        },
        "id": "Zd5JaV7pd2EM",
        "outputId": "726ff423-7ae0-4bf1-8f41-646e4bd6a244"
      },
      "outputs": [
        {
          "name": "stdout",
          "output_type": "stream",
          "text": [
            "k = 457, e = 1.7378248694209297e+308\n"
          ]
        }
      ],
      "source": [
        "e = taylorSeriesModify(1000, 800)\n",
        "print(f'k = {e[0]}, e = {e[1]}')"
      ]
    }
  ],
  "metadata": {
    "colab": {
      "provenance": []
    },
    "kernelspec": {
      "display_name": "Python 3",
      "name": "python3"
    },
    "language_info": {
      "name": "python"
    }
  },
  "nbformat": 4,
  "nbformat_minor": 0
}
