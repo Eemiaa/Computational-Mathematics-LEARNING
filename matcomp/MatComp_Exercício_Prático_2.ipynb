{
  "nbformat": 4,
  "nbformat_minor": 0,
  "metadata": {
    "colab": {
      "provenance": []
    },
    "kernelspec": {
      "name": "python3",
      "display_name": "Python 3"
    },
    "language_info": {
      "name": "python"
    }
  },
  "cells": [
    {
      "cell_type": "markdown",
      "source": [
        "##Funções Utilizadas"
      ],
      "metadata": {
        "id": "naBe1Cwaj_jx"
      }
    },
    {
      "cell_type": "code",
      "source": [
        "#import sympy as sy\n",
        "#from mpmath.functions.functions import log10\n",
        "import math\n",
        "#import sympy as sy\n",
        "#x, y, z = sy.symbols('x y z')\n",
        "#sy.init_printing(use_unicode=True)\n",
        "\n",
        "f = lambda x: 2*x**9 + 5*x**7 + 1\n",
        "f_derivada = lambda x: 18*x**8 + 35*x**6\n",
        "g = lambda x: math.log10(x)*x**3 - 1\n",
        "h = lambda x: 5**x * x\n",
        "r = lambda x: math.cos(x) * math.sin(x) * math.log10(x)\n",
        "s = lambda x: 5/x**3 - math.sqrt(x)\n",
        "\n",
        "def function(f, x):\n",
        "    return f(x)"
      ],
      "metadata": {
        "id": "Ig_rQeRVj7-7"
      },
      "execution_count": null,
      "outputs": []
    },
    {
      "cell_type": "markdown",
      "source": [
        "##Localizar Raízes"
      ],
      "metadata": {
        "id": "jSeO1yAOj3w_"
      }
    },
    {
      "cell_type": "code",
      "execution_count": null,
      "metadata": {
        "id": "XHoDZ0uMjpOr"
      },
      "outputs": [],
      "source": [
        "def findRoots(f, I=[-10, 10], step = 1):\n",
        "  if(len(I) > 2):\n",
        "    x = I\n",
        "  else:\n",
        "    x = []\n",
        "    for i in range(I[0], I[1]+1):\n",
        "      x.append(i)\n",
        "\n",
        "  y = []\n",
        "  for i in x:\n",
        "    y.append(f(i))\n",
        "  \n",
        "  for i in range(len(x)):\n",
        "    print(f'x: {x[i]}, y: {y[i]}')\n",
        "\n",
        "#findRoots(f, [-10, 10])\n",
        "#findRoots(g, [1, 10])\n",
        "#findRoots(h, [-5, 5])\n",
        "#findRoots(r, [1, 10])\n",
        "#findRoots(s, [1, 10])"
      ]
    },
    {
      "cell_type": "markdown",
      "source": [
        "##Método da Bissecção"
      ],
      "metadata": {
        "id": "zyremf-tkMz4"
      }
    },
    {
      "cell_type": "code",
      "source": [
        "e = 0.000000001\n",
        "def bisection(f, I):\n",
        "  p = I[1] - I[0]\n",
        "  k = 0\n",
        "  while(abs(function(f, p)) > e):\n",
        "    p = (I[0]+I[1])/2\n",
        "\n",
        "    if(function(f, I[0])*function(f, p) < 0):\n",
        "      I[1] = p\n",
        "    else:\n",
        "      I[0] = p\n",
        "    k += 1\n",
        "\n",
        "\n",
        "  return (p, k, function(f, p))\n",
        "\n",
        "print(f'x: {bisection(f, [-10, 10])[0]}, k: {bisection(f, [-10, 10])[1]}, f(x): {bisection(f, [-10, 10])[2]}')\n",
        "print(f'x: {bisection(g, [1, 10])[0]}, k: {bisection(g, [1, 10])[1]}')\n",
        "print(f'x: {bisection(h, [-5, 5])[0]}, k: {bisection(h, [-5, 5])[1]}')\n",
        "print(f'x: {bisection(r, [1, 10])[0]}, k: {bisection(r, [1, 10])[1]}')\n",
        "print(f'x: {bisection(s, [1, 10])[0]}, k: {bisection(s, [1, 10])[1]}')\n",
        "\n",
        "function(s, 1.5838196085533127)"
      ],
      "metadata": {
        "colab": {
          "base_uri": "https://localhost:8080/",
          "height": 129
        },
        "id": "6_wA7BxQkGNI",
        "outputId": "01fd6275-d554-4aba-ea9d-7dc46a442002"
      },
      "execution_count": null,
      "outputs": [
        {
          "output_type": "stream",
          "name": "stdout",
          "text": [
            "x: -0.7707613352977205, k: 37, f(x): 2.635905937964367e-10\n",
            "x: 1.6577275363961235, k: 33\n",
            "x: 0.0, k: 1\n",
            "x: 6.283185307634994, k: 32\n",
            "x: 1.5838196085533127, k: 33\n"
          ]
        },
        {
          "output_type": "execute_result",
          "data": {
            "text/plain": [
              "5.931131141778678e-10"
            ],
            "image/png": "[encoded data removed]",
            "text/latex": "$\\displaystyle 5.93113114177868 \\cdot 10^{-10}$"
          },
          "metadata": {},
          "execution_count": 222
        }
      ]
    },
    {
      "cell_type": "markdown",
      "source": [
        "##Método de Secante"
      ],
      "metadata": {
        "id": "EXWBxvtxkRHS"
      }
    },
    {
      "cell_type": "code",
      "source": [
        "e = 0.000000001\n",
        "def secante(f, x0, x1):\n",
        "  k = 1\n",
        "  if(abs(function(f, x0)) < e):\n",
        "    return (x0, k)\n",
        "  if(abs(function(f, x1)) < e or abs(x1 - x0) < e):\n",
        "    return (x1, k)\n",
        "  \n",
        "  while True:\n",
        "    x2 = x1 - ((function(f, x1))/(function(f, x1) - function(f, x0))) * (x1 - x0)\n",
        "    print(x2)\n",
        "\n",
        "    if(abs(function(f, x2)) < e or abs(x2 - x1) < e):\n",
        "      return (x2, k)\n",
        "    \n",
        "    x0 = x1\n",
        "    x1 = x2\n",
        "    k += 1\n",
        "\n",
        "#func1 = secante(f, -1, -0.9)\n",
        "#func2 = secante(g, 1.8, 1.9)\n",
        "func3 = secante(h, 0.1, 0.2)\n",
        "#func4 = secante(r, 1.1, 1.2)\n",
        "#func5 = secante(s, 1.6, 1.7)\n",
        "\n",
        "#print(f'secante --> x: {func1[0]}, k: {func1[1]}')\n",
        "#print(f'secante --> x: {func2[0]}, k: {func2[1]}')\n",
        "print(f'secante --> x: {func3[0]}, k: {func3[1]}')\n",
        "#print(f'secante --> x: {func4[0]}, k: {func4[1]}')\n",
        "#print(f'secante --> x: {func5[0]}, k: {func5[1]}')"
      ],
      "metadata": {
        "colab": {
          "base_uri": "https://localhost:8080/"
        },
        "id": "Q9l2tmIekVz1",
        "outputId": "8f5b1691-0387-4da6-8873-62422c2c0720"
      },
      "execution_count": null,
      "outputs": [
        {
          "output_type": "stream",
          "name": "stdout",
          "text": [
            "-0.4726755541613467\n",
            "-0.8172075259904261\n",
            "-1.2821158118139284\n",
            "-1.6997182852417583\n",
            "-2.1354671640878142\n",
            "-2.5641876015570744\n",
            "-2.9956202872900475\n",
            "-3.426004830607302\n",
            "-3.856794203237225\n",
            "-4.287427183310807\n",
            "-4.718120575562601\n",
            "-5.1487906307240365\n",
            "-5.579469700841057\n",
            "-6.010145288526968\n",
            "-6.440822221455694\n",
            "-6.871498634724603\n",
            "-7.302175248735154\n",
            "-7.73285178520034\n",
            "-8.163528351620862\n",
            "-8.594204906469805\n",
            "-9.024881465788784\n",
            "-9.455558023381014\n",
            "-9.886234581640277\n",
            "-10.31691113964187\n",
            "-10.747587697742999\n",
            "-11.178264255805678\n",
            "-11.60894081388321\n",
            "-12.039617371955003\n",
            "-12.470293930029014\n",
            "-12.900970488102168\n",
            "secante --> x: -12.900970488102168, k: 30\n"
          ]
        }
      ]
    },
    {
      "cell_type": "markdown",
      "source": [
        "##Método da Posição Falsa"
      ],
      "metadata": {
        "id": "3q5B6Ow7kfCw"
      }
    },
    {
      "cell_type": "code",
      "source": [
        "e = 0.00000001\n",
        "def fpm(f, i):\n",
        "  \n",
        "  if((i[1] - i[0]) < e):\n",
        "    return (i[0], k)\n",
        "\n",
        "  k = 1\n",
        "  M = function(f, i[0])\n",
        "\n",
        "  while True:\n",
        "    x = (i[0]*function(f, i[1]) - i[1]*function(f, i[0])) / (function(f, i[1]) - function(f, i[0]))\n",
        "\n",
        "    if(abs(function(f, x)) < e):\n",
        "      return (x, k)\n",
        "\n",
        "    if(M*function(f, x) > 0):\n",
        "      i[0] = x\n",
        "    else:\n",
        "      i[1] = x\n",
        "    \n",
        "    if((i[1] - i[0]) < e):\n",
        "      return (i[1], k)\n",
        "    \n",
        "    k += 1\n",
        "\n",
        "func1 = fpm(f, [-2, 0])\n",
        "func2 = fpm(g, [1, 10])\n",
        "func3 = fpm(h, [-5, 5])\n",
        "func4 = fpm(r, [1, 10])\n",
        "func5 = fpm(s, [1, 10])\n",
        "\n",
        "print(f'fpm --> x: {func1[0]}, k: {func1[1]}')\n",
        "print(f'fpm --> x: {func2[0]}, k: {func2[1]}')\n",
        "print(f'fpm --> x: {func3[0]}, k: {func3[1]}')\n",
        "print(f'fpm --> x: {func4[0]}, k: {func4[1]}')\n",
        "print(f'fpm --> x: {func5[0]}, k: {func5[1]}')\n",
        "\n",
        "function(s, 1.583819611307275)"
      ],
      "metadata": {
        "colab": {
          "base_uri": "https://localhost:8080/",
          "height": 129
        },
        "id": "Dh5AdjW0khk4",
        "outputId": "c249310f-ab07-4f15-83f0-9d6c96f83aaf"
      },
      "execution_count": null,
      "outputs": [
        {
          "output_type": "stream",
          "name": "stdout",
          "text": [
            "fpm --> x: -0.7707613342833706, k: 3361\n",
            "fpm --> x: 1.6577275333252899, k: 780\n",
            "fpm --> x: -9.999186179505138e-09, k: 836647\n",
            "fpm --> x: 1.0, k: 1\n",
            "fpm --> x: 1.583819611307275, k: 42\n"
          ]
        },
        {
          "output_type": "execute_result",
          "data": {
            "text/plain": [
              "-7.06590674859342e-09"
            ],
            "image/png": "[encoded data removed]",
            "text/latex": "$\\displaystyle -7.06590674859342 \\cdot 10^{-9}$"
          },
          "metadata": {},
          "execution_count": 220
        }
      ]
    },
    {
      "cell_type": "markdown",
      "source": [
        "##Método de Newton-Raphson"
      ],
      "metadata": {
        "id": "27IhjmOikn3l"
      }
    },
    {
      "cell_type": "code",
      "source": [
        "def function(x, dx=False):\n",
        "  if(dx):\n",
        "    f = lambda x: 3*x**2 - 9\n",
        "    return f(x) #derivada\n",
        "  f = lambda x: x**3 - 9*x + 3\n",
        "  return f(x) #f(x)\n",
        "  \n",
        "e = 0.000000001\n",
        "\n",
        "def newtonRaphson(x0):\n",
        "  k = 1\n",
        "  if(abs(function(x0)) < e):\n",
        "    return (x0, k);\n",
        "  x1 = x0 - (function(x0) / function(x0, True))\n",
        "\n",
        "  while True:\n",
        "    x1 = x0 - (function(x0) / function(x0, True))\n",
        "    if(abs(function(x1)) < e or abs(x1 - x0) < e):\n",
        "      return (x1, k)\n",
        "    x0 = x1\n",
        "    k += k\n",
        "\n",
        "print(newtonRaphson(0.5))\n",
        "\n",
        "\n",
        "\n",
        "\n",
        "'''func1 = newtonRaphson(f, -0.9)\n",
        "func2 = newtonRaphson(g, 1.9)\n",
        "func3 = newtonRaphson(h, 0.2)\n",
        "func4 = newtonRaphson(r, 1.2)\n",
        "func5 = newtonRaphson(s, 1.7)\n",
        "\n",
        "print(f'newtonRaphson --> x: {func1[0]}, k: {func1[1]}')\n",
        "print(f'newtonRaphson --> x: {func2[0]}, k: {func2[1]}')\n",
        "print(f'newtonRaphson --> x: {func3[0]}, k: {func3[1]}')\n",
        "print(f'newtonRaphson --> x: {func4[0]}, k: {func4[1]}')\n",
        "print(f'newtonRaphson --> x: {func5[0]}, k: {func5[1]}')'''"
      ],
      "metadata": {
        "id": "Cz4SEmoOkpIb",
        "colab": {
          "base_uri": "https://localhost:8080/",
          "height": 70
        },
        "outputId": "92ac9826-d1fa-4c25-e8af-33dd53e5462e"
      },
      "execution_count": null,
      "outputs": [
        {
          "output_type": "stream",
          "name": "stdout",
          "text": [
            "(0.3376089559653128, 4)\n"
          ]
        },
        {
          "output_type": "execute_result",
          "data": {
            "text/plain": [
              "\"func1 = newtonRaphson(f, -0.9)\\nfunc2 = newtonRaphson(g, 1.9)\\nfunc3 = newtonRaphson(h, 0.2)\\nfunc4 = newtonRaphson(r, 1.2)\\nfunc5 = newtonRaphson(s, 1.7)\\n\\nprint(f'newtonRaphson --> x: {func1[0]}, k: {func1[1]}')\\nprint(f'newtonRaphson --> x: {func2[0]}, k: {func2[1]}')\\nprint(f'newtonRaphson --> x: {func3[0]}, k: {func3[1]}')\\nprint(f'newtonRaphson --> x: {func4[0]}, k: {func4[1]}')\\nprint(f'newtonRaphson --> x: {func5[0]}, k: {func5[1]}')\""
            ],
            "application/vnd.google.colaboratory.intrinsic+json": {
              "type": "string"
            }
          },
          "metadata": {},
          "execution_count": 38
        }
      ]
    }
  ]
}