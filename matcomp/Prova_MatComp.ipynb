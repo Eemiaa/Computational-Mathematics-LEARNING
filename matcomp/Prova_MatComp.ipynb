{
  "nbformat": 4,
  "nbformat_minor": 0,
  "metadata": {
    "colab": {
      "provenance": []
    },
    "kernelspec": {
      "name": "python3",
      "display_name": "Python 3"
    },
    "language_info": {
      "name": "python"
    }
  },
  "cells": [
    {
      "cell_type": "markdown",
      "source": [
        "#**Precisão**"
      ],
      "metadata": {
        "id": "Ol0bKSNi_-0c"
      }
    },
    {
      "cell_type": "code",
      "source": [
        "#Exercício 02.1\n",
        "a = 1; s = int(input('Digite um valor: '))\n",
        "\n",
        "def precision(a, s):\n",
        "  \n",
        "  while s > 1:\n",
        "    a /= 2\n",
        "    s = 1 + a\n",
        "  \n",
        "  prec = 2*a\n",
        "  print(f'a: {a}, Precisão: {prec}')\n",
        "\n",
        "precision(a, s)"
      ],
      "metadata": {
        "id": "ngSOrXDh_-DD"
      },
      "execution_count": null,
      "outputs": []
    },
    {
      "cell_type": "code",
      "source": [
        "#Exercício 02.2\n",
        "a = 1; val = int(input('Digite um valor: '))\n",
        "\n",
        "def precision(a, val):\n",
        "  s = val + a\n",
        "\n",
        "  while s > val:\n",
        "    a /= 2\n",
        "    s = val + a\n",
        "\n",
        "  prec = 2*a\n",
        "  print(f'Referência: {val} -> Precisão: {prec}')\n",
        "\n",
        "precision(a, val)"
      ],
      "metadata": {
        "id": "HKYcgFHiAOVP"
      },
      "execution_count": null,
      "outputs": []
    },
    {
      "cell_type": "markdown",
      "source": [
        "#**Somatório**"
      ],
      "metadata": {
        "id": "FlBykVX1_qwv"
      }
    },
    {
      "cell_type": "code",
      "source": [
        "#Exercício 01\n",
        "\n",
        "n1 = 100000; x1 = 0.1\n",
        "n2 = 80000; x2 = 0.125\n",
        "\n",
        "\n",
        "def soma(n, x):\n",
        "  p = 0\n",
        "  for i in range(n):\n",
        "    p += x\n",
        "\n",
        "  s = abs(10000 - p) #absuluto\n",
        "  r = s/10000 #relativo\n",
        "  print(f'n = {n}, x= {x} --> Erro absoluto: {s}, Erro relativo: {r}')\n",
        "\n",
        "print('a) n = 100000, x = 0.1')\n",
        "soma(n1, x1)\n",
        "\n",
        "print('\\nb) n = 80000, x = 0.125')\n",
        "soma(n2, x2)"
      ],
      "metadata": {
        "id": "ISk-GKHq_qZi"
      },
      "execution_count": null,
      "outputs": []
    },
    {
      "cell_type": "markdown",
      "source": [
        "#**Serie de Taylor**"
      ],
      "metadata": {
        "id": "PN1pz8sr-02R"
      }
    },
    {
      "cell_type": "code",
      "source": [
        "#Exercício 03\n",
        "import math\n",
        "from math import factorial as fact\n",
        "\n",
        "def taylorSeries(n, x):\n",
        "  e = 0\n",
        "\n",
        "  if x < 0:\n",
        "    y = -x\n",
        "    for k in range(0, n+1):\n",
        "      e += (y**k)/fact(k)\n",
        "    return 1/e\n",
        "\n",
        "  else:\n",
        "    for k in range(0, n+1):\n",
        "      e += (x**k)/fact(k)\n",
        "    return e\n",
        "print(f'e = {taylorSeries(100, -15)}')"
      ],
      "metadata": {
        "id": "COSQLcbl-mIF"
      },
      "execution_count": null,
      "outputs": []
    },
    {
      "cell_type": "code",
      "source": [
        "#2\n",
        "def taylorSeriesModify(n, x, p='n'):\n",
        "  e = 0\n",
        "\n",
        "  if x < 0: #para valores de x negativos\n",
        "    y = -x\n",
        "    for k in range(0, n+1):\n",
        "      if k < 2:\n",
        "        e_previous = (y**k)/fact(k)\n",
        "        e += e_previous\n",
        "      else:\n",
        "        e_current = e_previous*(y/k)\n",
        "        if(e  + e_current == float('inf')):\n",
        "          return e\n",
        "        e += e_current\n",
        "        e_previous = e_current\n",
        "      if e == float('inf'):\n",
        "        break\n",
        "    return 1/e\n",
        "\n",
        "  else: #para valores de x positivos\n",
        "    for k in range(0, n+1):\n",
        "      if k < 2:\n",
        "        e_previous = (x**k)/fact(k)\n",
        "        e += e_previous\n",
        "      else:\n",
        "        e_current = e_previous*(x/k)\n",
        "        e += e_current\n",
        "        e_previous = e_current\n",
        "      if(p in 'sS'):\n",
        "        print(f'k: {k}, e: {e}')\n",
        "    return e"
      ],
      "metadata": {
        "id": "UjaISfck-n7o"
      },
      "execution_count": null,
      "outputs": []
    },
    {
      "cell_type": "code",
      "source": [
        "#3\n",
        "def taylorSeriesModify(n, x, p='n'):\n",
        "  e = 0\n",
        "\n",
        "  if x < 0: #para valores de x negativos\n",
        "    y = -x\n",
        "    for k in range(0, n+1):\n",
        "      if k < 2:\n",
        "        e_previous = (y**k)/fact(k)\n",
        "        e += e_previous\n",
        "      else:\n",
        "        e_current = e_previous*(y/k)\n",
        "        if(e  + e_current == float('inf')):\n",
        "          return e\n",
        "        e += e_current\n",
        "        e_previous = e_current\n",
        "      if e == float('inf'):\n",
        "        break\n",
        "    return 1/e\n",
        "\n",
        "  else: #para valores de x positivos\n",
        "    for k in range(0, n+1):\n",
        "      if k < 2:\n",
        "        e_previous = (x**k)/fact(k)\n",
        "        e += e_previous\n",
        "      else:\n",
        "        e_current = e_previous*(x/k)\n",
        "        if(e  + e_current == float('inf')): #ponto de parada\n",
        "          return k, e\n",
        "        e += e_current\n",
        "        e_previous = e_current\n",
        "      if(p in 'sS'):\n",
        "        print(f'k: {k}, e: {e}')\n",
        "    return k, e"
      ],
      "metadata": {
        "id": "LZY7Jlbm-vWz"
      },
      "execution_count": null,
      "outputs": []
    },
    {
      "cell_type": "markdown",
      "source": [
        "#**Funções Utilizadas**"
      ],
      "metadata": {
        "id": "g-TGVGjH88qs"
      }
    },
    {
      "cell_type": "code",
      "source": [
        "#import sympy as sy\n",
        "#import sympy as sy\n",
        "#x, y, z = sy.symbols('x y z')\n",
        "#sy.init_printing(use_unicode=True)\n",
        "import math\n",
        "\n",
        "\n",
        "f = lambda x: x**5 - 9*x + 2\n",
        "#f = lambda x: 2*x**9 + 5*x**7 + x\n",
        "#f_derivada = lambda x: 18*x**8 + 35*x**6\n",
        "g = lambda x: math.log10(x**2)\n",
        "#h = lambda x: 5**x * x\n",
        "r = lambda x: math.cos(x) * math.sin(x) * math.log10(x)\n",
        "s = lambda x: 5/x**3 - math.sqrt(x)\n",
        "\n",
        "def function(f, x):\n",
        "    return f(x)"
      ],
      "metadata": {
        "id": "lGO8ccUq87iW"
      },
      "execution_count": null,
      "outputs": []
    },
    {
      "cell_type": "markdown",
      "source": [
        "#**Localizar Raízes**"
      ],
      "metadata": {
        "id": "2Sauhf-g8ch8"
      }
    },
    {
      "cell_type": "code",
      "source": [
        "def findRoots(f, I=[-10, 10], step = 1):\n",
        "  if(len(I) > 2):\n",
        "    x = I\n",
        "  else:\n",
        "    x = []\n",
        "    for i in range(I[0], I[1]+1):\n",
        "      x.append(i)\n",
        "\n",
        "  y = []\n",
        "  for i in x:\n",
        "    y.append(f(i))\n",
        "  \n",
        "  for i in range(len(x)):\n",
        "    print(f'x: {x[i]}, y: {y[i]}')\n",
        "\n",
        "#findRoots(f, [-10, 10])\n",
        "#findRoots(g, [1, 10])\n",
        "#findRoots(h, [-5, 5])\n",
        "#findRoots(r, [1, 10])\n",
        "#findRoots(s, [1, 10])"
      ],
      "metadata": {
        "id": "5Vm4Bzem8r5Y"
      },
      "execution_count": null,
      "outputs": []
    },
    {
      "cell_type": "markdown",
      "source": [
        "#**Método da Bissecção**"
      ],
      "metadata": {
        "id": "jrAdGQci9DwE"
      }
    },
    {
      "cell_type": "code",
      "source": [
        "e = 0.000000001\n",
        "def bisection(f, I):\n",
        "  p = I[1] - I[0]\n",
        "  k = 0\n",
        "  while(abs(function(f, p)) > e):\n",
        "    p = (I[0]+I[1])/2\n",
        "\n",
        "    if(function(f, I[0])*function(f, p) < 0):\n",
        "      I[1] = p\n",
        "    else:\n",
        "      I[0] = p\n",
        "    k += 1\n",
        "\n",
        "  return (p, k, function(f, p))\n",
        "\n",
        "func1 = bisection(f, [-10, 10])\n",
        "print(f'Bissecção --> x: {func1[0]}, k: {func1[1]}, f(x): {func1[2]}')\n",
        "func2 = bisection(g, [-2, 0])\n",
        "print(func2)\n",
        "func3 = bisection(r, [1, 10])\n",
        "print(func3)"
      ],
      "metadata": {
        "id": "teR5CQgm9KjS",
        "colab": {
          "base_uri": "https://localhost:8080/"
        },
        "outputId": "9b5d78b7-9280-46f6-eb07-150a9238d85f"
      },
      "execution_count": null,
      "outputs": [
        {
          "output_type": "stream",
          "name": "stdout",
          "text": [
            "Bissecção --> x: -1.7836475850344868, k: 38, f(x): -1.9609203150139365e-10\n",
            "(-1.0, 1, 0.0)\n",
            "(6.283185307634994, 32, 3.6349742622719197e-10)\n"
          ]
        }
      ]
    },
    {
      "cell_type": "markdown",
      "source": [
        "#**Método do Ponto Fixo**"
      ],
      "metadata": {
        "id": "NvqcwjSrCRXP"
      }
    },
    {
      "cell_type": "code",
      "source": [
        "import math\n",
        "def fi(x):\n",
        "  return (x**5 + 2) / 9\n",
        "\n",
        "\n",
        "def mpf(x0, prec):\n",
        "  if abs(function(f,x0)) < prec:\n",
        "    res = function(f, x0)\n",
        "  \n",
        "  while True:\n",
        "    k = 1\n",
        "    x1 = fi(x0)\n",
        "\n",
        "    if abs(function(f, x1)) < prec or abs(x1 - x0) < prec:\n",
        "      res = x1\n",
        "      return [res, k]\n",
        "\n",
        "    x0 = x1\n",
        "    k += 1\n",
        "\n",
        "\n",
        "x0 = float(input(\"Digite o X0: \"))\n",
        "prec = 0.00001\n",
        "\n",
        "func1 = mpf(x0, prec)\n",
        "print(f'Ponto Fixo --> x: {func1[0]}, k: {func1[1]}')"
      ],
      "metadata": {
        "colab": {
          "base_uri": "https://localhost:8080/"
        },
        "id": "Wc-e0rKICRoc",
        "outputId": "cf20259b-1d8c-4222-dead-c98df36fab47"
      },
      "execution_count": null,
      "outputs": [
        {
          "output_type": "stream",
          "name": "stdout",
          "text": [
            "Digite o X0: 0\n",
            "Ponto Fixo --> x: 0.22228243586776333, k: 1\n"
          ]
        }
      ]
    },
    {
      "cell_type": "markdown",
      "source": [
        "#**Método de Secante**"
      ],
      "metadata": {
        "id": "d0qbMr-b9MgF"
      }
    },
    {
      "cell_type": "code",
      "source": [
        "e = 0.000000001\n",
        "def secante(f, x0, x1):\n",
        "  k = 1\n",
        "  if(abs(function(f, x0)) < e):\n",
        "    return (x0, k)\n",
        "  if(abs(function(f, x1)) < e or abs(x1 - x0) < e):\n",
        "    return (x1, k)\n",
        "  \n",
        "  while True:\n",
        "    x2 = x1 - ((function(f, x1))/(function(f, x1) - function(f, x0))) * (x1 - x0)\n",
        "\n",
        "    if(abs(function(f, x2)) < e or abs(x2 - x1) < e):\n",
        "      return (x2, k)\n",
        "    \n",
        "    x0 = x1\n",
        "    x1 = x2\n",
        "    k += 1\n",
        "\n",
        "func1 = secante(f, 1.9, 1.8)\n",
        "print(f'Secante --> x: {func1[0]}, k: {func1[1]}')\n",
        "func2 = secante(g, -1.3, -1.2)\n",
        "print(func2)"
      ],
      "metadata": {
        "id": "haNhl2NV9PLs",
        "colab": {
          "base_uri": "https://localhost:8080/"
        },
        "outputId": "a62e5dea-57b3-443e-ca60-b50af76ebdb1"
      },
      "execution_count": null,
      "outputs": [
        {
          "output_type": "stream",
          "name": "stdout",
          "text": [
            "Secante --> x: 1.6713621679510056, k: 6\n",
            "(-1.0000000000009641, 5)\n"
          ]
        }
      ]
    },
    {
      "cell_type": "markdown",
      "source": [
        "#**Método da Posição Falsa**"
      ],
      "metadata": {
        "id": "R0gkiZoX9YGQ"
      }
    },
    {
      "cell_type": "code",
      "source": [
        "e = 0.00000001\n",
        "def fpm(f, i):\n",
        "  k = 1\n",
        "  if((i[1] - i[0]) < e):\n",
        "    return (i[0], k)\n",
        "\n",
        "\n",
        "  M = function(f, i[0])\n",
        "  while True:\n",
        "    x = (i[0]*function(f, i[1]) - i[1]*function(f, i[0])) / (function(f, i[1]) - function(f, i[0]))\n",
        "\n",
        "    if(abs(function(f, x)) < e):\n",
        "      return (x, k)\n",
        "\n",
        "    if(M*function(f, x) > 0):\n",
        "      i[0] = x\n",
        "    else:\n",
        "      i[1] = x\n",
        "    \n",
        "    if((i[1] - i[0]) < e):\n",
        "      return (i[1], k)\n",
        "    \n",
        "    k += 1\n",
        "\n",
        "func1 = fpm(f, [1, 2])\n",
        "print(f'Posição Falsa --> x: {func1[0]}, k: {func1[1]}')\n",
        "func2 = fpm(g, [-2, 0.1])\n",
        "print(func2)"
      ],
      "metadata": {
        "id": "ekHJR9cg9YxC",
        "colab": {
          "base_uri": "https://localhost:8080/"
        },
        "outputId": "f525d4e9-9635-4060-9ea9-5de75976a3bc"
      },
      "execution_count": null,
      "outputs": [
        {
          "output_type": "stream",
          "name": "stdout",
          "text": [
            "Posição Falsa --> x: 1.6713621677808461, k: 24\n",
            "(-1.0000000065069183, 29)\n"
          ]
        }
      ]
    },
    {
      "cell_type": "markdown",
      "source": [
        "#**Método de Newton-Raphson**"
      ],
      "metadata": {
        "id": "Uo3T7kCw9iLC"
      }
    },
    {
      "cell_type": "code",
      "source": [
        "def function(x, dx=False):\n",
        "  if(dx):\n",
        "    f = lambda x: 5*x**4 - 9\n",
        "    return f(x) #derivada\n",
        "  f = lambda x: x**5 - 9*x + 2\n",
        "  return f(x) #f(x)\n",
        "  \n",
        "e = 0.000000001\n",
        "\n",
        "def newtonRaphson(x0):\n",
        "  k = 1\n",
        "  if(abs(function(x0)) < e):\n",
        "    return (x0, k);\n",
        "  x1 = x0 - (function(x0) / function(x0, True))\n",
        "\n",
        "  while True:\n",
        "    x1 = x0 - (function(x0) / function(x0, True))\n",
        "    if(abs(function(x1)) < e or abs(x1 - x0) < e):\n",
        "      return (x1, k)\n",
        "    x0 = x1\n",
        "    k += k\n",
        "\n",
        "func1 = newtonRaphson(2)\n",
        "print(f'Newton-Raphson --> x: {func1[0]}, k: {func1[1]}')"
      ],
      "metadata": {
        "colab": {
          "base_uri": "https://localhost:8080/"
        },
        "id": "OM-72EtmeU8o",
        "outputId": "52936e15-6d45-44e1-decd-c486f7914234"
      },
      "execution_count": null,
      "outputs": [
        {
          "output_type": "stream",
          "name": "stdout",
          "text": [
            "Newton-Raphson --> x: 1.6713621679510269, k: 16\n"
          ]
        }
      ]
    },
    {
      "cell_type": "code",
      "source": [
        "#Alternativo\n",
        "def function(boolean, x):\n",
        "  if(boolean):\n",
        "    return x**3 - 9*x + 3 #f(x)\n",
        "  return 3*x**2 - 9 #derivada de f(x)\n",
        "\n",
        "e = 0.000000001\n",
        "\n",
        "def newtonRaphson(f, x0):\n",
        "  k = 1\n",
        "  if(abs(function(f, x0)) < e):\n",
        "    return (x0, k);\n",
        "  x1 = x0 - (function(f, x0) / function(f, x0, True))\n",
        "\n",
        "  while True:\n",
        "    x1 = x0 - (function(f, x0) / function(f, x0, True))\n",
        "    if(abs(function(f, x1)) < e or abs(x1 - x0) < e):\n",
        "      return (x1, k)\n",
        "    x0 = x1\n",
        "    k += k"
      ],
      "metadata": {
        "id": "YEz51fFI9kic"
      },
      "execution_count": null,
      "outputs": []
    },
    {
      "cell_type": "code",
      "source": [
        "'''def differentiateFunction(x, function, dx = 0.00000001):\n",
        "  return (function(x + dx) - function(x)) / dx'''\n",
        "\n",
        "def function(f, x, boolean=False, dx = 0.00000001):\n",
        "  if(boolean):\n",
        "    return (f(x + dx) - f(x)) / dx #derivada\n",
        "  return f(x) #f(x)\n",
        "  \n",
        "e = 0.000000001\n",
        "\n",
        "def newtonRaphson(f, x0):\n",
        "  k = 1\n",
        "  if(abs(function(f, x0)) < e):\n",
        "    return (x0, k);\n",
        "  x1 = x0 - (function(f, x0) / function(f, x0, True))\n",
        "\n",
        "  while True:\n",
        "    x1 = x0 - (function(f, x0) / function(f, x0, True))\n",
        "    if(abs(function(f, x1)) < e or abs(x1 - x0) < e):\n",
        "      return (x1, k)\n",
        "    x0 = x1\n",
        "    k += k\n",
        "\n",
        "func1 = newtonRaphson(f, 2)\n",
        "print(f'Newton-Raphson --> x: {func1[0]}, k: {func1[1]}')\n",
        "func2 = newtonRaphson(g, -2)\n",
        "print(func2)\n",
        "func3 = newtonRaphson(r, 1.2)\n",
        "print(func3)\n",
        "func4 = newtonRaphson(s, 1.7)\n",
        "print(func4)"
      ],
      "metadata": {
        "colab": {
          "base_uri": "https://localhost:8080/"
        },
        "id": "5J7HQUjjmy-q",
        "outputId": "96ed07f9-d337-4a85-e148-51b7d6b714da"
      },
      "execution_count": null,
      "outputs": [
        {
          "output_type": "stream",
          "name": "stdout",
          "text": [
            "Newton-Raphson --> x: 1.6713621679510278, k: 16\n",
            "(-0.9999999999718856, 16)\n",
            "(0.9999999999988062, 16)\n",
            "(1.583819608766575, 8)\n"
          ]
        }
      ]
    },
    {
      "cell_type": "markdown",
      "source": [
        "#**Método de Gauss**"
      ],
      "metadata": {
        "id": "1Qt4InV04Rbu"
      }
    },
    {
      "cell_type": "code",
      "execution_count": null,
      "metadata": {
        "id": "tdtwduqT4AOO"
      },
      "outputs": [],
      "source": [
        "\"\"\"a = [[1, -3, 2],\n",
        "     [-2, 8, -1],\n",
        "     [4, -6, 5]]\n",
        "     \n",
        "b = [11, -15, 29]\"\"\"\n",
        "\n",
        "a = [[3, -4, 1],\n",
        "     [1, 2, 2],\n",
        "     [4, 0, -3]]\n",
        "\n",
        "b = [9, 3, -2]\n",
        "\n",
        "def gauss(matrix, b):\n",
        "  n = len(matrix)\n",
        "\n",
        "  for k in range(0, n-1):\n",
        "    for i in range(k+1, n):\n",
        "      m = matrix[i][k]/matrix[k][k]\n",
        "      matrix[i][k] = 0\n",
        "      for j in range(k+1, n):\n",
        "        matrix[i][j] -= m*matrix[k][j]\n",
        "      b[i] -= m*b[k] \n",
        "\n",
        "  x = n * [0]\n",
        "  for k in range(n-1, -1, -1):\n",
        "    s = 0\n",
        "    for j in range(k+1, n):\n",
        "      s += matrix[k][j] * x[j]\n",
        "    x[k] = (b[k] - s) / matrix[k][k]\n",
        "\n",
        "  \n",
        "  for i in matrix:\n",
        "    print(i)\n",
        "\n",
        "  print(f\"\\nx: {x}\")\n",
        "    \n",
        "gauss(a,b)"
      ]
    },
    {
      "cell_type": "markdown",
      "source": [
        "#**Fatoração LU**"
      ],
      "metadata": {
        "id": "-xgpjtfD4XBx"
      }
    },
    {
      "cell_type": "code",
      "source": [
        "a = [[3, -4, 1],\n",
        "     [1, 2, 2],\n",
        "     [4, 0, -3]]\n",
        "\n",
        "b = [9, 3, -2]\n",
        "\n",
        "def magalu(matrix, b):\n",
        "  n = len(matrix)\n",
        "\n",
        "  p = []\n",
        "  for i in range(0, n):\n",
        "    p.append(i)\n",
        "  \n",
        "  for k in range(0, n-1):\n",
        "    pv = abs(matrix[k][k])\n",
        "    r = k\n",
        "    for i in range(k+1, n):\n",
        "      if abs(matrix[i][k]) > pv:\n",
        "        pv = abs(matrix[i][k])\n",
        "        r = i\n",
        "\n",
        "    if pv == 0:\n",
        "      print(\"A matrix é singular!\")\n",
        "      return\n",
        "    if r != k:\n",
        "      aux = p[k]\n",
        "      p[k] = p[r]\n",
        "      p[r] = aux\n",
        "      for j in range(0, n):\n",
        "        aux = matrix[k][j]\n",
        "        matrix[k][j] = matrix[r][j]\n",
        "        matrix[r][j] = aux\n",
        "\n",
        "    for i in range(k+1, n):\n",
        "      m = matrix[i][k]/matrix[k][k]\n",
        "      matrix[i][k] = m\n",
        "      for j in range(k+1, n):\n",
        "        matrix[i][j] -= m*matrix[k][j]\n",
        "\n",
        "\n",
        "  c = n * [0]\n",
        "  for i in range(0, n):\n",
        "    r = p[i]\n",
        "    c[i] = b[r]\n",
        "\n",
        "  y = n * [0]\n",
        "  for i in range(0, n):\n",
        "    soma = 0\n",
        "    for j in range(0, i):\n",
        "      soma += matrix[i][j]*y[j]\n",
        "    y[i] = (c[i] - soma)\n",
        "\n",
        "  x = n * [0]\n",
        "  for i in range(n-1, -1, -1):\n",
        "    soma = 0\n",
        "    for j in range(i+1, n):\n",
        "      soma += matrix[i][j]*x[j]\n",
        "    x[i] = (y[i] - soma)/matrix[i][i]\n",
        "\n",
        "  for k in matrix:\n",
        "    print(k)\n",
        "  print('\\n')\n",
        "  print(f\"y: {y}\")\n",
        "  print(f\"x: {x}\")\n",
        "\n",
        "\n",
        "magalu(a, b)"
      ],
      "metadata": {
        "id": "knG1OkbG4c5D"
      },
      "execution_count": null,
      "outputs": []
    },
    {
      "cell_type": "markdown",
      "source": [
        "#**Gauss-Jacobi**"
      ],
      "metadata": {
        "id": "_0cdxoq_4kA9"
      }
    },
    {
      "cell_type": "code",
      "source": [
        "import numpy as np\n",
        "from numpy.linalg import solve\n",
        "\n",
        "def jacobi(A,b,n):\n",
        "  x = len(A) * [0]\n",
        "  D = np.diag(A)\n",
        "  R = A-np.diagflat(D)\n",
        "  for i in range(n):\n",
        "    x = (b-np.dot(R,x))/D\n",
        "  return x\n",
        "\n",
        "#print(solve(A,b))\n",
        "'''A = np.array([[3, -4, 1],\n",
        "     [1, 2, 2],\n",
        "     [4, 0, -3]])\n",
        "b = [9, 3, -2]'''\n",
        "\n",
        "A = np.array([[4,1,2], [3,5,1], [1,1,3]])\n",
        "b = [4,7,3]\n",
        "n = 25\n",
        "print(jacobi(A,b,n))\n",
        "print(solve(A,b))"
      ],
      "metadata": {
        "colab": {
          "base_uri": "https://localhost:8080/"
        },
        "id": "Tux_Jfz24qkD",
        "outputId": "695ac62a-4ff6-44fb-d7bd-e433d5d293fe"
      },
      "execution_count": null,
      "outputs": [
        {
          "output_type": "stream",
          "name": "stdout",
          "text": [
            "[0.50030249 1.0003236  0.50028352]\n",
            "[0.5 1.  0.5]\n"
          ]
        }
      ]
    },
    {
      "cell_type": "code",
      "source": [
        "def criterio_linhas(A):\n",
        "    swap = np.copy(A)\n",
        "    b = np.diag(A)\n",
        "    A = A - np.diagflat(b)\n",
        "    x = np.ones(b.size)\n",
        "    permutation = b.size**2\n",
        "    acc = True\n",
        "    \n",
        "    while(acc and permutation > 0):\n",
        "        for i in range(b.size):\n",
        "            x[i] = np.sum(A[i])/b[i]\n",
        "        \n",
        "        if(np.amax(x) < 1): acc = False\n",
        "        else:\n",
        "            permutation = permutation-1\n",
        "            swap = np.random.permutation(swap)\n",
        "            A = np.copy(swap)\n",
        "            b = np.diag(A)\n",
        "            A = A - np.diagflat(b)\n",
        "    \n",
        "    return np.amax(x)\n",
        "\n",
        "#Matriz A, Matriz b dos termos independentes e N o número de iterações e o erro\n",
        "def jacobi(A, b, N, chute, erro = 0.00000001):\n",
        "    if(criterio_linhas(A) > 1):\n",
        "        print(\"O sistema não converge para o método de Jacobi\")\n",
        "        return\n",
        "    \n",
        "    x = np.diag(A) #recebe um vetor contendo a diagonal principal\n",
        "    A = A - np.diagflat(x) #Zera a diagonal principal de A\n",
        "    \n",
        "    #Para dividir todos os valores da matriz A pelos termos independentes\n",
        "    for i in range(x.size):\n",
        "        A[i] = A[i]/x[i]\n",
        "        b[i] = b[i]/x[i]\n",
        "\n",
        "    x = np.copy(chute)\n",
        "    swap = np.zeros(x.size)\n",
        "    \n",
        "    A = A*-1\n",
        "    \n",
        "    for stop in range(N):\n",
        "        for i in range(x.size):\n",
        "            swap[i] = np.sum((A[i]*x))+(b[i])\n",
        "        #Cálculo da tolerância ou erro\n",
        "        print(f\"Iteração {stop}: {swap}\")\n",
        "        if((np.linalg.norm(swap) - np.linalg.norm(x)) < erro): return swap\n",
        "        x = np.copy(swap)\n",
        "\n",
        "    return x\n",
        "\n",
        "'''A = np.array([[3, -4, 1],\n",
        "     [1, 2, 2],\n",
        "     [4, 0, -3]])\n",
        "b = [9, 3, -2]\n",
        "x= [1, 1, 1]'''\n",
        "\n",
        "\n",
        "A = np.array([[4,1,2], [3,5,1], [1,1,3]])\n",
        "b = [4,7,3]\n",
        "print(solve(A,b))\n",
        "x = [1, 1, 1]\n",
        "n = 1\n",
        "print(jacobi(A, b, n, x))"
      ],
      "metadata": {
        "colab": {
          "base_uri": "https://localhost:8080/"
        },
        "id": "NggyfaTZ4yu4",
        "outputId": "3469b97e-05f4-4db3-e429-55dbe12261fe"
      },
      "execution_count": null,
      "outputs": [
        {
          "output_type": "stream",
          "name": "stdout",
          "text": [
            "[0.5 1.  0.5]\n",
            "Iteração 0: [1.  1.4 1. ]\n",
            "[1.  1.4 1. ]\n"
          ]
        }
      ]
    },
    {
      "cell_type": "markdown",
      "source": [
        "#**Gauss-Seidel**"
      ],
      "metadata": {
        "id": "ogeue7H341Bn"
      }
    },
    {
      "cell_type": "code",
      "source": [
        "def update_solution(\n",
        "    coefficient_matrix, solution_vector, constant_vector\n",
        "):\n",
        "    \"\"\"\n",
        "    Function to update the solution\n",
        "    :param coefficient_matrix: list, Coefficient Matrix\n",
        "    :param solution_vector: list, Solution Vector\n",
        "    :param constant_vector: list, Constant Vector\n",
        "    :return: list, Updated Solution Vector\n",
        "    Example:\n",
        "a = [[10, -1, 2, 0], [-1, 11, -1, 3], [2, -1, 10, -1], [0, 3, -1, 8]]\n",
        "    >>> x = [0, 0, 0, 0]\n",
        "    >>> b = [6, 25, -11, 15]\n",
        "    >>> update_solution(a, x, b)\n",
        "    [0.6, 2.3272727272727276, -0.9872727272727271, 0.8788636363636363]\n",
        "    \"\"\"\n",
        "    n = len(coefficient_matrix)  # number of variables\n",
        "    for i in range(0, n):\n",
        "        # Update each variable\n",
        "        d = constant_vector[i]\n",
        "        for j in range(0, n):\n",
        "            if i != j:\n",
        "                d -= coefficient_matrix[i][j] * solution_vector[j]\n",
        "        solution_vector[i] = d / coefficient_matrix[i][i]\n",
        "    return solution_vector\n",
        "\n",
        "def gauss_seidel(\n",
        "    coefficient_matrix,\n",
        "    solution_vector,\n",
        "    constant_vector,\n",
        "    maximum_iterations,\n",
        "):\n",
        "    \"\"\"\n",
        "    Function to perform Gauss Seidel Iteration\n",
        "    :param coefficient_matrix: list, Coefficient Matrix\n",
        "    :param solution_vector: list, Solution Vector\n",
        "    :param constant_vector: list, Constant Vector\n",
        "    :param maximum_iterations: int, Maximum Iterations\n",
        "    :return: None\n",
        "    Example:\n",
        "a = [[10, -1, 2, 0], [-1, 11, -1, 3], [2, -1, 10, -1], [0, 3, -1, 8]]\n",
        "    >>> x = [0, 0, 0, 0]\n",
        "    >>> b = [6, 25, -11, 15]\n",
        "    >>> gauss_seidel(a, x, b, 100)\n",
        "    [1.0, 2.0, -1.0, 1.0]\n",
        "    \"\"\"\n",
        "\n",
        "    for i in range(0, maximum_iterations):\n",
        "        solution_vector = update_solution(\n",
        "            coefficient_matrix, solution_vector, constant_vector\n",
        "        )\n",
        "        # print(\"Iteration {}: {}\".format(i, x))\n",
        "    return solution_vector\n",
        "\n",
        "# a = [[10, -1, 2, 0], [-1, 11, -1, 3], [2, -1, 10, -1], [0, 3, -1, 8]]\n",
        "# x = [0, 0, 0, 0]\n",
        "# b = [6, 25, -11, 15]\n",
        "'''A = np.array([[3, -4, 1],\n",
        "     [1, 2, 2],\n",
        "     [4, 0, -3]])'''\n",
        "#b = [4,7,3]\n",
        "\n",
        "a = [[4,1,2], [3,5,1], [1,1,3]]\n",
        "x = [0, 0, 0]\n",
        "b = [4,7,3]\n",
        "n = 25\n",
        "print(gauss_seidel(a, x, b, 100))"
      ],
      "metadata": {
        "colab": {
          "base_uri": "https://localhost:8080/"
        },
        "id": "_-y9QRLQ43I5",
        "outputId": "ec9d0a69-55d4-404a-c780-14d25fe69925"
      },
      "execution_count": null,
      "outputs": [
        {
          "output_type": "stream",
          "name": "stdout",
          "text": [
            "[0.5, 1.0, 0.5]\n"
          ]
        }
      ]
    },
    {
      "cell_type": "code",
      "source": [
        "def differentiateFunction(x, f, dx = 0.00000001):\n",
        "  return (f(x + dx) - f(x)) / dx\n",
        "\n",
        "print(differentiateFunction(1, lambda x: (2**x) + 1))"
      ],
      "metadata": {
        "colab": {
          "base_uri": "https://localhost:8080/"
        },
        "id": "rGKjMDdJmSsY",
        "outputId": "a376b8d6-a339-43a3-9196-4d14a83b4284"
      },
      "execution_count": null,
      "outputs": [
        {
          "output_type": "stream",
          "name": "stdout",
          "text": [
            "1.3862943681886009\n"
          ]
        }
      ]
    }
  ]
}